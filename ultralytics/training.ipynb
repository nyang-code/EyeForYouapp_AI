{
 "cells": [
  {
   "cell_type": "code",
   "execution_count": 1,
   "metadata": {},
   "outputs": [],
   "source": [
    "from ultralytics import YOLO\n",
    "import os"
   ]
  },
  {
   "cell_type": "code",
   "execution_count": null,
   "metadata": {},
   "outputs": [],
   "source": []
  },
  {
   "cell_type": "code",
   "execution_count": 4,
   "metadata": {},
   "outputs": [
    {
     "name": "stdout",
     "output_type": "stream",
     "text": [
      "New https://pypi.org/project/ultralytics/8.2.3 available 😃 Update with 'pip install -U ultralytics'\n",
      "Ultralytics YOLOv8.1.45 🚀 Python-3.8.18 torch-2.2.1 CUDA:2 (NVIDIA GeForce RTX 3090, 24268MiB)\n",
      "\u001b[34m\u001b[1mengine/trainer: \u001b[0mtask=detect, mode=train, model=yolov8n.pt, data=data.yaml, epochs=50, time=None, patience=100, batch=16, imgsz=640, save=True, save_period=-1, cache=False, device=2, workers=8, project=None, name=train13, exist_ok=False, pretrained=True, optimizer=auto, verbose=True, seed=0, deterministic=True, single_cls=False, rect=False, cos_lr=False, close_mosaic=10, resume=False, amp=True, fraction=1.0, profile=False, freeze=None, multi_scale=False, overlap_mask=True, mask_ratio=4, dropout=0.0, val=True, split=val, save_json=False, save_hybrid=False, conf=None, iou=0.7, max_det=300, half=False, dnn=False, plots=True, source=None, vid_stride=1, stream_buffer=False, visualize=False, augment=False, agnostic_nms=False, classes=None, retina_masks=False, embed=None, show=False, save_frames=False, save_txt=False, save_conf=False, save_crop=False, show_labels=True, show_conf=True, show_boxes=True, line_width=None, format=torchscript, keras=False, optimize=False, int8=False, dynamic=False, simplify=False, opset=None, workspace=4, nms=False, lr0=0.01, lrf=0.01, momentum=0.937, weight_decay=0.0005, warmup_epochs=3.0, warmup_momentum=0.8, warmup_bias_lr=0.1, box=7.5, cls=0.5, dfl=1.5, pose=12.0, kobj=1.0, label_smoothing=0.0, nbs=64, hsv_h=0.015, hsv_s=0.7, hsv_v=0.4, degrees=0.0, translate=0.1, scale=0.5, shear=0.0, perspective=0.0, flipud=0.0, fliplr=0.5, bgr=0.0, mosaic=1.0, mixup=0.0, copy_paste=0.0, auto_augment=randaugment, erasing=0.4, crop_fraction=1.0, cfg=None, tracker=botsort.yaml, save_dir=/data/medical_project/QCPR/ultralytics/runs/detect/train13\n",
      "Overriding model.yaml nc=80 with nc=1044\n",
      "\n",
      "                   from  n    params  module                                       arguments                     \n",
      "  0                  -1  1       464  ultralytics.nn.modules.conv.Conv             [3, 16, 3, 2]                 \n",
      "  1                  -1  1      4672  ultralytics.nn.modules.conv.Conv             [16, 32, 3, 2]                \n",
      "  2                  -1  1      7360  ultralytics.nn.modules.block.C2f             [32, 32, 1, True]             \n",
      "  3                  -1  1     18560  ultralytics.nn.modules.conv.Conv             [32, 64, 3, 2]                \n",
      "  4                  -1  2     49664  ultralytics.nn.modules.block.C2f             [64, 64, 2, True]             \n",
      "  5                  -1  1     73984  ultralytics.nn.modules.conv.Conv             [64, 128, 3, 2]               \n",
      "  6                  -1  2    197632  ultralytics.nn.modules.block.C2f             [128, 128, 2, True]           \n",
      "  7                  -1  1    295424  ultralytics.nn.modules.conv.Conv             [128, 256, 3, 2]              \n",
      "  8                  -1  1    460288  ultralytics.nn.modules.block.C2f             [256, 256, 1, True]           \n",
      "  9                  -1  1    164608  ultralytics.nn.modules.block.SPPF            [256, 256, 5]                 \n",
      " 10                  -1  1         0  torch.nn.modules.upsampling.Upsample         [None, 2, 'nearest']          \n",
      " 11             [-1, 6]  1         0  ultralytics.nn.modules.conv.Concat           [1]                           \n",
      " 12                  -1  1    148224  ultralytics.nn.modules.block.C2f             [384, 128, 1]                 \n",
      " 13                  -1  1         0  torch.nn.modules.upsampling.Upsample         [None, 2, 'nearest']          \n",
      " 14             [-1, 4]  1         0  ultralytics.nn.modules.conv.Concat           [1]                           \n",
      " 15                  -1  1     37248  ultralytics.nn.modules.block.C2f             [192, 64, 1]                  \n",
      " 16                  -1  1     36992  ultralytics.nn.modules.conv.Conv             [64, 64, 3, 2]                \n",
      " 17            [-1, 12]  1         0  ultralytics.nn.modules.conv.Concat           [1]                           \n",
      " 18                  -1  1    123648  ultralytics.nn.modules.block.C2f             [192, 128, 1]                 \n",
      " 19                  -1  1    147712  ultralytics.nn.modules.conv.Conv             [128, 128, 3, 2]              \n",
      " 20             [-1, 9]  1         0  ultralytics.nn.modules.conv.Concat           [1]                           \n",
      " 21                  -1  1    493056  ultralytics.nn.modules.block.C2f             [384, 256, 1]                 \n",
      " 22        [15, 18, 21]  1   1372636  ultralytics.nn.modules.head.Detect           [1044, [64, 128, 256]]        \n",
      "Model summary: 225 layers, 3632172 parameters, 3632156 gradients, 11.3 GFLOPs\n",
      "\n",
      "Transferred 319/355 items from pretrained weights\n",
      "Freezing layer 'model.22.dfl.conv.weight'\n",
      "\u001b[34m\u001b[1mAMP: \u001b[0mrunning Automatic Mixed Precision (AMP) checks with YOLOv8n...\n",
      "\u001b[34m\u001b[1mAMP: \u001b[0mchecks passed ✅\n"
     ]
    },
    {
     "name": "stderr",
     "output_type": "stream",
     "text": [
      "\u001b[34m\u001b[1mtrain: \u001b[0mScanning /data/duck/cap/data/background_mix/train/labels... 59991 images, 497 backgrounds, 0 corrupt: 100%|██████████| 60488/60488 [00:55<00:00, 1097.87it/s]\n"
     ]
    },
    {
     "name": "stdout",
     "output_type": "stream",
     "text": [
      "\u001b[34m\u001b[1mtrain: \u001b[0mNew cache created: /data/duck/cap/data/background_mix/train/labels.cache\n"
     ]
    },
    {
     "name": "stderr",
     "output_type": "stream",
     "text": [
      "\u001b[34m\u001b[1mval: \u001b[0mScanning /data/duck/cap/data/background_mix/val/labels... 7854 images, 56 backgrounds, 0 corrupt: 100%|██████████| 7910/7910 [00:07<00:00, 1114.49it/s]\n"
     ]
    },
    {
     "name": "stdout",
     "output_type": "stream",
     "text": [
      "\u001b[34m\u001b[1mval: \u001b[0mNew cache created: /data/duck/cap/data/background_mix/val/labels.cache\n",
      "Plotting labels to /data/medical_project/QCPR/ultralytics/runs/detect/train13/labels.jpg... \n",
      "\u001b[34m\u001b[1moptimizer:\u001b[0m 'optimizer=auto' found, ignoring 'lr0=0.01' and 'momentum=0.937' and determining best 'optimizer', 'lr0' and 'momentum' automatically... \n",
      "\u001b[34m\u001b[1moptimizer:\u001b[0m SGD(lr=0.01, momentum=0.9) with parameter groups 57 weight(decay=0.0), 64 weight(decay=0.0005), 63 bias(decay=0.0)\n",
      "Image sizes 640 train, 640 val\n",
      "Using 8 dataloader workers\n",
      "Logging results to \u001b[1m/data/medical_project/QCPR/ultralytics/runs/detect/train13\u001b[0m\n",
      "Starting training for 50 epochs...\n",
      "\n",
      "      Epoch    GPU_mem   box_loss   cls_loss   dfl_loss  Instances       Size\n"
     ]
    },
    {
     "name": "stderr",
     "output_type": "stream",
     "text": [
      "       1/50      7.73G      0.389       5.44      1.033         14        640: 100%|██████████| 3781/3781 [11:16<00:00,  5.59it/s]\n",
      "                 Class     Images  Instances      Box(P          R      mAP50  mAP50-95): 100%|██████████| 248/248 [00:43<00:00,  5.68it/s]\n"
     ]
    },
    {
     "name": "stdout",
     "output_type": "stream",
     "text": [
      "                   all       7910       7854    0.00211      0.485    0.00776    0.00695\n",
      "\n",
      "      Epoch    GPU_mem   box_loss   cls_loss   dfl_loss  Instances       Size\n"
     ]
    },
    {
     "name": "stderr",
     "output_type": "stream",
     "text": [
      "       2/50      7.79G     0.3801       4.14     0.9886         19        640: 100%|██████████| 3781/3781 [11:27<00:00,  5.50it/s]\n",
      "                 Class     Images  Instances      Box(P          R      mAP50  mAP50-95): 100%|██████████| 248/248 [00:42<00:00,  5.81it/s]\n"
     ]
    },
    {
     "name": "stdout",
     "output_type": "stream",
     "text": [
      "                   all       7910       7854      0.606      0.218      0.231      0.227\n",
      "\n",
      "      Epoch    GPU_mem   box_loss   cls_loss   dfl_loss  Instances       Size\n"
     ]
    },
    {
     "name": "stderr",
     "output_type": "stream",
     "text": [
      "       3/50      7.77G     0.3721      3.054     0.9763         21        640: 100%|██████████| 3781/3781 [10:58<00:00,  5.74it/s]\n",
      "                 Class     Images  Instances      Box(P          R      mAP50  mAP50-95): 100%|██████████| 248/248 [00:41<00:00,  5.97it/s]\n"
     ]
    },
    {
     "name": "stdout",
     "output_type": "stream",
     "text": [
      "                   all       7910       7854      0.534      0.599      0.638      0.628\n",
      "\n",
      "      Epoch    GPU_mem   box_loss   cls_loss   dfl_loss  Instances       Size\n"
     ]
    },
    {
     "name": "stderr",
     "output_type": "stream",
     "text": [
      "       4/50      7.74G      0.346      2.333     0.9625         20        640: 100%|██████████| 3781/3781 [11:31<00:00,  5.47it/s]\n",
      "                 Class     Images  Instances      Box(P          R      mAP50  mAP50-95): 100%|██████████| 248/248 [00:41<00:00,  5.99it/s]\n"
     ]
    },
    {
     "name": "stdout",
     "output_type": "stream",
     "text": [
      "                   all       7910       7854       0.69      0.785      0.861       0.85\n",
      "\n",
      "      Epoch    GPU_mem   box_loss   cls_loss   dfl_loss  Instances       Size\n"
     ]
    },
    {
     "name": "stderr",
     "output_type": "stream",
     "text": [
      "       5/50      7.74G     0.3138      1.717     0.9503         22        640: 100%|██████████| 3781/3781 [11:20<00:00,  5.56it/s]\n",
      "                 Class     Images  Instances      Box(P          R      mAP50  mAP50-95): 100%|██████████| 248/248 [00:41<00:00,  5.99it/s]\n"
     ]
    },
    {
     "name": "stdout",
     "output_type": "stream",
     "text": [
      "                   all       7910       7854      0.781      0.852      0.914      0.904\n",
      "\n",
      "      Epoch    GPU_mem   box_loss   cls_loss   dfl_loss  Instances       Size\n"
     ]
    },
    {
     "name": "stderr",
     "output_type": "stream",
     "text": [
      "       6/50      7.74G     0.2963      1.389     0.9418         22        640: 100%|██████████| 3781/3781 [10:53<00:00,  5.78it/s]\n",
      "                 Class     Images  Instances      Box(P          R      mAP50  mAP50-95): 100%|██████████| 248/248 [00:41<00:00,  6.03it/s]\n"
     ]
    },
    {
     "name": "stdout",
     "output_type": "stream",
     "text": [
      "                   all       7910       7854      0.816      0.906      0.943      0.933\n",
      "\n",
      "      Epoch    GPU_mem   box_loss   cls_loss   dfl_loss  Instances       Size\n"
     ]
    },
    {
     "name": "stderr",
     "output_type": "stream",
     "text": [
      "       7/50      7.74G     0.2872      1.206     0.9384         21        640: 100%|██████████| 3781/3781 [11:11<00:00,  5.63it/s]\n",
      "                 Class     Images  Instances      Box(P          R      mAP50  mAP50-95): 100%|██████████| 248/248 [00:41<00:00,  5.94it/s]\n"
     ]
    },
    {
     "name": "stdout",
     "output_type": "stream",
     "text": [
      "                   all       7910       7854       0.85      0.922      0.954      0.944\n",
      "\n",
      "      Epoch    GPU_mem   box_loss   cls_loss   dfl_loss  Instances       Size\n"
     ]
    },
    {
     "name": "stderr",
     "output_type": "stream",
     "text": [
      "       8/50      7.73G     0.2804      1.095     0.9353         18        640: 100%|██████████| 3781/3781 [11:09<00:00,  5.65it/s]\n",
      "                 Class     Images  Instances      Box(P          R      mAP50  mAP50-95): 100%|██████████| 248/248 [00:41<00:00,  6.01it/s]\n"
     ]
    },
    {
     "name": "stdout",
     "output_type": "stream",
     "text": [
      "                   all       7910       7854      0.879      0.936      0.964      0.954\n",
      "\n",
      "      Epoch    GPU_mem   box_loss   cls_loss   dfl_loss  Instances       Size\n"
     ]
    },
    {
     "name": "stderr",
     "output_type": "stream",
     "text": [
      "       9/50      7.74G     0.2738       1.01     0.9323         23        640: 100%|██████████| 3781/3781 [11:20<00:00,  5.55it/s]\n",
      "                 Class     Images  Instances      Box(P          R      mAP50  mAP50-95): 100%|██████████| 248/248 [00:41<00:00,  5.98it/s]\n"
     ]
    },
    {
     "name": "stdout",
     "output_type": "stream",
     "text": [
      "                   all       7910       7854      0.886      0.944       0.97       0.96\n",
      "\n",
      "      Epoch    GPU_mem   box_loss   cls_loss   dfl_loss  Instances       Size\n"
     ]
    },
    {
     "name": "stderr",
     "output_type": "stream",
     "text": [
      "      10/50      7.74G     0.2699     0.9503     0.9295         22        640: 100%|██████████| 3781/3781 [11:24<00:00,  5.53it/s]\n",
      "                 Class     Images  Instances      Box(P          R      mAP50  mAP50-95): 100%|██████████| 248/248 [00:41<00:00,  6.00it/s]\n"
     ]
    },
    {
     "name": "stdout",
     "output_type": "stream",
     "text": [
      "                   all       7910       7854      0.896      0.953      0.975      0.965\n",
      "\n",
      "      Epoch    GPU_mem   box_loss   cls_loss   dfl_loss  Instances       Size\n"
     ]
    },
    {
     "name": "stderr",
     "output_type": "stream",
     "text": [
      "      11/50      7.74G     0.2644      0.898     0.9275         18        640: 100%|██████████| 3781/3781 [11:05<00:00,  5.68it/s]\n",
      "                 Class     Images  Instances      Box(P          R      mAP50  mAP50-95): 100%|██████████| 248/248 [00:41<00:00,  6.02it/s]\n"
     ]
    },
    {
     "name": "stdout",
     "output_type": "stream",
     "text": [
      "                   all       7910       7854      0.901      0.958      0.978      0.968\n",
      "\n",
      "      Epoch    GPU_mem   box_loss   cls_loss   dfl_loss  Instances       Size\n"
     ]
    },
    {
     "name": "stderr",
     "output_type": "stream",
     "text": [
      "      12/50      7.73G     0.2622     0.8534     0.9272         16        640: 100%|██████████| 3781/3781 [11:02<00:00,  5.70it/s]\n",
      "                 Class     Images  Instances      Box(P          R      mAP50  mAP50-95): 100%|██████████| 248/248 [00:41<00:00,  6.03it/s]\n"
     ]
    },
    {
     "name": "stdout",
     "output_type": "stream",
     "text": [
      "                   all       7910       7854      0.914      0.955      0.978      0.969\n",
      "\n",
      "      Epoch    GPU_mem   box_loss   cls_loss   dfl_loss  Instances       Size\n"
     ]
    },
    {
     "name": "stderr",
     "output_type": "stream",
     "text": [
      "      13/50      7.74G     0.2587     0.8227     0.9257         21        640: 100%|██████████| 3781/3781 [11:03<00:00,  5.70it/s]\n",
      "                 Class     Images  Instances      Box(P          R      mAP50  mAP50-95): 100%|██████████| 248/248 [00:41<00:00,  6.03it/s]\n"
     ]
    },
    {
     "name": "stdout",
     "output_type": "stream",
     "text": [
      "                   all       7910       7854      0.916      0.958       0.98       0.97\n",
      "\n",
      "      Epoch    GPU_mem   box_loss   cls_loss   dfl_loss  Instances       Size\n"
     ]
    },
    {
     "name": "stderr",
     "output_type": "stream",
     "text": [
      "      14/50      7.74G     0.2557     0.7923     0.9248         20        640: 100%|██████████| 3781/3781 [11:02<00:00,  5.71it/s]\n",
      "                 Class     Images  Instances      Box(P          R      mAP50  mAP50-95): 100%|██████████| 248/248 [00:41<00:00,  6.02it/s]\n"
     ]
    },
    {
     "name": "stdout",
     "output_type": "stream",
     "text": [
      "                   all       7910       7854      0.921       0.96      0.981      0.971\n",
      "\n",
      "      Epoch    GPU_mem   box_loss   cls_loss   dfl_loss  Instances       Size\n"
     ]
    },
    {
     "name": "stderr",
     "output_type": "stream",
     "text": [
      "      15/50      7.74G      0.253     0.7594     0.9233         15        640: 100%|██████████| 3781/3781 [11:16<00:00,  5.59it/s]\n",
      "                 Class     Images  Instances      Box(P          R      mAP50  mAP50-95): 100%|██████████| 248/248 [00:42<00:00,  5.90it/s]\n"
     ]
    },
    {
     "name": "stdout",
     "output_type": "stream",
     "text": [
      "                   all       7910       7854      0.926       0.96      0.981      0.972\n",
      "\n",
      "      Epoch    GPU_mem   box_loss   cls_loss   dfl_loss  Instances       Size\n"
     ]
    },
    {
     "name": "stderr",
     "output_type": "stream",
     "text": [
      "      16/50      7.73G       0.25     0.7362     0.9215         14        640: 100%|██████████| 3781/3781 [11:16<00:00,  5.59it/s]\n",
      "                 Class     Images  Instances      Box(P          R      mAP50  mAP50-95): 100%|██████████| 248/248 [00:41<00:00,  5.98it/s]\n"
     ]
    },
    {
     "name": "stdout",
     "output_type": "stream",
     "text": [
      "                   all       7910       7854      0.933      0.958      0.982      0.973\n",
      "\n",
      "      Epoch    GPU_mem   box_loss   cls_loss   dfl_loss  Instances       Size\n"
     ]
    },
    {
     "name": "stderr",
     "output_type": "stream",
     "text": [
      "      17/50      7.74G     0.2492     0.7181     0.9218         16        640: 100%|██████████| 3781/3781 [11:20<00:00,  5.56it/s]\n",
      "                 Class     Images  Instances      Box(P          R      mAP50  mAP50-95): 100%|██████████| 248/248 [00:41<00:00,  5.99it/s]\n"
     ]
    },
    {
     "name": "stdout",
     "output_type": "stream",
     "text": [
      "                   all       7910       7854      0.937      0.958      0.982      0.973\n",
      "\n",
      "      Epoch    GPU_mem   box_loss   cls_loss   dfl_loss  Instances       Size\n"
     ]
    },
    {
     "name": "stderr",
     "output_type": "stream",
     "text": [
      "      18/50      7.74G      0.245     0.7007     0.9201         18        640: 100%|██████████| 3781/3781 [11:15<00:00,  5.60it/s]\n",
      "                 Class     Images  Instances      Box(P          R      mAP50  mAP50-95): 100%|██████████| 248/248 [00:41<00:00,  5.98it/s]\n"
     ]
    },
    {
     "name": "stdout",
     "output_type": "stream",
     "text": [
      "                   all       7910       7854       0.94      0.957      0.983      0.973\n",
      "\n",
      "      Epoch    GPU_mem   box_loss   cls_loss   dfl_loss  Instances       Size\n"
     ]
    },
    {
     "name": "stderr",
     "output_type": "stream",
     "text": [
      "      19/50      7.74G     0.2454     0.6886     0.9205         23        640: 100%|██████████| 3781/3781 [11:22<00:00,  5.54it/s]\n",
      "                 Class     Images  Instances      Box(P          R      mAP50  mAP50-95): 100%|██████████| 248/248 [00:41<00:00,  6.03it/s]\n"
     ]
    },
    {
     "name": "stdout",
     "output_type": "stream",
     "text": [
      "                   all       7910       7854      0.938       0.96      0.983      0.974\n",
      "\n",
      "      Epoch    GPU_mem   box_loss   cls_loss   dfl_loss  Instances       Size\n"
     ]
    },
    {
     "name": "stderr",
     "output_type": "stream",
     "text": [
      "      20/50      7.73G     0.2431     0.6637     0.9191         19        640: 100%|██████████| 3781/3781 [11:06<00:00,  5.67it/s]\n",
      "                 Class     Images  Instances      Box(P          R      mAP50  mAP50-95): 100%|██████████| 248/248 [00:41<00:00,  6.03it/s]\n"
     ]
    },
    {
     "name": "stdout",
     "output_type": "stream",
     "text": [
      "                   all       7910       7854      0.936      0.962      0.983      0.974\n",
      "\n",
      "      Epoch    GPU_mem   box_loss   cls_loss   dfl_loss  Instances       Size\n"
     ]
    },
    {
     "name": "stderr",
     "output_type": "stream",
     "text": [
      "      21/50      7.74G     0.2415     0.6534     0.9191         24        640: 100%|██████████| 3781/3781 [11:22<00:00,  5.54it/s]\n",
      "                 Class     Images  Instances      Box(P          R      mAP50  mAP50-95): 100%|██████████| 248/248 [00:41<00:00,  6.02it/s]\n"
     ]
    },
    {
     "name": "stdout",
     "output_type": "stream",
     "text": [
      "                   all       7910       7854      0.937      0.963      0.984      0.975\n",
      "\n",
      "      Epoch    GPU_mem   box_loss   cls_loss   dfl_loss  Instances       Size\n"
     ]
    },
    {
     "name": "stderr",
     "output_type": "stream",
     "text": [
      "      22/50      7.74G     0.2388     0.6406     0.9171         21        640: 100%|██████████| 3781/3781 [11:07<00:00,  5.66it/s]\n",
      "                 Class     Images  Instances      Box(P          R      mAP50  mAP50-95): 100%|██████████| 248/248 [00:41<00:00,  6.00it/s]\n"
     ]
    },
    {
     "name": "stdout",
     "output_type": "stream",
     "text": [
      "                   all       7910       7854      0.939      0.963      0.984      0.975\n",
      "\n",
      "      Epoch    GPU_mem   box_loss   cls_loss   dfl_loss  Instances       Size\n"
     ]
    },
    {
     "name": "stderr",
     "output_type": "stream",
     "text": [
      "      23/50      7.74G     0.2384     0.6201     0.9168         12        640: 100%|██████████| 3781/3781 [11:01<00:00,  5.71it/s]\n",
      "                 Class     Images  Instances      Box(P          R      mAP50  mAP50-95): 100%|██████████| 248/248 [00:41<00:00,  6.01it/s]\n"
     ]
    },
    {
     "name": "stdout",
     "output_type": "stream",
     "text": [
      "                   all       7910       7854      0.939      0.964      0.985      0.976\n",
      "\n",
      "      Epoch    GPU_mem   box_loss   cls_loss   dfl_loss  Instances       Size\n"
     ]
    },
    {
     "name": "stderr",
     "output_type": "stream",
     "text": [
      "      24/50      7.73G     0.2343     0.5993     0.9159         14        640: 100%|██████████| 3781/3781 [11:10<00:00,  5.64it/s]\n",
      "                 Class     Images  Instances      Box(P          R      mAP50  mAP50-95): 100%|██████████| 248/248 [00:41<00:00,  6.01it/s]\n"
     ]
    },
    {
     "name": "stdout",
     "output_type": "stream",
     "text": [
      "                   all       7910       7854      0.941      0.963      0.985      0.976\n",
      "\n",
      "      Epoch    GPU_mem   box_loss   cls_loss   dfl_loss  Instances       Size\n"
     ]
    },
    {
     "name": "stderr",
     "output_type": "stream",
     "text": [
      "      25/50      7.74G     0.2334     0.5934     0.9151         16        640: 100%|██████████| 3781/3781 [11:20<00:00,  5.56it/s]\n",
      "                 Class     Images  Instances      Box(P          R      mAP50  mAP50-95): 100%|██████████| 248/248 [00:41<00:00,  6.03it/s]\n"
     ]
    },
    {
     "name": "stdout",
     "output_type": "stream",
     "text": [
      "                   all       7910       7854      0.943      0.963      0.985      0.976\n",
      "\n",
      "      Epoch    GPU_mem   box_loss   cls_loss   dfl_loss  Instances       Size\n"
     ]
    },
    {
     "name": "stderr",
     "output_type": "stream",
     "text": [
      "      26/50      7.74G     0.2316     0.5822     0.9138         16        640: 100%|██████████| 3781/3781 [11:07<00:00,  5.67it/s]\n",
      "                 Class     Images  Instances      Box(P          R      mAP50  mAP50-95): 100%|██████████| 248/248 [00:41<00:00,  6.03it/s]\n"
     ]
    },
    {
     "name": "stdout",
     "output_type": "stream",
     "text": [
      "                   all       7910       7854      0.945      0.963      0.986      0.977\n",
      "\n",
      "      Epoch    GPU_mem   box_loss   cls_loss   dfl_loss  Instances       Size\n"
     ]
    },
    {
     "name": "stderr",
     "output_type": "stream",
     "text": [
      "      27/50      7.74G     0.2295     0.5679     0.9127         15        640: 100%|██████████| 3781/3781 [10:54<00:00,  5.77it/s]\n",
      "                 Class     Images  Instances      Box(P          R      mAP50  mAP50-95): 100%|██████████| 248/248 [00:41<00:00,  6.03it/s]\n"
     ]
    },
    {
     "name": "stdout",
     "output_type": "stream",
     "text": [
      "                   all       7910       7854      0.945      0.964      0.986      0.977\n",
      "\n",
      "      Epoch    GPU_mem   box_loss   cls_loss   dfl_loss  Instances       Size\n"
     ]
    },
    {
     "name": "stderr",
     "output_type": "stream",
     "text": [
      "      28/50      7.73G     0.2288     0.5537     0.9126         21        640: 100%|██████████| 3781/3781 [11:13<00:00,  5.61it/s]\n",
      "                 Class     Images  Instances      Box(P          R      mAP50  mAP50-95): 100%|██████████| 248/248 [00:41<00:00,  6.02it/s]\n"
     ]
    },
    {
     "name": "stdout",
     "output_type": "stream",
     "text": [
      "                   all       7910       7854      0.946      0.964      0.986      0.978\n",
      "\n",
      "      Epoch    GPU_mem   box_loss   cls_loss   dfl_loss  Instances       Size\n"
     ]
    },
    {
     "name": "stderr",
     "output_type": "stream",
     "text": [
      "      29/50      7.74G     0.2259     0.5402     0.9116         14        640: 100%|██████████| 3781/3781 [11:21<00:00,  5.54it/s]\n",
      "                 Class     Images  Instances      Box(P          R      mAP50  mAP50-95): 100%|██████████| 248/248 [00:43<00:00,  5.69it/s]\n"
     ]
    },
    {
     "name": "stdout",
     "output_type": "stream",
     "text": [
      "                   all       7910       7854      0.945      0.965      0.987      0.978\n",
      "\n",
      "      Epoch    GPU_mem   box_loss   cls_loss   dfl_loss  Instances       Size\n"
     ]
    },
    {
     "name": "stderr",
     "output_type": "stream",
     "text": [
      "      30/50      7.74G     0.2234     0.5277     0.9106         20        640: 100%|██████████| 3781/3781 [11:10<00:00,  5.64it/s]\n",
      "                 Class     Images  Instances      Box(P          R      mAP50  mAP50-95): 100%|██████████| 248/248 [00:41<00:00,  6.01it/s]\n"
     ]
    },
    {
     "name": "stdout",
     "output_type": "stream",
     "text": [
      "                   all       7910       7854      0.949      0.963      0.987      0.978\n",
      "\n",
      "      Epoch    GPU_mem   box_loss   cls_loss   dfl_loss  Instances       Size\n"
     ]
    },
    {
     "name": "stderr",
     "output_type": "stream",
     "text": [
      "      31/50      7.74G     0.2216     0.5146     0.9104         21        640: 100%|██████████| 3781/3781 [11:01<00:00,  5.72it/s]\n",
      "                 Class     Images  Instances      Box(P          R      mAP50  mAP50-95): 100%|██████████| 248/248 [00:41<00:00,  6.02it/s]\n"
     ]
    },
    {
     "name": "stdout",
     "output_type": "stream",
     "text": [
      "                   all       7910       7854      0.953      0.963      0.988      0.979\n",
      "\n",
      "      Epoch    GPU_mem   box_loss   cls_loss   dfl_loss  Instances       Size\n"
     ]
    },
    {
     "name": "stderr",
     "output_type": "stream",
     "text": [
      "      32/50      7.73G     0.2196     0.5017     0.9094         19        640: 100%|██████████| 3781/3781 [11:13<00:00,  5.62it/s]\n",
      "                 Class     Images  Instances      Box(P          R      mAP50  mAP50-95): 100%|██████████| 248/248 [00:41<00:00,  6.02it/s]\n"
     ]
    },
    {
     "name": "stdout",
     "output_type": "stream",
     "text": [
      "                   all       7910       7854      0.941      0.971      0.988      0.979\n",
      "\n",
      "      Epoch    GPU_mem   box_loss   cls_loss   dfl_loss  Instances       Size\n"
     ]
    },
    {
     "name": "stderr",
     "output_type": "stream",
     "text": [
      "      33/50      7.74G     0.2193     0.4939     0.9091         22        640: 100%|██████████| 3781/3781 [10:44<00:00,  5.86it/s]\n",
      "                 Class     Images  Instances      Box(P          R      mAP50  mAP50-95): 100%|██████████| 248/248 [00:41<00:00,  6.04it/s]\n"
     ]
    },
    {
     "name": "stdout",
     "output_type": "stream",
     "text": [
      "                   all       7910       7854      0.949      0.969      0.988      0.979\n",
      "\n",
      "      Epoch    GPU_mem   box_loss   cls_loss   dfl_loss  Instances       Size\n"
     ]
    },
    {
     "name": "stderr",
     "output_type": "stream",
     "text": [
      "      34/50      7.74G     0.2178     0.4838      0.909         21        640: 100%|██████████| 3781/3781 [11:02<00:00,  5.71it/s]\n",
      "                 Class     Images  Instances      Box(P          R      mAP50  mAP50-95): 100%|██████████| 248/248 [00:41<00:00,  6.01it/s]\n"
     ]
    },
    {
     "name": "stdout",
     "output_type": "stream",
     "text": [
      "                   all       7910       7854      0.952      0.968      0.988       0.98\n",
      "\n",
      "      Epoch    GPU_mem   box_loss   cls_loss   dfl_loss  Instances       Size\n"
     ]
    },
    {
     "name": "stderr",
     "output_type": "stream",
     "text": [
      "      35/50      7.74G     0.2148     0.4703     0.9076         23        640: 100%|██████████| 3781/3781 [11:10<00:00,  5.64it/s]\n",
      "                 Class     Images  Instances      Box(P          R      mAP50  mAP50-95): 100%|██████████| 248/248 [00:41<00:00,  6.04it/s]\n"
     ]
    },
    {
     "name": "stdout",
     "output_type": "stream",
     "text": [
      "                   all       7910       7854      0.953      0.969      0.989       0.98\n",
      "\n",
      "      Epoch    GPU_mem   box_loss   cls_loss   dfl_loss  Instances       Size\n"
     ]
    },
    {
     "name": "stderr",
     "output_type": "stream",
     "text": [
      "      36/50      7.73G     0.2127     0.4598     0.9063         25        640: 100%|██████████| 3781/3781 [10:41<00:00,  5.89it/s]\n",
      "                 Class     Images  Instances      Box(P          R      mAP50  mAP50-95): 100%|██████████| 248/248 [00:41<00:00,  6.01it/s]\n"
     ]
    },
    {
     "name": "stdout",
     "output_type": "stream",
     "text": [
      "                   all       7910       7854      0.954       0.97      0.989      0.981\n",
      "\n",
      "      Epoch    GPU_mem   box_loss   cls_loss   dfl_loss  Instances       Size\n"
     ]
    },
    {
     "name": "stderr",
     "output_type": "stream",
     "text": [
      "      37/50      7.74G     0.2113     0.4488     0.9056         20        640: 100%|██████████| 3781/3781 [10:42<00:00,  5.88it/s]\n",
      "                 Class     Images  Instances      Box(P          R      mAP50  mAP50-95): 100%|██████████| 248/248 [00:41<00:00,  6.05it/s]\n"
     ]
    },
    {
     "name": "stdout",
     "output_type": "stream",
     "text": [
      "                   all       7910       7854      0.956      0.969      0.989      0.981\n",
      "\n",
      "      Epoch    GPU_mem   box_loss   cls_loss   dfl_loss  Instances       Size\n"
     ]
    },
    {
     "name": "stderr",
     "output_type": "stream",
     "text": [
      "      38/50      7.74G     0.2089     0.4353     0.9053         20        640: 100%|██████████| 3781/3781 [10:35<00:00,  5.95it/s]\n",
      "                 Class     Images  Instances      Box(P          R      mAP50  mAP50-95): 100%|██████████| 248/248 [00:41<00:00,  6.03it/s]\n"
     ]
    },
    {
     "name": "stdout",
     "output_type": "stream",
     "text": [
      "                   all       7910       7854      0.957       0.97      0.989      0.981\n",
      "\n",
      "      Epoch    GPU_mem   box_loss   cls_loss   dfl_loss  Instances       Size\n"
     ]
    },
    {
     "name": "stderr",
     "output_type": "stream",
     "text": [
      "      39/50      7.74G     0.2074     0.4284     0.9031         21        640: 100%|██████████| 3781/3781 [10:39<00:00,  5.92it/s]\n",
      "                 Class     Images  Instances      Box(P          R      mAP50  mAP50-95): 100%|██████████| 248/248 [00:41<00:00,  6.01it/s]\n"
     ]
    },
    {
     "name": "stdout",
     "output_type": "stream",
     "text": [
      "                   all       7910       7854      0.957      0.971       0.99      0.981\n",
      "\n",
      "      Epoch    GPU_mem   box_loss   cls_loss   dfl_loss  Instances       Size\n"
     ]
    },
    {
     "name": "stderr",
     "output_type": "stream",
     "text": [
      "      40/50      7.73G     0.2049     0.4115     0.9041         20        640: 100%|██████████| 3781/3781 [10:34<00:00,  5.95it/s]\n",
      "                 Class     Images  Instances      Box(P          R      mAP50  mAP50-95): 100%|██████████| 248/248 [00:41<00:00,  6.05it/s]\n"
     ]
    },
    {
     "name": "stdout",
     "output_type": "stream",
     "text": [
      "                   all       7910       7854      0.955      0.974       0.99      0.981\n",
      "Closing dataloader mosaic\n",
      "\n",
      "      Epoch    GPU_mem   box_loss   cls_loss   dfl_loss  Instances       Size\n"
     ]
    },
    {
     "name": "stderr",
     "output_type": "stream",
     "text": [
      "      41/50      7.74G     0.1195     0.2213     0.8368          8        640: 100%|██████████| 3781/3781 [10:36<00:00,  5.94it/s]\n",
      "                 Class     Images  Instances      Box(P          R      mAP50  mAP50-95): 100%|██████████| 248/248 [00:41<00:00,  6.02it/s]\n"
     ]
    },
    {
     "name": "stdout",
     "output_type": "stream",
     "text": [
      "                   all       7910       7854      0.954      0.977       0.99      0.982\n",
      "\n",
      "      Epoch    GPU_mem   box_loss   cls_loss   dfl_loss  Instances       Size\n"
     ]
    },
    {
     "name": "stderr",
     "output_type": "stream",
     "text": [
      "      42/50      7.74G     0.1146     0.1986     0.8342          8        640: 100%|██████████| 3781/3781 [10:37<00:00,  5.93it/s]\n",
      "                 Class     Images  Instances      Box(P          R      mAP50  mAP50-95): 100%|██████████| 248/248 [00:41<00:00,  6.04it/s]\n"
     ]
    },
    {
     "name": "stdout",
     "output_type": "stream",
     "text": [
      "                   all       7910       7854      0.956      0.978       0.99      0.983\n",
      "\n",
      "      Epoch    GPU_mem   box_loss   cls_loss   dfl_loss  Instances       Size\n"
     ]
    },
    {
     "name": "stderr",
     "output_type": "stream",
     "text": [
      "      43/50      7.74G     0.1126      0.185     0.8332          8        640: 100%|██████████| 3781/3781 [10:33<00:00,  5.97it/s]\n",
      "                 Class     Images  Instances      Box(P          R      mAP50  mAP50-95): 100%|██████████| 248/248 [00:41<00:00,  6.05it/s]\n"
     ]
    },
    {
     "name": "stdout",
     "output_type": "stream",
     "text": [
      "                   all       7910       7854      0.957      0.979      0.991      0.983\n",
      "\n",
      "      Epoch    GPU_mem   box_loss   cls_loss   dfl_loss  Instances       Size\n"
     ]
    },
    {
     "name": "stderr",
     "output_type": "stream",
     "text": [
      "      44/50      7.73G     0.1095     0.1715     0.8319          8        640: 100%|██████████| 3781/3781 [10:46<00:00,  5.85it/s]\n",
      "                 Class     Images  Instances      Box(P          R      mAP50  mAP50-95): 100%|██████████| 248/248 [00:41<00:00,  6.04it/s]\n"
     ]
    },
    {
     "name": "stdout",
     "output_type": "stream",
     "text": [
      "                   all       7910       7854      0.957      0.981      0.991      0.983\n",
      "\n",
      "      Epoch    GPU_mem   box_loss   cls_loss   dfl_loss  Instances       Size\n"
     ]
    },
    {
     "name": "stderr",
     "output_type": "stream",
     "text": [
      "      45/50      7.74G     0.1074     0.1621     0.8303          8        640: 100%|██████████| 3781/3781 [10:44<00:00,  5.86it/s]\n",
      "                 Class     Images  Instances      Box(P          R      mAP50  mAP50-95): 100%|██████████| 248/248 [00:41<00:00,  6.04it/s]\n"
     ]
    },
    {
     "name": "stdout",
     "output_type": "stream",
     "text": [
      "                   all       7910       7854      0.959      0.981      0.991      0.984\n",
      "\n",
      "      Epoch    GPU_mem   box_loss   cls_loss   dfl_loss  Instances       Size\n"
     ]
    },
    {
     "name": "stderr",
     "output_type": "stream",
     "text": [
      "      46/50      7.74G     0.1044     0.1501     0.8303          8        640: 100%|██████████| 3781/3781 [10:53<00:00,  5.78it/s]\n",
      "                 Class     Images  Instances      Box(P          R      mAP50  mAP50-95): 100%|██████████| 248/248 [00:40<00:00,  6.05it/s]\n"
     ]
    },
    {
     "name": "stdout",
     "output_type": "stream",
     "text": [
      "                   all       7910       7854      0.962      0.981      0.991      0.984\n",
      "\n",
      "      Epoch    GPU_mem   box_loss   cls_loss   dfl_loss  Instances       Size\n"
     ]
    },
    {
     "name": "stderr",
     "output_type": "stream",
     "text": [
      "      47/50      7.74G     0.1021     0.1411     0.8298          8        640: 100%|██████████| 3781/3781 [10:29<00:00,  6.01it/s]\n",
      "                 Class     Images  Instances      Box(P          R      mAP50  mAP50-95): 100%|██████████| 248/248 [00:41<00:00,  6.04it/s]\n"
     ]
    },
    {
     "name": "stdout",
     "output_type": "stream",
     "text": [
      "                   all       7910       7854      0.964       0.98      0.991      0.984\n",
      "\n",
      "      Epoch    GPU_mem   box_loss   cls_loss   dfl_loss  Instances       Size\n"
     ]
    },
    {
     "name": "stderr",
     "output_type": "stream",
     "text": [
      "      48/50      7.73G    0.09878     0.1288     0.8284          8        640: 100%|██████████| 3781/3781 [10:44<00:00,  5.87it/s]\n",
      "                 Class     Images  Instances      Box(P          R      mAP50  mAP50-95): 100%|██████████| 248/248 [00:41<00:00,  6.04it/s]\n"
     ]
    },
    {
     "name": "stdout",
     "output_type": "stream",
     "text": [
      "                   all       7910       7854      0.965       0.98      0.991      0.984\n",
      "\n",
      "      Epoch    GPU_mem   box_loss   cls_loss   dfl_loss  Instances       Size\n"
     ]
    },
    {
     "name": "stderr",
     "output_type": "stream",
     "text": [
      "      49/50      7.74G        inf     0.1164     0.8269          8        640: 100%|██████████| 3781/3781 [10:30<00:00,  6.00it/s]\n",
      "                 Class     Images  Instances      Box(P          R      mAP50  mAP50-95): 100%|██████████| 248/248 [00:41<00:00,  6.02it/s]\n"
     ]
    },
    {
     "name": "stdout",
     "output_type": "stream",
     "text": [
      "                   all       7910       7854      0.966       0.98      0.991      0.984\n",
      "\n",
      "      Epoch    GPU_mem   box_loss   cls_loss   dfl_loss  Instances       Size\n"
     ]
    },
    {
     "name": "stderr",
     "output_type": "stream",
     "text": [
      "      50/50      7.74G    0.09381     0.1075     0.8253          8        640: 100%|██████████| 3781/3781 [10:23<00:00,  6.06it/s]\n",
      "                 Class     Images  Instances      Box(P          R      mAP50  mAP50-95): 100%|██████████| 248/248 [00:41<00:00,  6.01it/s]\n"
     ]
    },
    {
     "name": "stdout",
     "output_type": "stream",
     "text": [
      "                   all       7910       7854      0.967       0.98      0.991      0.985\n",
      "\n",
      "50 epochs completed in 9.780 hours.\n",
      "Optimizer stripped from /data/medical_project/QCPR/ultralytics/runs/detect/train13/weights/last.pt, 7.5MB\n",
      "Optimizer stripped from /data/medical_project/QCPR/ultralytics/runs/detect/train13/weights/best.pt, 7.5MB\n",
      "\n",
      "Validating /data/medical_project/QCPR/ultralytics/runs/detect/train13/weights/best.pt...\n",
      "Ultralytics YOLOv8.1.45 🚀 Python-3.8.18 torch-2.2.1 CUDA:2 (NVIDIA GeForce RTX 3090, 24268MiB)\n",
      "Model summary (fused): 168 layers, 3626756 parameters, 0 gradients, 11.2 GFLOPs\n"
     ]
    },
    {
     "name": "stderr",
     "output_type": "stream",
     "text": [
      "                 Class     Images  Instances      Box(P          R      mAP50  mAP50-95): 100%|██████████| 248/248 [00:27<00:00,  8.87it/s]\n"
     ]
    },
    {
     "name": "stdout",
     "output_type": "stream",
     "text": [
      "                   all       7910       7854      0.967       0.98      0.991      0.985\n",
      "         유어스광동어성초500ml       7910          9      0.975      0.889      0.894      0.894\n",
      "  해태썬키스트자몽소다350ML(PET)       7910          7       0.97          1      0.995      0.995\n",
      "           롯데고려홍삼180ML       7910          7       0.97          1      0.995      0.995\n",
      "          웅진초록꿀매실180ML       7910         12      0.981          1      0.995      0.995\n",
      "           웅진아침햇살500ML       7910          2      0.921          1      0.995      0.995\n",
      "           웅진아침햇살180ML       7910         10      0.977          1      0.995      0.995\n",
      "       썬키스트훼미리오렌지180ML       7910         10      0.977          1      0.995      0.995\n",
      "         코카씨그램플레인350ML       7910          9      0.966          1      0.995      0.995\n",
      "            일화)맥콜500ML       7910          9      0.976          1      0.995      0.995\n",
      "      롯데사랑초톡톡스파클링330ML       7910          6      0.968          1      0.995      0.995\n",
      "      조지아고티카빈티지블랙390ML       7910         15      0.985          1      0.995      0.995\n",
      "          해태갈배사이다355ML       7910          6      0.966          1      0.995      0.995\n",
      "          해태갈배사이다238ML       7910          9      0.973          1      0.995      0.995\n",
      "          롯데핫식스자몽250ML       7910          9      0.974          1      0.995      0.995\n",
      "      동아오츠카데미소다자몽250ML       7910          8      0.973          1      0.995      0.995\n",
      "       롯데칸타타아메리카노200ML       7910          8      0.967          1      0.995      0.995\n",
      "            롯데레쓰비175ML       7910          7      0.935          1      0.995      0.995\n",
      "        코카콜라)킨사이다185ML       7910          6      0.959          1      0.995      0.995\n",
      "           일화헛개꿀물175ML       7910          7      0.969          1      0.995      0.995\n",
      "          가야토마토농장180ML       7910          5      0.801          1      0.829      0.829\n",
      "  코카콜라조지아고티카빈티지블랙270ML       7910          9      0.972          1      0.995      0.995\n",
      "  롯데)콜드비타민플러스(포도)240ML       7910          7      0.969          1      0.995      0.995\n",
      "      해태썬키스트망고바나나220ML       7910          8      0.868          1      0.982      0.982\n",
      "     롯데칸타타카페모카(병)250ML       7910         11      0.982          1      0.995      0.995\n",
      "       롯데핑크퐁오렌지망고235ML       7910          5      0.958          1      0.995      0.995\n",
      "         코카콜라오리지널300ML       7910          8      0.981          1      0.995      0.995\n",
      "           코카쿠우포도300ML       7910         10      0.977          1      0.995      0.995\n",
      "       해태)결명자서리태차350ML       7910          5      0.958          1      0.995      0.995\n",
      "     코카콜라)더탄산애플민트450ML       7910          9      0.972      0.889      0.903      0.903\n",
      "         광동)알찬콩두유200ML       7910          6       0.97          1      0.995      0.995\n",
      "           롯데마운틴듀355ML       7910          8      0.973          1      0.995      0.995\n",
      "           코카환타포도250ML       7910         10      0.979          1      0.995      0.995\n",
      "           코카콜라제로250ML       7910          9      0.969          1      0.995      0.995\n",
      "          웅진내사랑사과180ML       7910          6      0.828      0.833      0.852      0.852\n",
      "        코카콜라)코카콜라350ML       7910          7          1       0.78      0.995      0.995\n",
      "         동아포카리스웨트500ML       7910         11      0.982          1      0.995      0.995\n",
      "            롯데밀키스500ML       7910          9      0.976          1      0.995      0.995\n",
      "          슈웹스레몬토닉350ML       7910          8      0.973          1      0.995      0.995\n",
      "          CJ)새싹보리410ML       7910          8      0.972          1      0.995      0.995\n",
      "       롯데잘빠진하루우엉차500ML       7910          7      0.983          1      0.995      0.995\n",
      "         롯데옥수수수염차500ML       7910          8      0.952          1      0.995      0.995\n",
      "        광동)옥수수수염차500ML       7910          8      0.972          1      0.995      0.995\n",
      "        동원시스템새벽헛개520ML       7910          7      0.971          1      0.995      0.995\n",
      "       신어산음료일화광천수500ML       7910          8       0.93          1      0.995      0.995\n",
      "    동아오츠카마신다미네랄워터500ML       7910          9      0.988          1      0.995      0.995\n",
      "          코카스프라이트500ML       7910          7      0.969          1      0.995      0.995\n",
      "           롯데아이시스200ML       7910          6      0.966          1      0.995      0.995\n",
      "코카콜라)코카콜라오리지날테이스트245ml       7910         10      0.979          1      0.995      0.995\n",
      "          코카환타오렌지215ML       7910          7          1      0.953      0.995      0.995\n",
      "             코카콜라355ML       7910          4      0.945          1      0.995      0.995\n",
      "   롯데클라우드클리어제로(캔)350ML       7910         11      0.979          1      0.995      0.995\n",
      "           카카오닙스차500ML       7910          8      0.973          1      0.995      0.995\n",
      "        롯데)파머스주스바오렌지1L       7910          9      0.975          1      0.995      0.995\n",
      "          광동)힘찬하루헛개차1L       7910          7       0.96          1      0.995      0.995\n",
      "      칸타타더블드립원두커피900ML       7910         10       0.98          1      0.995      0.995\n",
      "          롯데)델몬트듬뿍사과1L       7910          6      0.964          1      0.995      0.995\n",
      "    쟈뎅시그니처아메리카노스위트1.1L       7910          6      0.962          1      0.995      0.995\n",
      "     쟈뎅시그니처아메리카노블랙1.1L       7910         10      0.978          1      0.995      0.995\n",
      "          쟈뎅로얄헤이즐넛1.1L       7910          9      0.975          1      0.995      0.995\n",
      "        쟈뎅시그니처까페라떼1.1L       7910          7      0.971          1      0.995      0.995\n",
      "          썬키스트후레쉬알로에1L       7910          7      0.969          1      0.995      0.995\n",
      "      루비키스트루비레드자몽1.89L       7910          6       0.95          1      0.995      0.995\n",
      "           가야알로에농장1.5L       7910          9      0.975          1      0.995      0.995\n",
      "      웅진가야농장제주감귤농장1.5L       7910          9       0.98          1      0.995      0.995\n",
      "       코카)미닛메이드오렌지1.5L       7910          8      0.973          1      0.995      0.995\n",
      "              코카콜라1.5L       7910          8      0.982          1      0.995      0.995\n",
      "           코카환타오렌지1.5L       7910          7      0.971          1      0.995      0.995\n",
      "          코카환타파인애플1.5L       7910          7      0.969          1      0.995      0.995\n",
      "             롯데밀키스1.5L       7910          7       0.97          1      0.995      0.995\n",
      "           썬키스트머스캣1.5L       7910          6       0.98          1      0.995      0.995\n",
      "       해태써니텐블라스트포도1.5L       7910          5      0.961          1      0.995      0.995\n",
      "           남양엣홈오렌지1.5L       7910          8      0.974          1      0.995      0.995\n",
      "           가야토마토농장1.5L       7910          6      0.964          1      0.995      0.995\n",
      "           가야복숭아농장1.5L       7910          8      0.972          1      0.995      0.995\n",
      "          웅진고칼슘오렌지1.5L       7910          8      0.976          1      0.995      0.995\n",
      "        웅진자연은내사랑감귤1.5L       7910          8       0.97          1      0.995      0.995\n",
      "        해태후레쉬포도50%1.5L       7910          9      0.976          1      0.995      0.995\n",
      "      미닛메이드오리지널오렌지1.5L       7910          8      0.959          1      0.995      0.995\n",
      "          지에스)맑은샘물1.5L       7910          8      0.974          1      0.995      0.995\n",
      "           썬키스트훼미리망고2L       7910          5      0.955          1      0.995      0.995\n",
      "         썬키스트훼미리제주감귤2L       7910          9      0.976          1      0.995      0.995\n",
      "동서TOP심플리스무스스위트아메리카노240ML       7910          8      0.974          1      0.995      0.995\n",
      "    동서TOP심플리스무스블랙240ML       7910          7      0.969          1      0.995      0.995\n",
      "     빙그레)맑은하늘도라지차500ML       7910          7      0.969          1      0.995      0.995\n",
      "         레쓰비그란데라떼500ML       7910          5      0.959          1      0.995      0.995\n",
      "   롯데)술술풀리는하루작두콩차500ML       7910          7      0.969          1      0.995      0.995\n",
      "          해태레몬에이드350ML       7910          7      0.968          1      0.995      0.995\n",
      "       하이트진로)토닉워터300ML       7910          9      0.976          1      0.995      0.995\n",
      "롯데)칸타타콘트라베이스(스위트블랙)500ML       7910          8      0.972          1      0.995      0.995\n",
      "         팔도뽀로로보리차220ML       7910          9      0.976          1      0.995      0.995\n",
      "       델몬트허니애플시나몬280ML       7910          7      0.969          1      0.995      0.995\n",
      "          웰치스그레이프500ml       7910         10      0.976          1      0.995      0.985\n",
      "         웅진자연은토마토500ML       7910          7       0.97          1      0.995      0.995\n",
      "           팔도비락식혜500ML       7910          8      0.973          1      0.995      0.995\n",
      "        광동힘찬하루헛개차500ML       7910         10       0.98          1      0.995      0.995\n",
      "  해태음료구론산바몬드오리지날액150ML       7910          9      0.976          1      0.995      0.995\n",
      "         광동)발효홍삼 100ml       7910          6      0.958          1      0.995      0.995\n",
      "          CJ컨디션헛개100ML       7910          7       0.97          1      0.995      0.995\n",
      "      광동)비타500(병)100ML       7910          8      0.988          1      0.995      0.995\n",
      "      광동)비타500(병)180ML       7910          7      0.973          1      0.995      0.995\n",
      "         현대미에로화이바210ML       7910          7      0.969          1      0.995      0.995\n",
      "          해태갈아만든배238ML       7910          8          1      0.647      0.995      0.995\n",
      "       롯데오가닉유기농적포도보라핑크       7910         10      0.978          1      0.995       0.98\n",
      "              빙그레사과에이드       7910          5       0.96          1      0.995      0.995\n",
      "       퀘이커 마시는 오트밀 50G       7910          4       0.95          1      0.995      0.995\n",
      "        남양 채움오렌지 730ML       7910         11      0.979          1      0.995      0.995\n",
      "    서울우유 아침에주스자몽 950ML       7910          5      0.959          1      0.995      0.995\n",
      "    풀무원아임리얼 케일키위 700ML       7910          4      0.952          1      0.995      0.995\n",
      "    서울우유 아침에주스사과 210ML       7910          9      0.976          1      0.995      0.995\n",
      "서울에프엔비 아침에주스 유기농 토마토주스900ML       7910          9      0.986          1      0.995      0.717\n",
      "매일유업 썬업 저과즙콜라겐플랜 330ML       7910          7      0.907      0.857      0.978      0.977\n",
      " 매일유업 썬업 과일야채 샐러드200ML       7910          8      0.971          1      0.995      0.995\n",
      "풀무원녹즙 아임리얼 스트로베리 700ML       7910          5      0.958          1      0.995      0.995\n",
      " 서울에프엔비)설빙 인절미 라떼250ML       7910          6      0.946      0.833      0.849      0.849\n",
      "      매일유업)썬업(사과)200ML       7910         10      0.976          1      0.995      0.995\n",
      "       서울우유강릉커피라떼250ML       7910          8      0.977          1      0.995      0.995\n",
      "             동원커핑로카페봉봉       7910          8      0.987          1      0.995      0.995\n",
      "             동원콩카페연유라떼       7910          7          1       0.97      0.995      0.995\n",
      "   매일바리스타룰스로어슈거에스포레소라떼       7910          9      0.975          1      0.995      0.995\n",
      "             동원다방커피카라멜       7910          4      0.946          1      0.995      0.995\n",
      "            동원다방커피오리지널       7910         11      0.986          1      0.995      0.995\n",
      "  남양프렌치카페로스터리블랙글레이즈드라떼       7910         10      0.994          1      0.995      0.995\n",
      "      남양루카스나인시그니처더블샷라떼       7910          7      0.862      0.429      0.824      0.824\n",
      "         남양루카스나인시그니처라떼       7910          8          1      0.463      0.955      0.955\n",
      "         서울에프앤비브루빈콜드브루       7910          9      0.975          1      0.995      0.995\n",
      "              커피빈아메리카노       7910          9      0.976          1      0.995      0.995\n",
      "  분다버그 레몬 라임앤비터스 375ML       7910         10      0.978          1      0.995      0.995\n",
      "동서 맥스윃하우스 콜롬비아나마스터라떼 500ML       7910          6      0.964          1      0.995      0.995\n",
      "         하이리치로이타이코코넛밀크       7910         11      0.984          1      0.995      0.995\n",
      "    DIMES 석류착즙주스1000ML       7910          8      0.974          1      0.995      0.995\n",
      " DIMES 타트체리착즙주스 1000ML       7910          9       0.97          1      0.995      0.995\n",
      "       돌코리아 오렌지팝 496ML       7910          9      0.979          1      0.995      0.995\n",
      "      돌코리아 파인애플팝 496ML       7910          5      0.948          1      0.995      0.995\n",
      "담터 울금500 100ML*2입 200ML       7910          9      0.981          1      0.995      0.995\n",
      "  비에이치델리 오후의홍차레몬티500ml       7910          8      0.973          1      0.995      0.995\n",
      " 이마트 피코크 갈아만든자몽오미자400G       7910          7      0.969          1      0.995      0.995\n",
      "    이마트 피코크 갈아만든유자420G       7910          9      0.977          1      0.995      0.995\n",
      "  이마트 피코크 갈아만든생강레몬400G       7910          6      0.968          1      0.995      0.995\n",
      "자임에프앤비 신비아파트배도라지착즙주스100ML       7910          4      0.392      0.338      0.663      0.663\n",
      "          롯데2%복숭아350ML       7910          6      0.963          1      0.995      0.995\n",
      "    롯데트로피카나스파클링사과355ML       7910          5      0.961          1      0.995      0.995\n",
      "           웅진하늘보리500ML       7910          7      0.969          1      0.995      0.995\n",
      "          웅진자연은석류180ML       7910          8      0.973          1      0.995      0.995\n",
      "         미닛메이드사과 175ml       7910          7      0.962          1      0.995      0.995\n",
      "           롯데)레쓰비190ml       7910         10      0.974          1      0.995      0.995\n",
      "보해)크렁크펀치캔디스파클링(캔)350ML       7910         10      0.978          1      0.995      0.995\n",
      "       남양)츄파춥스오렌지345ML       7910         10      0.978          1      0.995      0.995\n",
      "          코카환타오렌지185ML       7910          5          1      0.823      0.995      0.995\n",
      "      롯데) 비타코코넛워터280ml       7910          6      0.965          1      0.995      0.995\n",
      " 남양에프엔비프리미엄토닉워터소닉300ML       7910         10      0.981          1      0.995      0.995\n",
      "           동원디레몬톡500ML       7910          6      0.968          1      0.995      0.995\n",
      "          해태갈배사이다500ML       7910          8      0.973          1      0.995      0.995\n",
      "           롯데펩시콜라600ML       7910         10      0.978          1      0.995      0.995\n",
      "    롯데트레비플레인(PET)500ML       7910          4       0.99          1      0.995      0.995\n",
      "         롯데사각사각꿀배380ML       7910          6      0.965          1      0.995      0.995\n",
      "          롯데펩시스트롱400ML       7910          6      0.961          1      0.995      0.995\n",
      "     오케이에프)알로에베라킹500ml       7910          9      0.975          1      0.995      0.995\n",
      "            랭거스망고449ML       7910          8      0.973          1      0.995      0.995\n",
      "         해태)아침에사과500ML       7910          5       0.96          1      0.995      0.995\n",
      "            랭거스자몽449ML       7910          5      0.859          1      0.995      0.995\n",
      "      코카콜라피치(복숭아)390ML       7910          8      0.972          1      0.995      0.995\n",
      "           코카콜라제로500ML       7910          8      0.965          1      0.995      0.995\n",
      "    지에스)유채꽃한라봉에이드410ML       7910          9      0.975          1      0.995      0.995\n",
      "            코카토레타500ML       7910          7       0.98          1      0.995      0.995\n",
      "       롯데게토레이블루볼트600ML       7910          8      0.973          1      0.995      0.995\n",
      "          코카씨그램라임350ML       7910         10      0.894          1      0.995      0.995\n",
      "          코카씨그램라임450ML       7910          7          1      0.923      0.995      0.995\n",
      "           롯데마운틴듀400ML       7910          8      0.973          1      0.995      0.995\n",
      "      롯데칠성사이다로어슈거500ML       7910         10      0.978          1      0.995      0.995\n",
      "해태썬키스트스위티블루에이드350ML(PET)       7910          5      0.958          1      0.995      0.995\n",
      "    GS리테일스파클링요구르트350ML       7910          7          1       0.89      0.995      0.629\n",
      "       코카콜라)더탄산레몬450ML       7910          8      0.971          1      0.995      0.995\n",
      "    롯데트로피카나스파클링사과400ML       7910          5      0.978          1      0.995      0.597\n",
      "          롯데트레비워터500ML       7910          5      0.959          1      0.995      0.995\n",
      "     바바마이홈카페카페메이커500ML       7910         12      0.984          1      0.995      0.995\n",
      "보해)크렁크펀치체리스파클링(캔)350ML       7910          8      0.974          1      0.995      0.995\n",
      "        가야당근농장180ML(병)       7910          9      0.981          1      0.995      0.995\n",
      "     웅진가야농장제주감귤농장180ML       7910          6      0.965          1      0.995      0.995\n",
      "             롯데볼빅500ML       7910          7      0.969          1      0.995      0.995\n",
      "에비앙natural mineral water       7910          9          1       0.51      0.995      0.995\n",
      "           델몬트팜앤망고1.2L       7910          5      0.954          1      0.995      0.995\n",
      "        롯데제주사랑감귤사랑1.2L       7910          4      0.951          1      0.995      0.995\n",
      "       일화초정공장)탑씨콜라1.5L       7910          3      0.938          1      0.995      0.995\n",
      "       롯데2%부족할때복숭아1.5L       7910          7      0.969          1      0.995      0.995\n",
      "     미닛메이드스파클링청포도1.25L       7910          8      0.974          1      0.995      0.995\n",
      "           해태갈배사이다1.5L       7910          5      0.959          1      0.995      0.995\n",
      "            롯데마운틴듀1.5L       7910          9      0.976          1      0.995      0.995\n",
      "         썬키스트훼미리매실1.5L       7910          7       0.97          1      0.995      0.995\n",
      "             코카콜라1.25L       7910         10      0.975          1      0.995      0.995\n",
      "               휘오)순수2L       7910          7      0.971          1      0.995      0.995\n",
      "          롯데아이시스8.0 2L       7910          7      0.983          1      0.995      0.631\n",
      "               제주삼다수2L       7910         10      0.979          1      0.995      0.995\n",
      "         롯데아이시스산림수2.0L       7910          6      0.964          1      0.995      0.995\n",
      "                동원샘물2L       7910          6      0.964          1      0.995      0.995\n",
      "           코카콜라)휘오제주2L       7910          6      0.927          1      0.995      0.995\n",
      "           G가야워터(웅진)2L       7910          5       0.96          1      0.995      0.995\n",
      "             해태강원평창수2L       7910          9      0.976          1      0.995      0.995\n",
      "            롯데)칠성사이다청귤       7910          6      0.965          1      0.995      0.995\n",
      "            광동제약)비타500       7910          4      0.951          1      0.995      0.995\n",
      "        그래미여명808 140ML       7910         10      0.978          1      0.995      0.995\n",
      "      동서스타벅스프라프치노281ML       7910          8      0.793          1      0.995      0.995\n",
      "              케이쿨120ML       7910          3      0.942          1      0.995      0.995\n",
      "         델몬트)그린매실180ML       7910          7      0.969          1      0.995      0.995\n",
      "           맥심)티오페에스프레소       7910         10      0.977          1      0.995      0.995\n",
      "          델몬트)토마토180ML       7910         11      0.979          1      0.995      0.995\n",
      "         델몬트)골드망고180ML       7910          5      0.958          1      0.995      0.995\n",
      "          조지아오리지날350ML       7910         11      0.997          1      0.995      0.689\n",
      "            제주삼다수500ML       7910         10      0.978          1      0.995      0.995\n",
      "         동서스타벅스모카281ML       7910          7          1      0.378      0.995      0.995\n",
      "             코카토레타1.5L       7910          6      0.965          1      0.995      0.995\n",
      "        웅진빅토리아복숭아500ml       7910          5          1      0.435      0.995      0.602\n",
      "              빙그레쥬시쿨자두       7910          8      0.978          1      0.995      0.995\n",
      "                 동원쿨피스       7910          7      0.969          1      0.995      0.995\n",
      "         스위트몬스터워터젤리청포도       7910          9       0.97          1      0.995      0.995\n",
      "        델몬트콜드비타민플러스오렌지       7910          6      0.968          1      0.995      0.995\n",
      "      녹차원) ABC주스 480ML       7910          6      0.969          1      0.995      0.995\n",
      "        네슬레 허니에이드 600G       7910          7      0.969          1      0.995      0.952\n",
      "    매일 썬업100%파인애플750ML       7910          6      0.973          1      0.995      0.995\n",
      "  풀무원 아임리얼순수착즙오렌지700ML       7910          6      0.964          1      0.995      0.995\n",
      "서울에프엔 아침에주스블랙라벨ABC주스750ML       7910          8      0.973          1      0.995      0.995\n",
      "        남양 야채채움퍼플190ML       7910          8      0.972          1      0.995      0.995\n",
      "서울우유협동)아침에주스 유기농포도 쥬스900ML       7910          7      0.973          1      0.995      0.995\n",
      "매일유업)플로리다 내추럴 오렌지750ML       7910          6      0.966          1      0.995      0.995\n",
      "        남양유업)채움포도730ML       7910          8      0.972          1      0.995      0.995\n",
      "풀무원식품)아임프룻 제주한라봉감귤800ML       7910          9      0.934          1      0.995      0.995\n",
      "  서울에프엔비)아침에주스 사과950ML       7910          9      0.972          1      0.995      0.995\n",
      "   풀무원식품)아임리얼 토마토700ML       7910          9      0.998          1      0.995      0.714\n",
      "풀무원식품)아임리얼 스무디 마이스트로베리700ML       7910          7      0.969          1      0.995      0.995\n",
      "      청정원 홍초 풋사과 900ML       7910          8      0.973          1      0.995      0.995\n",
      "       청정원 홍초 석류 900ML       7910          9      0.884      0.848      0.955      0.955\n",
      "      청정원 홍초 복분자 900ML       7910          5      0.818          1      0.995       0.62\n",
      " 갈바니나 스파클링 레몬에이드 355ML       7910          6      0.964          1      0.995      0.995\n",
      "갈바니나 스파클링 레드오렌지에이드 355ML       7910          7      0.972          1      0.995      0.995\n",
      "   홈플러스시그니처 블랙커피 390ML       7910          8      0.979          1      0.995      0.995\n",
      "   홈플러스시그니처 카페라떼 390ML       7910          8      0.967          1      0.995      0.995\n",
      "  농심 웰치스화이트그레이프맛 355ML       7910          9      0.976          1      0.995      0.995\n",
      "     홈플러스시그니처 콜라 350ML       7910          7       0.97          1      0.995      0.995\n",
      "동서 맥스웰하우스 콜롬비아나카페라떼 240ML       7910          5      0.957          1      0.995      0.995\n",
      "동서 맥스웰하우스 콜롬비아나스위트아메리카노 240ML       7910          3      0.942          1      0.995      0.995\n",
      "동서 스타벅스 더블샷에스플레소앤크림 200ML       7910          6      0.964          1      0.995      0.995\n",
      "동서 스타벅스 파이크플레이스로스트블랙커피 200ML       7910          8      0.975          1      0.995      0.995\n",
      "동서 맥심에스프레소 티오피마스터라떼 200ML       7910          8      0.993          1      0.995      0.995\n",
      "  남양 프렌치카페 마일드커피 175ML       7910          5      0.961          1      0.995      0.995\n",
      "남양 프렌치카페 카라멜마끼아또 175ML       7910          7      0.973          1      0.995      0.995\n",
      "        코카)스프라이트 215ML       7910          6      0.971          1      0.995      0.995\n",
      "       코카)제로코카콜라 215ML       7910          6          1      0.659      0.995      0.995\n",
      "            코카)스프라이트1L       7910         10      0.982          1      0.995      0.995\n",
      "     홈플러스시그니처 사이다 1.5L       7910          8      0.972          1      0.995      0.995\n",
      "        포미 망고에이드 1.8KG       7910          6      0.966          1      0.995      0.995\n",
      "한국쥬맥스 아리조나 아이스드티위드레몬향 680ML       7910          8      0.972          1      0.995      0.995\n",
      "한국쥬맥스 아리조나 그린티위드진생앤허니 680ML       7910          9      0.994          1      0.995       0.67\n",
      "  동아오츠카 데자와로얄밀크티 500ML       7910          8      0.973          1      0.995      0.995\n",
      "    남도농산 활력충만여주차 500ML       7910          6      0.965          1      0.995      0.995\n",
      "롯데 콘트라베이스티 로스팅보리 500ML       7910          6      0.966          1      0.995      0.995\n",
      "롯데 콘트라베이스티 로스팅그린티 500ML       7910          8      0.973          1      0.995      0.995\n",
      "         동원 보성말차 500ML       7910         12      0.981          1      0.995      0.995\n",
      "      웅진 자색옥수수수염차 1.5L       7910          8      0.887          1      0.954      0.954\n",
      "        동원 보성녹차 1500ML       7910          4      0.965          1      0.995      0.995\n",
      "       남양 17차 레몬향 1.5L       7910          5      0.958          1      0.995      0.995\n",
      "      남양 17차 새싹보리 1.5L       7910          8      0.867          1      0.954      0.954\n",
      "    코카)아데스아몬드초콜릿 190ML       7910         11      0.981          1      0.995       0.98\n",
      "   코카)아데스아몬드오리지널 190ML       7910          5      0.897          1      0.995      0.995\n",
      " 코코데일리 유기능 코코넛워터 330ML       7910          8      0.873          1      0.995      0.995\n",
      " 에페브 유기농 레몬향스파클링 330ML       7910         11      0.996          1      0.995      0.995\n",
      "에페브 유기농 로즈핑크스파클링 330ML       7910          8       0.97          1      0.995      0.995\n",
      "       밸류플러스 아프리 200ML       7910          7       0.97          1      0.995      0.995\n",
      "위스트 모구모구 알로에베라큐브리치맛 320ML       7910          5      0.961          1      0.995      0.995\n",
      "  위스트 모구모구 파인애플맛 320ML       7910          7      0.969          1      0.995      0.995\n",
      "         이마트 후버오렌지주스1L       7910         11       0.98          1      0.995      0.995\n",
      "인터비앤에프 비타코코코코넛워터오리지널1000ML       7910          4      0.949          1      0.995      0.995\n",
      " 더케어홀딩스 브로콜리혼합주스1000ML       7910         10      0.977          1      0.995      0.995\n",
      "더케어홀딩스 팁코코코넛워터혼합주스1000ML       7910          7      0.969          1      0.995      0.995\n",
      "  동서 오션스프레이크랜베리클래식1.5L       7910          8      0.974          1      0.995      0.995\n",
      "    롯데 미남은복분자를좋아해 1.5L       7910          8      0.973          1      0.995      0.995\n",
      "자임에프앤비 안녕자두야NFC사과주스100ML       7910          6      0.841      0.887      0.924      0.924\n",
      "자임에프앤비 뽀로로홍삼쏙쏙사과매실100ML       7910          7      0.977          1      0.995      0.995\n",
      "  광동제약 광동홍삼쌍화진100ML*10       7910          8      0.969          1      0.995      0.995\n",
      "  광동제약 광동생강쌍화진100ML*10       7910          8      0.973          1      0.995      0.995\n",
      "      테일러팜스 푸룬딥워터180ML       7910          7      0.971          1      0.995      0.995\n",
      "소울네이처푸드 세리박스레몬프로젝트110G       7910          9      0.976          1      0.995      0.995\n",
      " 올웨이즈앤에프앤비 씨씨오렌지팩200ML       7910          6       0.98          1      0.995      0.995\n",
      "   한국뉴초이스푸드 아쌈밀크티300ML       7910          7      0.977          1      0.995      0.995\n",
      "   주식회사위닝 말리코코넛워터330ML       7910          6      0.964          1      0.995      0.995\n",
      "   서울에프앤비 마이밀비핏오트190ML       7910          8          1      0.542      0.982      0.982\n",
      " 서울에프앤비 마이밀비핏오트초코190ML       7910          6      0.662          1      0.927      0.927\n",
      " 씨제이올리브영 그대로착즙한사과100ML       7910          7          1      0.809      0.995      0.995\n",
      "  롯데쇼핑 초이스엘청포도음료초500ML       7910          9       0.99          1      0.995      0.624\n",
      "   롯데쇼핑 초이스엘석류음료초500ML       7910          5      0.959          1      0.995      0.995\n",
      " 한국인삼공사 아이키커플러스사과100ML       7910         10       0.98          1      0.995      0.995\n",
      " 한국인삼공사 아이키커플러스포도100ML       7910          9      0.974          1      0.995      0.995\n",
      "자임에프앤비 신비아파트사과착즙주스100ML       7910          4       0.95          1      0.995      0.995\n",
      "자임에프앤비 신비아파트포도착즙주스100ML       7910          6      0.976          1      0.995      0.995\n",
      " 롯데칠성음료 마스터토닉워터제로410ML       7910          6      0.967          1      0.995      0.967\n",
      "   롯데칠성음료 마스터토닉워터410ML       7910          9      0.978          1      0.995      0.995\n",
      "  푸드웰 닥터리브곤약젤리애플망고150G       7910         10      0.975          1      0.995      0.995\n",
      "   푸드웰 닥터리브곤약젤리복숭아150G       7910          5        0.8      0.802      0.962      0.962\n",
      "    롯데쇼핑 파인애플착즙주스700ML       7910          7      0.969          1      0.995      0.995\n",
      "      동원 청미채옐로우200ML*3       7910         10      0.988          1      0.995      0.959\n",
      "      해태썬키스트망고바나나300ML       7910          5      0.959          1      0.995      0.995\n",
      "          웰그린애플망고340ML       7910          7      0.969          1      0.995      0.995\n",
      "       OKF)옐로우스무디350ml       7910          8      0.995          1      0.995      0.995\n",
      "        OKF)레드스무디350ML       7910          6      0.963          1      0.995      0.995\n",
      "            롯데핫식스355ML       7910          7      0.968          1      0.995      0.995\n",
      "    화인바이오)지리산맑은샘물500ML       7910         10      0.977          1      0.995      0.995\n",
      "      롯데델몬트포도100%400ML       7910          3      0.939          1      0.995      0.995\n",
      " 코카콜라)고티카콜드브루카페라떼265ML       7910         10      0.992          1      0.995      0.995\n",
      "        몬스터에너지울트라355ML       7910          7      0.963          1      0.995      0.995\n",
      "         몬스터에너지그린355ML       7910         10      0.965          1      0.995      0.995\n",
      "        웅진자연은제주감귤340ML       7910          8      0.975          1      0.995      0.995\n",
      "            롯데밀키스250ML       7910          8      0.994          1      0.995      0.995\n",
      "   롯데)칸타타스위트아메리카노275ML       7910          9      0.976          1      0.995      0.995\n",
      "   롯데)칸타타프리미엄카페라떼200ML       7910          8      0.968          1      0.995      0.995\n",
      "    롯데칸타타스위트아메리카노175ML       7910          5      0.962          1      0.995      0.995\n",
      "    몬스터에너지파이프라인펀치355ML       7910          6      0.965          1      0.995      0.995\n",
      "     코카콜라)미닛메이드망고175ML       7910          6      0.963          1      0.995      0.995\n",
      "            코코팜포도238ML       7910          7      0.969          1      0.995      0.995\n",
      "     롯데)칸타타프리미엄라떼175ML       7910          8      0.973          1      0.995      0.995\n",
      "       동아오츠카화이브미니100ML       7910          8      0.973          1      0.995      0.995\n",
      "            코카암바사345ML       7910          7      0.969          1      0.995      0.995\n",
      "    코카조지아크래프트카페라떼470ML       7910          6      0.965          1      0.995      0.995\n",
      "          슈웹스라임피즈350ML       7910          7       0.97          1      0.995      0.995\n",
      "롯데칠성요랄라요구르트스파클링(펫)420ML       7910          7       0.97          1      0.995      0.995\n",
      "      빙그레따옴석류크랜베리235ML       7910          7      0.969          1      0.995      0.995\n",
      "        따뜻한허니레몬&배280ML       7910          9      0.977          1      0.995      0.995\n",
      "             코카콜라250ML       7910          5      0.979          1      0.995      0.995\n",
      "  코카콜라)캐나다드라이진저에일250ML       7910          7      0.967          1      0.995      0.995\n",
      "       캐나다드라이토닉워터250ML       7910          9      0.975          1      0.995      0.995\n",
      "            CJ헛개수340ML       7910          7       0.97          1      0.995      0.995\n",
      "         미스터초이스애플300ML       7910          8          1      0.701      0.995      0.995\n",
      "         미스터초이스리치300ML       7910          6      0.943          1      0.995      0.995\n",
      "      서울에프엔비망고스무디190ML       7910         11      0.977          1      0.995      0.995\n",
      "     유어스)NEO키위스무디190ML       7910          8      0.973          1      0.995      0.995\n",
      "        동아오츠카블랙빈티340ML       7910          7      0.969          1      0.995      0.995\n",
      "          광동)홍삼꿀D100ML       7910          5      0.958          1      0.995      0.995\n",
      "          롯데쌕쌕오렌지240ML       7910          8      0.973          1      0.995      0.995\n",
      "               맥콜355ML       7910          7      0.971          1      0.995      0.995\n",
      "       웅진)아침햇살(캔)180ML       7910          6      0.965          1      0.995      0.995\n",
      "         칠성사이다로어슈거1.5L       7910          8      0.975          1      0.995      0.995\n",
      "     동아오츠카)데미소다오렌지1.5L       7910          8      0.973          1      0.995      0.995\n",
      "             아임소다다1.5L       7910          5      0.959          1      0.995      0.995\n",
      "          동아오란씨오렌지1.5L       7910          6      0.966          1      0.995      0.995\n",
      "              코카콜라1.6L       7910          6      0.963          1      0.995      0.995\n",
      "      츄파춥스레몬라임스파클링1.5L       7910          7      0.989          1      0.995      0.659\n",
      "    코카)미닛메이드오리지널포도1.8L       7910          5      0.959          1      0.995      0.995\n",
      "           롯데칠성사이다1.5L       7910          8      0.974          1      0.995      0.995\n",
      "          동아포카리스웨트1.8L       7910          5      0.964          1      0.995      0.995\n",
      "    델몬트콜드포도과즙100%1.89L       7910          5      0.802          1      0.862      0.862\n",
      "            웅진하늘보리1.5L       7910          7       0.97          1      0.995      0.995\n",
      "        웅진티즐유자그린티500ml       7910          8      0.974          1      0.995      0.995\n",
      "         동원양반배수정과500ml       7910          8      0.973          1      0.995      0.995\n",
      "         CJ컨디션레이디100ML       7910          6      0.965          1      0.995      0.995\n",
      "          동서 보리차 500ML       7910          9      0.969          1      0.995      0.995\n",
      "      씨그램 애플리프레시 350ML       7910          5      0.958          1      0.995      0.995\n",
      "  풀무원식품)아임리얼스트로베리190ML       7910          6      0.991          1      0.995      0.818\n",
      "풀무원식품)아임리얼순수착즙오렌지190ML       7910          6      0.964          1      0.995      0.995\n",
      "풀무원식품)아임리얼스무디아이스트로베리190ML       7910          9      0.976          1      0.995      0.995\n",
      "   풀무원식품)아임프룻청송사과215ML       7910         10      0.973          1      0.995      0.995\n",
      " 풀무원식품)아임프유어레몬에이드270ML       7910          8      0.972          1      0.995      0.995\n",
      "        푸르밀)달고나라떼250ML       7910          6      0.985          1      0.995      0.995\n",
      "       거창공장)아침에주스950ML       7910          9      0.983          1      0.995      0.995\n",
      "        남양)야채체움녹황190ML       7910          6      0.902          1      0.995      0.995\n",
      "     서울우유)아침에주스포도950ML       7910          7      0.969          1      0.995      0.995\n",
      "    한국야쿠르트)하루야채타요400ML       7910         10          1      0.966      0.995      0.981\n",
      " 네추럴웨이)LOOK킬팻다이어트170ML       7910         10      0.983          1      0.995      0.995\n",
      "매일유업)바리스타룰스플라넬드립라떼325ML       7910          7      0.984          1      0.995      0.995\n",
      "       푸르밀)생초콜릿라떼250ML       7910          5      0.958          1      0.995      0.995\n",
      "   엠즈씨드)폴바셋콜드브루보틀300ML       7910          8      0.973          1      0.995      0.995\n",
      "        남양유업)채움포도210ML       7910          8      0.991          1      0.995      0.995\n",
      "        남양유업)초코에몽180ML       7910          9      0.975          1      0.995      0.995\n",
      "       매일유업)슬로우밀크180ML       7910          6      0.965          1      0.995      0.995\n",
      "         남양)채움오렌지210ML       7910          8      0.971          1      0.995      0.995\n",
      "        홈플러스심플러스스파클링자몽       7910          9      0.976          1      0.995      0.995\n",
      "           일화아임소다다메론소다       7910         10       0.98          1      0.995      0.995\n",
      "      홈플러스심플러스스파클링그린애플       7910         11       0.98          1      0.995      0.995\n",
      "      홈플러스심플러스스파클링레몬라임       7910          9      0.975          1      0.995      0.995\n",
      "       홈플러스심플러스스파클링청포도       7910          8      0.962          1      0.995      0.995\n",
      "         샘표맛있게염도낮은양조간장       7910          5      0.959          1      0.995      0.995\n",
      "             청정원순창초고추장       7910          7       0.97          1      0.995      0.984\n",
      "               미성엠에스레몬       7910          6      0.965          1      0.995      0.995\n",
      "        롯데)온리프라이스미네랄워터       7910         10       0.98          1      0.995      0.995\n",
      "       한국쥬맥스)랭거스루비레드자몽       7910          7      0.828      0.714      0.792      0.792\n",
      "     롯데)델몬트콜드복숭아과즙100%       7910          8      0.973          1      0.995      0.995\n",
      "          롯데)델몬트콜드사과주스       7910          8       0.94          1      0.995      0.995\n",
      "         한국쥬맥스)랭거스사과주스       7910          7      0.944      0.857      0.964      0.964\n",
      "            롯데)펩시160ML       7910          9      0.976          1      0.995      0.986\n",
      "      예광인터내셔널)아담스파클링애플       7910          9      0.977          1      0.995      0.964\n",
      "      예광인터내셔널)이브스파클링애플       7910          7      0.969          1      0.995      0.995\n",
      "          농심 백산수 330ML       7910          9          1      0.616      0.995      0.995\n",
      "아쿠아리어스 골드메달스파클링애플주스 296ML       7910          8      0.973          1      0.995      0.995\n",
      "             상일)테이크파이브       7910          6      0.965          1      0.995      0.995\n",
      "           고구려통상)가토멜론맛       7910          7       0.97          1      0.995      0.995\n",
      "삼양패키징)맥심TOP심플리스무스로스티라떼       7910         10       0.98          1      0.995      0.995\n",
      "파인프로덕츠)파인바질시드드링크그레이프플레이버       7910         10      0.978          1      0.995      0.995\n",
      "      한국음료)조지아고티카빈티지라떼       7910          4      0.953          1      0.995      0.995\n",
      "       동서식품)맥심TOP마스터라떼       7910          6      0.959          1      0.995      0.995\n",
      "        금강B&F)칸타타아메리카노       7910          6      0.969          1      0.995      0.995\n",
      "          회풍유통)차파이레몬홍차       7910          9      0.976          1      0.995      0.995\n",
      "          회풍유통)차파이중국유자       7910         10          1      0.999      0.995      0.995\n",
      "           고구려통상)가토리치맛       7910          7          1          0      0.995      0.793\n",
      "           고구려통상)가토수박맛       7910          4      0.999          1      0.995      0.777\n",
      "      리엘산업)코코리치위드나타드코코       7910         10      0.977          1      0.995      0.995\n",
      "      리엘산업)코코망고위드나타드코코       7910          6      0.969          1      0.995      0.995\n",
      "      동아오츠카)포카리스웨트이온워터       7910         10      0.979          1      0.995      0.995\n",
      "   건강한사람들)고려은단스파클링비타민C       7910          9      0.973          1      0.995      0.995\n",
      "         농심)파워오투아이스베리향       7910          3      0.917          1      0.995      0.995\n",
      "          농심)파워오투애플키워향       7910          8      0.972          1      0.995      0.995\n",
      "         농심)파워오투오렌지레몬향       7910          7       0.97          1      0.995      0.995\n",
      "   삼양패키징)맥심TOP심플리스무스라떼       7910          5      0.972          1      0.995      0.995\n",
      "             농심)오이오차녹차       7910          6      0.964          1      0.995      0.995\n",
      "           동원)바이오티피치핑크       7910          7      0.968          1      0.995      0.995\n",
      "          비에이치델리)오후의홍차       7910          5      0.966          1      0.995      0.995\n",
      "         삼양패키징)티즐피치우롱티       7910          8      0.973          1      0.995      0.995\n",
      "           ATG컴퍼니)푸룬주스       7910          9      0.977          1      0.995      0.995\n",
      "            이마트)아로니아주스       7910          5      0.963          1      0.995      0.995\n",
      "      건강한사람들)과일사이다딸기키위       7910          7      0.969          1      0.995      0.995\n",
      "             웅진식품)이온더핏       7910          8      0.974          1      0.995      0.995\n",
      "  동서식품)스타벅스프라푸치노(카라멜향)       7910          6      0.962          1      0.995      0.995\n",
      "           미성패밀리)엠에스레몬       7910          8      0.972          1      0.995      0.995\n",
      "           미성패밀리)엠에스라인       7910          4      0.953          1      0.995      0.995\n",
      "        부루구루)부루구루콤부차레몬       7910          6      0.966          1      0.995      0.995\n",
      "      부루구루)부루구루콤부차오리지널       7910          8      0.973          1      0.995      0.995\n",
      "       삼양패키징)미초깔끔한깔라만시       7910          9      0.977          1      0.995      0.995\n",
      "       삼양패키징)프로틴에이드포도맛       7910          8      0.975          1      0.995      0.995\n",
      "   에이플네이처)퍼펙트파워쉐이크바닐라향       7910          9      0.976          1      0.995      0.995\n",
      " 에이플네이처)퍼펙트파워쉐이크초코바나나맛       7910          4       0.95          1      0.995      0.995\n",
      "    서울에프엔비)마시는식사마일드카카오       7910          8      0.974          1      0.995      0.995\n",
      "     서울에프엔비)마시는식사마일드라떼       7910          9      0.976          1      0.995      0.995\n",
      "               푸드웰)끙아비       7910          7          1      0.988      0.995      0.995\n",
      "               푸드웰)끙아씨       7910          7      0.973          1      0.995      0.995\n",
      "              푸드웰)끙아에이       7910          6      0.966          1      0.995      0.973\n",
      "   엠에스씨)처음먹는유기농과일과&채주스       7910          6       0.97          1      0.995      0.995\n",
      "     엠에스씨)아이쭉쭉워터젤리제주감귤       7910          9      0.976          1      0.995      0.968\n",
      "         호재준)유기농애플퓨어주스       7910          8      0.973          1      0.995      0.995\n",
      "           휴럼)휴럼데이스틱석류       7910          5      0.961          1      0.995      0.995\n",
      "          씨제이)쁘띠첼미초복숭아       7910          9      0.977          1      0.995      0.995\n",
      "          일화) 미콜 250ml       7910          7      0.972          1      0.995      0.995\n",
      "      롯데레쓰비마일드커피 200ml       7910         10       0.98          1      0.995      0.995\n",
      "     동아오츠카오란씨파인애플180ml       7910          9      0.975          1      0.995      0.995\n",
      "           해태봉봉포도238ML       7910          8       0.97          1      0.995      0.995\n",
      "           롯데비타파워180ml       7910          7      0.971          1      0.995      0.995\n",
      "         롯데내몸사랑녹차175ml       7910          7      0.976          1      0.995      0.995\n",
      "           롯데마운틴듀250ML       7910          3      0.951          1      0.995      0.995\n",
      "     코카콜라조지아카페마일드175ml       7910          8      0.959          1      0.995      0.995\n",
      "   코카콜라조지아카페스위트블랙175ml       7910         10      0.907          1      0.995      0.995\n",
      "          해태갈배사이다210ML       7910          9      0.975          1      0.995      0.995\n",
      "           델몬트알로에180ml       7910          6      0.964          1      0.995      0.995\n",
      "     롯데)2%부족할때아쿠아500ML       7910          9      0.979          1      0.995      0.995\n",
      "      산펠레그리노폼펠모자몽330ML       7910          7      0.969          1      0.995      0.995\n",
      "          농심웰치스포도355ml       7910         10      0.978          1      0.995      0.995\n",
      "          해태갈아만든배340ML       7910          7       0.97          1      0.995      0.995\n",
      "노칼비버리지)아리조나 아이스드 티 위드 레몬향340ml       7910          6      0.964          1      0.995      0.995\n",
      "         현대미에로화이바100ML       7910          6      0.965          1      0.995      0.995\n",
      "    동해고성해양심층수천년동안350ML       7910          9      0.976          1      0.995      0.995\n",
      "          에이드요구르트340ML       7910         11       0.98          1      0.995      0.995\n",
      "롯데)숨편한목단비국화차(PET)500ML       7910          5       0.96          1      0.995      0.995\n",
      "        코카파워에이드MB600ML       7910          8       0.99          1      0.995      0.995\n",
      "          가야알로에농장180ML       7910         10      0.978          1      0.995      0.995\n",
      "        롯데레쓰비모카라떼175ML       7910          5      0.959          1      0.995      0.995\n",
      "          롯데트레비라임300ML       7910          9       0.98          1      0.995      0.995\n",
      "          롯데델몬트망고400ML       7910          6      0.969          1      0.995      0.995\n",
      "롯데)칸타타콘트라베이스콜드브루라떼500ML       7910          8      0.977          1      0.995      0.995\n",
      "         롯데)립톤밀크티240ML       7910         10      0.968        0.9      0.986      0.986\n",
      "        롯데핫식스더킹파워355ML       7910         11      0.979          1      0.995      0.995\n",
      "           빅토리아라임350ML       7910          4      0.949          1      0.995      0.995\n",
      "        코카파워에이드MB240ML       7910          7      0.984          1      0.995      0.995\n",
      "     롯데레쓰비연유커피베트남240ML       7910         11      0.978          1      0.995      0.995\n",
      "  롯데)레쓰비아시아트립쏠트커피240ML       7910          9      0.936          1      0.995      0.995\n",
      "          롯데)펩시콜라210ML       7910          8      0.974          1      0.995      0.995\n",
      "        하이트엑스트라콜드355ml       7910          8      0.974          1      0.995      0.995\n",
      "          롯데잔치집식혜240ml       7910          7      0.965          1      0.995      0.995\n",
      "          오란씨깔라만시250ML       7910          8      0.962          1      0.995      0.995\n",
      "          코코팜망고코넛340ML       7910          8      0.973          1      0.995      0.995\n",
      "      롯데칸타타프리미엄라떼275ML       7910          7      0.969          1      0.995      0.995\n",
      "      칸타타프리미엄카페라떼390ML       7910          9      0.976          1      0.995      0.995\n",
      "        코카파워에이드MB520ML       7910          7      0.971          1      0.995      0.995\n",
      "롯데)데일리C레몬1000C+파우치 230ml       7910          6      0.969          1      0.995      0.995\n",
      "     해태)썬키스트훼미리포도180ML       7910          5      0.959          1      0.995      0.995\n",
      "            롯데실론티240ML       7910          7      0.969          1      0.995      0.995\n",
      "         해태파인애플봉봉240ML       7910          8      0.967          1      0.995      0.995\n",
      "           롯데게토레이240ML       7910         10      0.978          1      0.995      0.995\n",
      "   코카콜라캐나다드라이클립소다250ML       7910         10      0.979          1      0.995      0.995\n",
      "         해태)복숭아봉봉340ML       7910          6      0.966          1      0.995      0.995\n",
      "     롯데)레쓰비카페타임라떼240ML       7910         10      0.978          1      0.995      0.995\n",
      "          코카환타오렌지250ML       7910          7      0.971          1      0.995      0.995\n",
      " 코카콜라)조지아고티카빈티지라떼270ML       7910         11       0.98          1      0.995      0.995\n",
      "         심플러스바른샘물300ML       7910          8      0.972          1      0.995      0.995\n",
      "코카콜라)코카콜라오리지날테이스트250ml       7910          6      0.964          1      0.995      0.995\n",
      "         현대미에로화이바350ML       7910          7       0.97          1      0.995      0.995\n",
      " 코카조지아고티카스위트아메리카노270ML       7910          9          1      0.679      0.995      0.611\n",
      "         아이시스8.0 300ml       7910          6      0.963          1      0.995      0.995\n",
      "     롯데트로피카나퓨어주포도190ml       7910          7      0.981          1      0.995      0.981\n",
      "        해태)코코팜복숭아300ML       7910          6      0.965          1      0.995      0.995\n",
      "          해태강원평창수500ML       7910          8          1      0.937      0.995      0.995\n",
      "            광동우엉차500ml       7910          6      0.964          1      0.995      0.995\n",
      "     미닛메이드홈스타일청포도180ml       7910          8      0.993          1      0.995      0.995\n",
      "    롯데트레비플레인(CAN)190ML       7910          8      0.973          1      0.995      0.995\n",
      "         웅진옥수수수염차180ML       7910          6       0.96          1      0.995      0.995\n",
      "           롯데펩시콜라1.25L       7910          9      0.976          1      0.995      0.995\n",
      "         델몬트팜&홈청포도1.2L       7910          8      0.957          1      0.995      0.995\n",
      "     롯데트레비플레인(PET)1.2L       7910          7      0.962          1      0.995      0.995\n",
      "          웅진자연은알로에1.5L       7910          7      0.969          1      0.995      0.995\n",
      "              롯데볼빅1.5L       7910         11      0.985          1      0.995      0.995\n",
      "          한국청정음료몽베스트2L       7910         10          1      0.943      0.995      0.995\n",
      "        롯데게토레이블루볼트1.5L       7910          8      0.975          1      0.995      0.995\n",
      "      해태코코팜피치핑크복숭아1.5L       7910          6      0.964          1      0.995      0.995\n",
      "          델몬트팜&홈오렌지1.2       7910          6      0.967          1      0.995      0.995\n",
      "     웅진)아침에제주감귤자연은1.5L       7910          7      0.973          1      0.995      0.995\n",
      "             하이트진로석수2L       7910          7      0.968          1      0.995      0.995\n",
      "         남양참옥수수수염차1.5L       7910          6      0.965          1      0.995      0.995\n",
      "            웅진자연은배1.8L       7910          8      0.972          1      0.995      0.995\n",
      "        해태과일촌아침에망고1.5L       7910          7      0.969          1      0.995      0.995\n",
      "           롯데델몬트망고1.8L       7910          3      0.942          1      0.995      0.995\n",
      "    코카콜라)미닛메이드제주감귤1.5L       7910          6      0.991          1      0.995      0.995\n",
      "       웰바질시드드링크리치290ML       7910         10       0.98          1      0.995      0.995\n",
      "카페모아)복숭아아이스티230ML(파우치)       7910          9      0.976          1      0.995      0.995\n",
      "  카페모아)자두에이드340ML(파우치)       7910          6      0.969          1      0.995      0.995\n",
      "스윗카페)아이스블루베리230ML(파우치)       7910          7      0.975          1      0.995      0.995\n",
      "서울에프앤비)시로앤마로카라멜마끼아또300ml       7910         10          1       0.95      0.995      0.995\n",
      "        웅진빅토리아청포도500ml       7910          7       0.98          1      0.995      0.995\n",
      "           빙그레아카페라가페라떼       7910         10      0.978          1      0.995      0.995\n",
      "             빙그레쥬시쿨복숭아       7910         12      0.982          1      0.995      0.995\n",
      "       서울에프엔비쥬시쿨청포도에이드       7910         11      0.979          1      0.995      0.995\n",
      "     서울에프엔비쥬시쿨금귤&감귤에이드       7910          8      0.973          1      0.995      0.995\n",
      "  풀무원)풀무원아임그린보리새싹150ML       7910          9      0.978          1      0.995      0.995\n",
      " 매일유업)썬업과일야채샐러드레드200ML       7910          8      0.976          1      0.995      0.995\n",
      "  풀무원)아임프릇제주한라봉감귤215ML       7910          9      0.974          1      0.995      0.995\n",
      "    풀무원)아임유어레몬에이드700ml       7910          7      0.969          1      0.995      0.995\n",
      "매일유업)매일 썬업 오렌지 100% 200ML       7910         10          1      0.923      0.995      0.995\n",
      "   한국야쿠르트)하루야채 퍼플200ML       7910          6      0.971          1      0.995      0.995\n",
      "  풀무원)아임그린 아스파라거스150ML       7910          7      0.964          1      0.995      0.995\n",
      "매일유업)아메리카노싱글오리진코스타리카330ML       7910          7      0.971          1      0.995      0.973\n",
      " 서울에프엔비)볼드에스프레소라떼300ML       7910          8      0.974          1      0.995      0.995\n",
      " 서울에프엔비)트루에스프레소블랙300ML       7910          6      0.964          1      0.995      0.995\n",
      "동원F&B)달달하고부드러운흑당크림라떼300ML       7910          6      0.985          1      0.995      0.995\n",
      "남양유업)프렌치카페로스터리에스프레소라떼250ML       7910          6      0.977          1      0.995      0.995\n",
      "남양유업)루카스나인시그니처아메리카노250ML       7910          6      0.975          1      0.995      0.995\n",
      "   동원F&B)콩카페코코넛라떼250ML       7910         10      0.961          1      0.995      0.995\n",
      " 삼양패키징)콜롬비아나마스터블랙500ML       7910          8      0.976          1      0.995      0.995\n",
      "  인터비앤에프)분다버그진저비어375ML       7910          6      0.965          1      0.995      0.995\n",
      "코카-콜라음료)조지아고티카콜드브루아메리카노265ML       7910          9      0.975          1      0.995      0.995\n",
      "홈플러스)갈바니나스파클링자몽에이드355ML       7910          7          1      0.955      0.995      0.619\n",
      "동서식품)파이크플레이스로스트블랙커피275ML       7910          5          1      0.916      0.995      0.995\n",
      "        한국쥬맥스)모구모구복숭아향       7910         10      0.978          1      0.995      0.995\n",
      "         한국쥬맥스)모구모구리치맛       7910          6      0.968          1      0.995      0.995\n",
      "           롯데)델몬트ABC주스       7910          6      0.967          1      0.995      0.995\n",
      "            이콤)황성주약콩두유       7910          8      0.967          1      0.995      0.995\n",
      "               롯데쇼핑)콜라       7910          6       0.97          1      0.995      0.995\n",
      "          롯데쇼핑)스파클링사이다       7910          8      0.973          1      0.995      0.995\n",
      "          롯데쇼핑)실론시나몬차이       7910          5       0.96          1      0.995      0.995\n",
      "           롯데쇼핑)캐모마일애플       7910          5      0.953          1      0.995      0.995\n",
      "    롯데쇼핑)스트로베리히비스커스로즈힙       7910          4      0.949          1      0.995      0.995\n",
      "        히어로우)먹는샘물미네랄워터       7910          4      0.814          1      0.995      0.921\n",
      "자임)100%NFC착즙주스사과&비트&당근       7910          8      0.988          1      0.995      0.995\n",
      "      자임)물한방울넣지않은배&도라지       7910         11      0.981          1      0.995      0.995\n",
      "      자임)NFC착즙주스100%석류       7910          8      0.909      0.875      0.982      0.982\n",
      "      푸드웰)곤약젤리스위트아메리카노       7910          7      0.971          1      0.995      0.995\n",
      "     한국쥬맥스)해피데이아로니아+체리       7910          6      0.964          1      0.995      0.995\n",
      "     금강B&F)청춘전투자몽에꿀한스푼       7910          7      0.977          1      0.995      0.995\n",
      "    금강B&F)청춘전투진저에레몬한방울       7910          6      0.967          1      0.995      0.995\n",
      "오가닉집)캐스케이드유기농스파클링워터믹스베리       7910          7      0.972          1      0.995       0.97\n",
      "   오가닉집)캐스케이드스파클링레모네이드       7910          6      0.964          1      0.995      0.995\n",
      "오가닉집)캐스케이드스파클링오렌지망고에이드       7910          8      0.973          1      0.995      0.995\n",
      "            삼양패키징)버터모카       7910          7          1      0.803      0.995       0.98\n",
      "   금강B&F)청춘전투세상에없는캐모마일       7910         10      0.995          1      0.995      0.995\n",
      "           한국청정음료)트루워터       7910          7      0.978          1      0.995      0.974\n",
      "              광동)제주삼다수       7910          5      0.958          1      0.995      0.995\n",
      "        제이크리에이션)제주트루워터       7910          7      0.972          1      0.995      0.995\n",
      "          이마트)일리커피카푸치노       7910          4      0.767          1      0.796      0.796\n",
      "          이마트)일리커피카페라떼       7910          8      0.974          1      0.995      0.995\n",
      "        동서음료)레드불에너지드링크       7910         15      0.991          1      0.995      0.995\n",
      "       상일)테이크파이브(체리피치)       7910          8          1          1      0.995      0.995\n",
      "           와인나라)바바리아레몬       7910         10      0.977          1      0.995      0.995\n",
      "           위닝)코코넛밀크드링크       7910          7       0.97          1      0.995      0.995\n",
      "         농심)웰치포도주스오리지널       7910          6      0.964          1      0.995      0.995\n",
      "         농심)웰치사과주스오리지널       7910          5      0.798          1      0.995      0.995\n",
      "        농심)웰치청포도주스오리지널       7910          8      0.973          1      0.995      0.995\n",
      "        더케이홀딩스)쇼군오렌지주스       7910          6      0.963          1      0.995      0.995\n",
      "         더케이홀딩스)망고혼합주스       7910          8      0.972          1      0.995      0.995\n",
      "           웰팜)클렌즈스무디퍼플       7910          7          1      0.792      0.995      0.944\n",
      "        꽃샘식품)초이스허니세븐베리       7910          5      0.957          1      0.995      0.995\n",
      "        꽃샘식품)초이스허니라인레몬       7910          6      0.927          1      0.995      0.995\n",
      "      웰팜)100%유기농딸기그레이프       7910          5      0.961          1      0.995      0.995\n",
      "         프레쉬벨)파파주스배도라지       7910          7      0.967          1      0.995      0.995\n",
      "  자임에프엔비)신비아파트배도라지착즙주스       7910          6          1          0      0.848      0.848\n",
      "           롯데쇼핑)감귤착즙주스       7910         12      0.981          1      0.995      0.995\n",
      "           롯데쇼핑)포도착즙주스       7910          8      0.976          1      0.995      0.995\n",
      "           롯데쇼핑)석류착즙주스       7910          8      0.973          1      0.995      0.995\n",
      "  롯데트로피카나스파클링파인애플355ML       7910          8      0.986          1      0.995      0.995\n",
      "    바리스타룰스)콜드브루블랙325ML       7910          6      0.981          1      0.995      0.995\n",
      "        롯데)미린다오렌지355ML       7910          7      0.968          1      0.995      0.995\n",
      "           롯데비타파워100ml       7910         10      0.978          1      0.995      0.995\n",
      "       롯데현미참두유검은콩190ML       7910          6      0.969          1      0.995      0.995\n",
      "           롯데진복분자180ML       7910          8      0.973          1      0.995      0.995\n",
      "         가야배농장180ML(병)       7910         10      0.978          1      0.995      0.995\n",
      "  롯데핑크퐁키즈홍삼(포도야채)100ML       7910          7          1      0.698      0.995      0.995\n",
      "    롯데트로피카나스파클링포도355ML       7910          8      0.973          1      0.995      0.995\n",
      "             일화맥콜250ML       7910          6      0.967          1      0.995      0.995\n",
      "          일화초정탄산수190ML       7910          9      0.977          1      0.995      0.995\n",
      "   롯데칸타타오리지날 원두커피390ml       7910          4      0.948          1      0.995      0.995\n",
      "  오케이에프요거상큼코코앤복숭아340ML       7910          9      0.977          1      0.995      0.995\n",
      "        롯데쌕쌕제주감귤캔180ML       7910          7       0.97          1      0.995      0.995\n",
      "        코카파워에이드MB355ML       7910          3      0.938          1      0.995      0.995\n",
      "         롯데사각사각꿀배340ML       7910          6      0.966          1      0.995      0.995\n",
      "      동아포카리스웨트(캔)340ML       7910         12       0.98          1      0.995      0.995\n",
      "    오케이에프미닛메이드알로에175ML       7910          7      0.971          1      0.995      0.995\n",
      "nutrlon&taste수박소다350ML       7910         11      0.979          1      0.995      0.995\n",
      "  LOTTE레쓰비 마일드 커피150ML       7910         10          1       0.79      0.995      0.995\n",
      "          바이오휘오제주500ML       7910          9      0.976          1      0.995      0.995\n",
      "      롯데칠성사각사각복숭아340ML       7910          4      0.951          1      0.995      0.995\n",
      "             코카콜라190ML       7910          6      0.961          1      0.995      0.995\n",
      "      코카조지아커피오리지널240ML       7910          6      0.965          1      0.995      0.995\n",
      "    코카)미닛메이드조이오렌지175ML       7910          9       0.98          1      0.995      0.995\n",
      "           컨디션CEO150ML       7910          8      0.973          1      0.995      0.995\n",
      "     롯데칸타타에스프레소블랙175ML       7910          6      0.965          1      0.995      0.995\n",
      "          웅진자연은오렌지1.5L       7910         10      0.973          1      0.995      0.995\n",
      "           일화초정탄산수1.5L       7910          8      0.985          1      0.995      0.995\n",
      "            나랑드사이다1.5L       7910          7       0.97          1      0.995      0.995\n",
      "           웅진자연은당근1.5L       7910          7      0.969          1      0.995      0.995\n",
      "      일화초정공장탑씨파인애플1.5L       7910         14      0.983          1      0.995      0.995\n",
      "      농심)웰치화이트그레이프1.5L       7910          7      0.971          1      0.995      0.995\n",
      "     코카미닛메이드홈스타일자몽1.2L       7910          4      0.767          1      0.895      0.895\n",
      "          코카미닛제주감귤1.5L       7910          6      0.965          1      0.995      0.995\n",
      "        롯데제주사랑감귤사랑1.8L       7910          8      0.977          1      0.995      0.995\n",
      "          코카태양의마테차1.5L       7910         10      0.977          1      0.995      0.995\n",
      "      코카콜라)미닛메이드망고1.5L       7910         10      0.965          1      0.995      0.995\n",
      "      롯데델몬트오렌지100 1.8L       7910          8      0.972          1      0.995      0.995\n",
      "      코카콜라)미닛메이드포도1.2L       7910          9      0.976          1      0.995      0.966\n",
      "         광동힘찬하루헛개차1.5L       7910          6      0.967          1      0.995      0.995\n",
      "        썬키스트후레쉬오렌지1.5L       7910         10      0.977          1      0.995      0.995\n",
      "        써니텐 파인애플향 1.5L       7910          5      0.957          1      0.995      0.995\n",
      "         써니텐 오렌지향 1.5L       7910          9      0.976          1      0.995      0.995\n",
      "     일화초정공장)탑씨오렌지향1.5L       7910          3      0.942          1      0.995      0.995\n",
      "       해태썬키스트레몬에이드1.5L       7910         11      0.979          1      0.995      0.995\n",
      "        코카콜라)파워에이드1.5L       7910          7       0.97          1      0.995      0.995\n",
      "        롯데아이시스산림수500ML       7910          7      0.965          1      0.995      0.995\n",
      "     롯데)롯데스카시플러스포도1.5L       7910          7      0.971          1      0.995      0.995\n",
      "         해태아침에사과한개1.5L       7910          7      0.965          1      0.995      0.995\n",
      "    롯데)롯데스카시플러스오렌지1.5L       7910          5       0.96          1      0.995      0.995\n",
      "       웅진자연은내사랑토마토1.5L       7910          8      0.973          1      0.995      0.995\n",
      "       웰바질시드드링크망고290ML       7910          8      0.973          1      0.995      0.995\n",
      "          CJ인삼한뿌리120ML       7910          8      0.974          1      0.995      0.995\n",
      "       팔도)비락바나나식혜238ML       7910         10      0.978          1      0.995      0.995\n",
      "      코카파워에이드퍼플스톰600ML       7910          7      0.969          1      0.995      0.995\n",
      "쟈뎅까페리얼블루레몬에이드(파우치)230ML       7910          6      0.975          1      0.995      0.975\n",
      "    조지아아이스블랙(파우치)230ML       7910          6      0.956          1      0.995      0.995\n",
      "   조지아아이스아메리카노(파우치)230       7910          9      0.976          1      0.995      0.995\n",
      "       쟈뎅아메리카노스위트320ML       7910          6          1      0.874      0.995      0.995\n",
      "스윗카페콜드브루아메리카노(파우치)230ML       7910          9      0.976          1      0.995      0.995\n",
      "         ND247(헛개)75ML       7910          9      0.976          1      0.995      0.995\n",
      "             박카스F120ML       7910          8      0.973          1      0.995      0.995\n",
      "            팔도비락식혜1.8L       7910          7       0.97          1      0.995      0.995\n",
      "           웅진)아침햇살1.5L       7910          8      0.974          1      0.995      0.995\n",
      "     롯데델몬트포도드링크4입190ml       7910          8      0.974          1      0.995      0.995\n",
      "      빙그레아카페라사이즈업아메리카노       7910          9      0.981          1      0.995      0.995\n",
      "        빙그레아카페라카라멜마끼아또       7910          4      0.952          1      0.995      0.995\n",
      "     매일썬업저과즙청사과엘더플라워레몬       7910          9      0.979          1      0.995      0.995\n",
      "           광동다복쌍화150ML       7910          7       0.97          1      0.995      0.995\n",
      "             커피빈 바닐라라떼       7910          6       0.96          1      0.995      0.995\n",
      "         아침에주스유기농오렌지주스       7910          4       0.95          1      0.995      0.995\n",
      "             아침에주스제주감귤       7910          6      0.967          1      0.995      0.995\n",
      "               풀무원아임그린       7910          7      0.925          1      0.995      0.767\n",
      "           풀무원아임프룻청송사과       7910         10      0.976          1      0.995      0.995\n",
      "             풀무원아임그린민트       7910          8          1      0.927      0.995      0.995\n",
      "         서울우유아침에주스제주감귤       7910          7       0.97          1      0.995      0.995\n",
      "            동서스타벅스카페라떼       7910          7      0.976          1      0.995      0.995\n",
      "       동원청미채20가지과일채소그린       7910          5       0.95          1      0.995      0.932\n",
      "       동원청미채20가지과일채소옐로       7910          6      0.969          1      0.995      0.995\n",
      "         네슬레네스퀵초콜릿만드링크       7910         10      0.975          1      0.995      0.995\n",
      "          매일아몬드브리즈오리지널       7910         10       0.98          1      0.995      0.995\n",
      "                남양채움포도       7910          8      0.975          1      0.995      0.995\n",
      "      매일아몬드브리즈언스위트(무당)       7910          8      0.973          1      0.995      0.995\n",
      "           샘표백년동안흑초복분자       7910          6      0.964          1      0.995      0.995\n",
      "         롯데핑크퐁키즈홍삼포도야채       7910         13      0.988          1      0.995      0.995\n",
      "         롯데핑크퐁키즈홍삼배도라지       7910         13      0.991          1      0.995      0.995\n",
      "       롯데핑크퐁키즈홍삼파인애플케일       7910         13      0.982          1      0.995      0.995\n",
      "         롯데핑크퐁키즈홍삼사과당근       7910          9          1       0.78      0.961      0.961\n",
      "          롯데핑크퐁루이보스보리차       7910          7      0.969          1      0.995      0.995\n",
      "        서울에프앤비이롬데일리아몬드       7910          6      0.978          1      0.995      0.995\n",
      "             롯데칠성사이다6캔       7910          7      0.975          1      0.995      0.995\n",
      "        지셀홀딩스차파이복숭아우롱차       7910          7       0.98          1      0.995      0.995\n",
      "        지셀홀딩스차파이자몽자스민차       7910          5       0.95          1      0.995      0.995\n",
      "          롯데칠성음료미니펩시6캔       7910          8      0.982          1      0.995      0.979\n",
      "          델몬트망고드링크(4개)       7910          4          1      0.812      0.995      0.971\n",
      "              일화초정탄산라임       7910          7       0.97          1      0.995      0.995\n",
      "          젠니혼주류치어스다이긴죠       7910          8      0.973          1      0.995      0.995\n",
      "          델몬트망고드링크(1개)       7910          8      0.858      0.756      0.939      0.924\n",
      "            광동제약)광동우롱차       7910          8      0.983          1      0.995      0.995\n",
      "            농심)이토엔자스민티       7910          7      0.969          1      0.995      0.995\n",
      "동서식품)맥스웰하우스콜롬비아나마스터스위트블랙       7910          5       0.95          1      0.995      0.995\n",
      "  남양)프렌치카페로스터리킬링샷아메리카노       7910          6      0.964          1      0.995      0.995\n",
      "        동서식품)스타벅스프라푸치노       7910         10      0.981          1      0.995      0.995\n",
      "    에이치케이이노엔)컨디션헛개수이엑스       7910          9      0.976          1      0.995      0.995\n",
      "          이마트)달지않은일리커피       7910          5      0.978          1      0.995      0.995\n",
      "              이마트)일리커피       7910          5       0.96          1      0.995      0.995\n",
      "       크리스터)파카하드셀처체리라임       7910          8      0.974          1      0.995      0.995\n",
      "       크리스터)파카하드셀처블랙체리       7910          8      0.978          1      0.995      0.995\n",
      " 동서식품)스타벅스파이크플레이스로스트커피       7910          9      0.947          1      0.995      0.995\n",
      "      동서식품)스타벅스시그니처초콜렛       7910          7      0.969          1      0.995      0.995\n",
      " 동서식품)스타벅스브렉퍼스트블렌드블랙커피       7910          8          1      0.873      0.995      0.995\n",
      "       건강마을)뽀로로홍삼쏙쏙오렌지       7910          7      0.986          1      0.995      0.995\n",
      " 자임에프앤비)홍삼을넣은NFC배도라지주스       7910          7       0.97          1      0.995      0.995\n",
      "자임에프앤비)과채주스안녕자두야NFC포도주스       7910          7      0.958          1      0.995      0.995\n",
      "예은상사)퀵블라스트블루라즈베리향(소화기모양)       7910          6      0.965          1      0.995      0.995\n",
      "  예은상사)퀵블라스트체리향(소화기모양)       7910          7      0.971          1      0.995      0.995\n",
      "      낫띵베럴)이너주스푸룬120ML       7910          7      0.968          1      0.995      0.982\n",
      "      낫띵베럴)이너주스자몽120ML       7910          7      0.968          1      0.995      0.995\n",
      "    낫띵베럴)드링킷유기농팥물100ML       7910         10       0.98          1      0.995      0.995\n",
      "씨제이제일제당)쁘띠첼워터젤리자몽130ML       7910          9      0.969          1      0.995      0.953\n",
      " 씨제이올리브영)그대로착즙한석류100ML       7910          7          1      0.587       0.96       0.96\n",
      "    플라노그램)밀라이트브이차100ML       7910         10      0.978          1      0.995      0.987\n",
      "대웅생명과학)글램디4킬로칼로리곤약워터젤리자두맛       7910          5          1      0.914      0.995      0.995\n",
      "대웅생명과학)글램디4킬로칼로리곤약워터젤리복숭아맛       7910          7          1      0.808      0.995      0.995\n",
      "  일양약품주식회사)피로회복자양강장원비디       7910          7      0.969          1      0.995      0.995\n",
      "   롯데쇼핑)물한방울넣지않은사과착즙주스       7910          5      0.955          1      0.995      0.995\n",
      "      롯데칠성사이다로어슈거250ml       7910          9      0.973          1      0.995      0.995\n",
      "    코카스프라이트알루미늄보틀250ML       7910          7      0.973          1      0.995      0.995\n",
      "          일화천연사이다250ML       7910          6      0.917          1      0.995      0.995\n",
      "           롯데펩시콜라250ML       7910         10          1      0.974      0.995      0.995\n",
      "   롯데속까지부드러운꿀배(캔)240ML       7910          7      0.969          1      0.995      0.995\n",
      "      롯데사각사각수박(캔)340ML       7910          8      0.972          1      0.995      0.995\n",
      "         빅토리아(레몬)350ML       7910          5       0.97          1      0.995      0.995\n",
      "     오케이에프빅토리아플레인350ML       7910          9      0.874          1       0.94       0.94\n",
      "         롯데코코리치망코340ML       7910         10      0.976          1      0.995      0.995\n",
      "    롯데트로피카나스파클링망고355ML       7910          9      0.957          1      0.995      0.995\n",
      "롯데칠성요랄라요구르트스파클링(캔)340ML       7910          4      0.951          1      0.995      0.995\n",
      "   코카콜라)미닛스파클링복숭아345ml       7910          6      0.961          1      0.995      0.995\n",
      "           빅토리아자몽350ml       7910          8      0.972          1      0.995      0.995\n",
      "      롯데)유어스도라지꿀배340ML       7910          8      0.969          1      0.995      0.995\n",
      "       광동)비타500스파클링(캔)       7910          6      0.964          1      0.995      0.995\n",
      "일화초정공장벡셀에너지드링크지파크250ML       7910          6      0.961          1      0.995      0.995\n",
      "    롯데델몬트스퀴즈포도에이드240ML       7910         10      0.979          1      0.995      0.995\n",
      "     롯데이프로부족할때복숭아240ML       7910          9      0.978          1      0.995      0.995\n",
      "       해태)코코팜망고코넛240ML       7910          7       0.97          1      0.995      0.995\n",
      "          롯데델몬트망고240ML       7910          5      0.958          1      0.995      0.995\n",
      "         코카환타파인애플250ML       7910         11      0.976          1      0.995      0.995\n",
      "            동아데자와240ML       7910         10      0.977          1      0.995      0.995\n",
      "            일화)맥콜190ML       7910          7      0.971          1      0.995      0.995\n",
      "         롯데가나초코라떼175ML       7910          9      0.976          1      0.995      0.995\n",
      "        롯데핫식스더킹펀치355ML       7910          9      0.976          1      0.995      0.995\n",
      "          롯데)펩시콜라160ML       7910          6      0.942          1      0.995      0.995\n",
      "        심플러스)바른샘물500ML       7910         10          1          0      0.995      0.729\n",
      "            웅진누룽지500ML       7910         10      0.981          1      0.995      0.995\n",
      "       웅진광명찾은결명자차500ML       7910          9      0.974          1      0.995      0.995\n",
      "            코카암바사500ML       7910         10      0.978          1      0.995      0.986\n",
      "            농심백산수500ML       7910         12      0.994          1      0.995      0.995\n",
      "      삼양패키징)복숭아워터410ML       7910          7      0.962          1      0.995      0.995\n",
      "            복숭아녹차340ML       7910          8      0.973          1      0.995      0.995\n",
      "        세븐일레븐)깊은산속옹달샘물       7910          6      0.959          1      0.995      0.995\n",
      "롯데플러스펄프오렌지스파클링에이드500ML       7910          6      0.964          1      0.995      0.995\n",
      "           동서제티초코175ML       7910          6      0.966          1      0.995      0.995\n",
      "          웅진)홍삼꿀d100ml       7910          8       0.97          1      0.995      0.995\n",
      "           웅진가을대추280ml       7910          7      0.968          1      0.995      0.995\n",
      "  롯데델몬트프리미엄포도100 180ML       7910          2      0.983          1      0.995      0.752\n",
      "   롯데)칸타타콘트라베이스블랙400ML       7910          4      0.951          1      0.995      0.995\n",
      "            일화)맥콜1.25l       7910          7       0.91          1      0.995      0.995\n",
      "         해태파인애플봉봉238ML       7910         10      0.978          1      0.995      0.995\n",
      "         코카콜라단짠커피240ML       7910          7      0.969          1      0.995      0.995\n",
      "         코카)미닛메이드포도셀렉트       7910          8      0.972          1      0.995      0.995\n",
      "      롯데델몬트오리지널알로에1.5L       7910          7      0.969          1      0.995      0.995\n",
      "       코카)미닛메이드오렌지1.8L       7910          7      0.959          1      0.995      0.995\n",
      "            코카킨사이다1.5L       7910          7      0.969          1      0.995      0.995\n",
      "          일화)천연사이다1.5L       7910         10      0.974          1      0.995      0.995\n",
      "  코카콜라)미닛식이섬유오렌지망고1.2L       7910          6      0.966          1      0.995      0.995\n",
      "코카)미닛메이드식이섬유사과&크랜베리1.2L       7910         10      0.977          1      0.995      0.995\n",
      "                코카콜라2L       7910         10      0.974          1      0.995      0.995\n",
      "   코카콜라)미닛메이드벚꽃&사과1.2L       7910          6      0.965          1      0.995      0.995\n",
      "             델몬트망고1.5L       7910          9      0.975          1      0.995      0.995\n",
      "          미닛메이드토마토1.5L       7910          6      0.965          1      0.995      0.995\n",
      "           해태코코팜포도1.5L       7910         12      0.981          1      0.995      0.995\n",
      "    코카미닛메이드홈스타일오렌지1.2L       7910          6      0.959          1      0.995      0.995\n",
      "            가야당근농장1.5L       7910          4      0.954          1      0.995      0.995\n",
      "        코카)미닛메이드포도1.5L       7910          8      0.972          1      0.995      0.995\n",
      "               남양천연수2L       7910         10      0.978          1      0.995      0.995\n",
      "               초L)샘물2L       7910         11          1      0.924      0.995      0.995\n",
      "           동아오츠카)마신다2L       7910          7      0.955          1      0.995      0.995\n",
      "          보해양조)스파클링사과톡       7910          9      0.979          1      0.995      0.995\n",
      "        헛개숙취세트3G*100ML       7910          8      0.955          1      0.995      0.995\n",
      "       웅진빅토리아파인애플500ml       7910         10          1      0.877      0.995      0.983\n",
      "             동원쿨피스파인애플       7910          6          1      0.884      0.995      0.951\n",
      "         매일썬업과일야채샐러드녹황       7910         10      0.983          1      0.995      0.986\n",
      "             오프룻딸기&알로에       7910          6      0.969          1      0.995      0.995\n",
      "         매일썬업과일야채샐러드레드       7910          8      0.973          1      0.995       0.98\n",
      "남양 진하게 타먹는 초코에몽 30G 10T       7910          6          1      0.882      0.995      0.995\n",
      "       남양아이꼬야이온케어120ML       7910          7      0.971          1      0.995      0.976\n",
      "남양아이꼬야유기농베이비주스사과포도120ML       7910          7      0.971          1      0.995      0.995\n",
      "남양아이꼬야유기농베이비주스사과배120ML       7910          7      0.974          1      0.995      0.957\n",
      "남양아이꼬야한뼘더큰아기랑콩이랑2단계120ML       7910         10      0.987          1      0.995      0.958\n",
      " 남양아이꼬야유기농베이비주스푸룬120ML       7910          6      0.968          1      0.995      0.995\n",
      "            매일썬업100%사과       7910          7      0.957          1      0.995      0.995\n",
      "      태광웰푸드처음먹는칼슘츄러스야채       7910          7      0.968          1      0.995      0.995\n",
      "            인더비앤에프피지워터       7910          8          1        0.9      0.995      0.995\n",
      "   영남코프레이션레이지레몬주스(노란통)       7910          8      0.975          1      0.995      0.995\n",
      "   영남코프레이션레이지라임주스(초록통)       7910          8      0.972          1      0.995      0.995\n",
      "         지우코포레이션엘막레몬주스       7910          9      0.979          1      0.995      0.986\n",
      "             슈가버블과탄산소다       7910          6      0.984          1      0.995      0.995\n",
      "            홈플러스시그니처콜라       7910          6      0.965          1      0.995      0.964\n",
      "      롯데온리프라이스아메리카노스위트       7910          7          1      0.864      0.995      0.995\n",
      "     롯데온리프라이스아메리카노헤이즐넛       7910          9      0.975          1      0.995      0.995\n",
      "  씨제이푸드뚜레쥬르가만든유기농오렌지주스       7910         10      0.979          1      0.995      0.995\n",
      "           베베쿡처음먹는배도라지       7910          4      0.949          1      0.995      0.995\n",
      "           글로벌심층수)딥스그린       7910         11          1      0.971      0.995      0.995\n",
      "                농심)백산수       7910          9          1      0.328      0.995      0.995\n",
      "       롯데칠성음료)에비앙천연광천수       7910          7      0.863          1      0.995      0.995\n",
      "   델몬트오렌지드링크4개입190ML*4       7910         10      0.906          1      0.959       0.95\n",
      "  델몬트파인애플드링크4개입190ML*4       7910          9      0.891      0.913      0.951      0.951\n",
      "      코아바이오유기농클렌즈콤뷰차부티       7910          7      0.971          1      0.995      0.995\n",
      "함소아제약함소아삐뽀삐뽀매실담은유자2개입100ML*2       7910          9      0.983          1      0.995      0.995\n",
      "함소아제약함소아삐뽀삐뽀딸기담은바나나2개입100ML*2       7910          5      0.915          1      0.995      0.995\n",
      "주식회사그래미)여명808(140ML2개입)       7910          7      0.973          1      0.995      0.995\n",
      "주식회사그래미)여명1004(140ML2개입)       7910          6      0.966          1      0.995      0.995\n",
      "유아이에프앤씨)마틸다스파클링핑크그레이프플룻       7910          6      0.966          1      0.995      0.995\n",
      "    남양)몸이가벼워지는시간17차오리진       7910          8      0.974          1      0.995      0.995\n",
      "    낫띵베럴)이너주스사과당근120ML       7910         11          1      0.892      0.995      0.995\n",
      "웰팜)호재준ABC주스(사과당근비트)100ML       7910          9      0.986          1      0.995      0.995\n",
      "   낫띵베럴)드링킷유기농호박즙100ML       7910          9      0.976          1      0.995      0.995\n",
      "건강마을)세리박스곤약젤리복숭아마시는곤약젤리       7910         10       0.98          1      0.995      0.995\n",
      "건강마을)세리박스곤약젤리청포도마시는곤약젤리       7910          7      0.971          1      0.995      0.995\n",
      "    테일러팜스)테일러푸룬주스180ML       7910          7      0.969          1      0.995      0.995\n",
      " 비에이치델리)이로하스화이트피치500ML       7910          8      0.972          1      0.995      0.995\n",
      "씨제이올리브영)올리브영워터스파클링자몽350ML       7910          6      0.979          1      0.995      0.995\n",
      "   위스트)바이오티그레이프그린350ML       7910          8      0.974          1      0.995      0.995\n",
      "       씨제이제일제당)미초상쾌한푸룬       7910          8      0.977          1      0.995      0.995\n",
      "프레시코)아임얼라이브유기농콤부차프리바이오틱스오리지날315ML       7910         11      0.976          1      0.995      0.995\n",
      "프레시코)아임얼라이브유기농콤부차프리바이오틱스석류315ML       7910          5      0.957          1      0.995      0.995\n",
      "골든라이프텍)곡물가게궁자연주의건강함리얼호박차       7910          6      0.964          1      0.995      0.995\n",
      "골든라이프텍)곡물가게궁자연주의건강함리얼팥차       7910          9      0.975          1      0.995      0.995\n",
      "      베베쿡)처음먹는유기농사과와당근       7910          8      0.971          1      0.995      0.995\n",
      "        푸드웰)닥터리브곤약젤리사과       7910          7      0.955      0.857      0.978      0.977\n",
      "      일동후디스)키요출동슈퍼윙스딸기       7910          8      0.974          1      0.995      0.995\n",
      "      일동후디스)키요출동슈퍼윙스사과       7910         11      0.981          1      0.995      0.995\n",
      "         프레쉬벨)파파주스배수세미       7910         11      0.983          1      0.995      0.949\n",
      "매일상하목장유기농주스사과오렌지케일125ml       7910          8      0.979          1      0.995      0.975\n",
      "      롯데델몬트오렌지드링크190ML       7910          7          1      0.974      0.995      0.995\n",
      "     롯데델몬트파인애플드링크190ML       7910          8          1       0.94      0.995      0.975\n",
      "  함소아제약삐뽀삐뽀매실담은유자100ML       7910          8          1      0.813      0.995      0.995\n",
      " 함소아제약삐뽀삐뽀딸기담은바나나100ML       7910          6       0.82          1      0.995       0.96\n",
      "   그래미여명1004천사의행복140ML       7910         12      0.995          1      0.995      0.995\n",
      "   롯데트로피카나스파클링복숭아355ML       7910          6      0.965          1      0.995      0.995\n",
      "    유어스)RYAN애플스무디190ML       7910         10      0.978          1      0.995      0.995\n",
      "             오랑지나420ML       7910          9      0.975          1      0.995      0.995\n",
      "          가야토마토농장500ML       7910          4      0.948          1      0.995      0.995\n",
      "         코카태양의마테차500ML       7910          7      0.971          1      0.995      0.995\n",
      "바리스타룰스)마다가스카르바닐라빈라떼325ml       7910          7      0.977          1      0.995      0.995\n",
      "           랭거스오렌지449ML       7910          6      0.963          1      0.995      0.995\n",
      "         동아포카리스웨트620ML       7910          5      0.955          1      0.995      0.973\n",
      "         빅토리아(자몽)500ML       7910          6          1      0.791      0.972      0.972\n",
      "            롯데에비앙500ML       7910          6      0.995          1      0.995      0.995\n",
      "   하이트진로)토닉워터깔라만시300ML       7910          9      0.974          1      0.995      0.995\n",
      "           웅진헛개꿀D100ML       7910          6      0.965          1      0.995      0.995\n",
      "         코카환타파인애플600ML       7910         10      0.979          1      0.995      0.995\n",
      "          가야알로에농장500ML       7910          8      0.973          1      0.995      0.995\n",
      "      롯데칠성사이다로어슈거600ML       7910          4      0.933          1      0.995      0.995\n",
      "  탄산이톡톡스파클링워터(레몬)350ML       7910          5      0.965          1      0.995      0.995\n",
      "          광동야관문야왕500ML       7910          4      0.952          1      0.995      0.995\n",
      "           웅진하늘보리325ml       7910         10      0.982          1      0.995      0.995\n",
      "          롯데칠성사이다245ML       7910          6      0.968          1      0.995      0.995\n",
      "          코카스프라이트355ML       7910         11      0.979          1      0.995      0.995\n",
      "        이로하스화이트피치555ML       7910          7      0.969          1      0.995      0.995\n",
      "    일화초정공장)초정탄산자몽500ML       7910          6      0.965          1      0.995      0.995\n",
      "         롯데델몬트콜드수박주스1L       7910         10      0.979          1      0.995      0.995\n",
      "     롯데델몬트콜드포도과즙100%1L       7910          5      0.963          1      0.995      0.995\n",
      "     푸드웰레몬비타1000+150ML       7910          8      0.976          1      0.995      0.995\n",
      "            립톤파우치230ML       7910          8      0.999          1      0.995      0.995\n",
      "     롯데)허니페어아이스꿀배230ML       7910          7      0.976          1      0.995      0.995\n",
      "    롯데칸타타아이스헤이즐넛향230ML       7910          5      0.971          1      0.995      0.968\n",
      "     롯데칸타타카라멜마키아또230ML       7910          7      0.919      0.857      0.953      0.953\n",
      "    해태)선키스트리얼에이드자몽1.5L       7910          6      0.965          1      0.995      0.995\n",
      "     롯데트로피카나스파클링포도1.5L       7910          7      0.969          1      0.995      0.995\n",
      "       코카파워에이드퍼플스톰1.5L       7910         11       0.98          1      0.995      0.995\n",
      "          랭거스크랜베리1.89L       7910          8      0.977          1      0.995      0.995\n",
      "             일화)맥콜1.5L       7910          6          1      0.951      0.995      0.995\n",
      "    코카미닛에이드홈스타일청포도1.2L       7910          8      0.973          1      0.995      0.995\n",
      "          동아데미소다애플1.5L       7910          8      0.972          1      0.995      0.995\n",
      "        델몬트)콜드오렌지1.89L       7910         10      0.977          1      0.995      0.995\n",
      "       오케이에프)골드키위500ML       7910          8      0.973          1      0.995      0.995\n",
      "   오케이에프)아쿠아이온밸런스500ML       7910          5      0.959          1      0.995      0.995\n",
      "     롯데델몬트사과드링크4입190ml       7910          9          1      0.933      0.995      0.995\n",
      "              파스퇴르야채농장       7910         10      0.998          1      0.995      0.995\n",
      "           파스퇴르야채농장ABC       7910          8          1      0.923      0.995      0.995\n",
      "          매일썬업저과즙콜라겐플랜       7910          9      0.892      0.922      0.984      0.926\n",
      "         매일썬업과일야채샐러드퍼플       7910          6      0.968          1      0.995      0.995\n",
      "          팔도뽀로로워터젤리복숭아       7910         10      0.993          1      0.995      0.995\n",
      "        한국야구르트뽀짝뽀짝포도사과       7910          5      0.966          1      0.995      0.995\n",
      "         일화초정공장)초정탄산레몬       7910         19      0.989          1      0.995      0.995\n",
      "            바로)산가리아라무네       7910          9      0.976          1      0.995      0.995\n",
      "       아쿠아리어스)골드메달애플주스       7910          7      0.971          1      0.995      0.995\n",
      "      이마트 파리콜라제로 330ML       7910          8      0.973          1      0.995      0.995\n",
      "글로벌심층수 해양심층수딥스그린 500ML       7910         12          1      0.636      0.995      0.995\n",
      "     롯데)델몬트콜드수박주스250ML       7910          7      0.973          1      0.995      0.995\n",
      "    롯데유기농야채과일100 250ML       7910          5       0.97          1      0.995      0.995\n",
      "    롯데트로피카나퓨어주스사과190ML       7910          6      0.966          1      0.995      0.995\n",
      "롯데트로피카나퓨어주스오렌지100%190ML       7910         10          1      0.828      0.986      0.891\n",
      "  롯데)델몬트자연맞춤그린오렌지200ML       7910          8      0.985      0.875      0.887      0.887\n",
      "     롯데)델몬트본네이처망고200ML       7910          5      0.977          1      0.995      0.995\n",
      "롯데푸드)오가닉유기농레드비트&배&토마토125ML       7910         11       0.98          1      0.995      0.995\n",
      "  파스퇴르오가닉유기농사과&당근125ML       7910          5      0.961          1      0.995      0.962\n",
      "      델몬트 본네이처 사과 200M       7910          4      0.943          1      0.995      0.995\n",
      "          롯데칠성사이다190ML       7910         10      0.977          1      0.995      0.995\n",
      "  코카콜라)미닛메이드벚꽃&사과175ML       7910         10      0.977          1      0.995      0.995\n",
      "      해태)코코팜화이트요구르트240       7910          6      0.967          1      0.995      0.995\n",
      "       롯데레쓰비마일드커피240ML       7910          8      0.966          1      0.995      0.995\n",
      "롯데레쓰비카페타임스위트아메리카노240ML       7910          7      0.962          1      0.995      0.995\n",
      "   산펠레그리노아란시아타오렌지330ML       7910          9      0.976          1      0.995      0.995\n",
      "   롯데트로피카나스파클링오렌지355ML       7910          4      0.954          1      0.995      0.995\n",
      "            롯데밀키스340ML       7910         11      0.981          1      0.995      0.995\n",
      "        롯데)코코리치포도340ML       7910         10      0.977          1      0.995      0.995\n",
      "       썬키스트샤인온더비치340ML       7910          7      0.971          1      0.995      0.995\n",
      "        서울아침에주스자몽210ML       7910          8      0.973          1      0.995      0.995\n",
      "    빙그레따옴천혜향한라봉청귤235ML       7910         10      0.977          1      0.995      0.995\n",
      "        코카환타오렌지미니300ML       7910          7       0.97          1      0.995      0.995\n",
      "      해태썬키스트딸기바나나220ML       7910          7      0.969          1      0.995      0.995\n",
      "             레몬녹차340ML       7910          6       0.83          1      0.924      0.924\n",
      "     CJ)히비스커스블렌딩티340ML       7910          9      0.976          1      0.995      0.995\n",
      "    롯데트레비플레인(PET)300ML       7910          9          1          0      0.995      0.995\n",
      "        롯데핑크퐁포도사과235ML       7910          6      0.962          1      0.995      0.995\n",
      "         롯데델몬트알로에400ML       7910          6      0.967          1      0.995      0.995\n",
      "     롯데델몬트오렌지100%400ML       7910         11      0.978          1      0.995      0.995\n",
      "            랭거스사과449ML       7910          4      0.948          1      0.995      0.995\n",
      "            남양천연수500ml       7910         10      0.978          1      0.995      0.995\n",
      "         롯데제주사랑감귤500ML       7910          8      0.969          1      0.995      0.995\n",
      "     해태)태양의식후비법W차500ML       7910          9      0.979          1      0.995      0.995\n",
      "        빅토리아(플레인)500ML       7910          9          1      0.988      0.995      0.995\n",
      "           웅진초록매실500ML       7910          2      0.626          1      0.663      0.663\n",
      "     롯데이프로부족할때복숭아500ML       7910          4      0.952          1      0.995      0.995\n",
      "     롯데트레비자몽(PET)500ML       7910          6      0.959          1      0.995      0.995\n",
      "     롯데트레비라임(PET)500ML       7910          8       0.98          1      0.995      0.995\n",
      "     롯데)립톤아이스티복숭아500ML       7910          9      0.977          1      0.995      0.995\n",
      "               롯데GS보리차       7910         11      0.977          1      0.995      0.995\n",
      "           롯데황금보리500ML       7910          7      0.933          1      0.995      0.995\n",
      "        롯데밀키스핑크소다500ML       7910          9      0.986          1      0.995      0.995\n",
      "   롯데트로피카나스파클링복숭아400ML       7910          7       0.97          1      0.995      0.995\n",
      "           롯데게토레이600ML       7910          5      0.964          1      0.995      0.995\n",
      "          롯데아이시스8.0 1L       7910          7      0.972          1      0.995      0.995\n",
      "       롯데레쓰비마일드카페900ml       7910          8      0.973          1      0.995      0.995\n",
      "      롯데)미녀는석류를좋아해1.0L       7910          6      0.965          1      0.995      0.995\n",
      "          웅진가야농장파인애플1L       7910          6      0.965          1      0.995      0.995\n",
      "         썬키스트후레쉬제주감귤1L       7910          8      0.973          1      0.995      0.995\n",
      "     지에스리테일썬키스트후레시포도1L       7910          6      0.964          1      0.995      0.995\n",
      "       해태)코코팜피치핑크복숭아1L       7910          8      0.973          1      0.995      0.995\n",
      "            해태)코코팜포도1L       7910          9      0.971          1      0.995      0.995\n",
      "            해태)갈아만든배1L       7910          9      0.976          1      0.995      0.995\n",
      "       롯데)델몬트듬뿍복숭아1.0L       7910          5      0.958          1      0.995      0.995\n",
      "              비락식혜1.2L       7910          7      0.971          1      0.995      0.995\n",
      "            델몬트토마토1.5L       7910          8      0.973          1      0.995      0.995\n",
      "        롯데제주사랑감귤사랑1.5L       7910          6      0.965          1      0.995      0.995\n",
      "       롯데델몬트포도100%1.5L       7910          7      0.969          1      0.995      0.995\n",
      "       롯데델몬트오리지널매실1.5L       7910         10      0.973          1      0.995      0.995\n",
      "      웅진자연은요거상큼복숭아1.5L       7910          6      0.967          1      0.995      0.995\n",
      "          웅진요거풋풋사과1.5L       7910         10      0.978          1      0.995      0.995\n",
      "         광동탐라는제주감귤1.5L       7910          7       0.97          1      0.995      0.995\n",
      "           웅진자연은석류1.5L       7910          5      0.969          1      0.995      0.995\n",
      "        웅진자연은포도1001.5L       7910         10      0.978          1      0.995      0.995\n",
      "          광동옥수수수염차1.5L       7910          8      0.972          1      0.995      0.995\n",
      "         웅진자연은제주감귤1.5L       7910          8      0.976          1      0.995      0.995\n",
      "           웅진자연은사과1.5L       7910          9      0.963          1      0.995      0.995\n",
      "            롯데펩시콜라1.5L       7910          6      0.964          1      0.995      0.995\n",
      "          해태)갈아만든배1.5L       7910          8      0.974          1      0.995      0.995\n",
      "           코카스프라이트1.5L       7910          8      0.979          1      0.995      0.995\n",
      "     코카콜라미닛메이드제주감귤1.2L       7910          9      0.974          1      0.995      0.995\n",
      "          빙그레아카펠라바닐라라떼       7910          7      0.969          1      0.995      0.995\n",
      "       생생초스위트몬스터워터젤리사과       7910          7      0.954          1      0.995      0.995\n",
      "      내추럴워터비티리미티드)피지워터       7910          9      0.975          1      0.995      0.995\n",
      " 보해양조 부라더소다밀키소다맛 750ML       7910          8      0.972          1      0.995      0.995\n",
      "   롯데)2%아쿠아수분&미네랄240ML       7910          8      0.975          1      0.995      0.995\n",
      "           해태포도봉봉340ML       7910          6      0.965          1      0.995      0.995\n",
      "         롯데)쌕쌕오렌지238ML       7910          8      0.971          1      0.995      0.995\n",
      "          코카)환타레몬355ML       7910          9      0.975          1      0.995      0.995\n",
      "          팔도비락수정과238ML       7910          7      0.969          1      0.995      0.995\n",
      "      해태썬키스트딸바스무디300ML       7910          5      0.959          1      0.995      0.995\n",
      "        썬키스트훼미리사과180ML       7910          9      0.975          1      0.995      0.995\n",
      "        칸타타콜드브루블랙275ML       7910          7      0.973          1      0.995      0.995\n",
      "      동아오츠카오란씨오렌지250ML       7910          9      0.978          1      0.995      0.995\n",
      "   코카파워에이드MB355ML(PET)       7910          9      0.975          1      0.995      0.995\n",
      " 롯데)사랑초톡톡스파클링파인애플330ML       7910          8      0.971          1      0.995      0.995\n",
      "          코카환타오렌지600ML       7910         10      0.979          1      0.995      0.995\n",
      " 오케이에프선키스트쿨라임스파클링500ML       7910          9      0.975          1      0.995      0.995\n",
      "         썬키스트자몽워터500ML       7910          7      0.962          1      0.995      0.995\n",
      "코카조지아고티카콜드브루스위트아메리카노265ML       7910          9      0.975          1      0.995      0.995\n",
      "           롯데자몽워터500ML       7910         10      0.978          1      0.995      0.995\n",
      "     롯데트레비레몬(PET)500ML       7910         11      0.981          1      0.995      0.995\n",
      "     웅진코코몽유기농하늘보리200ML       7910          9      0.975          1      0.995      0.995\n",
      "      롯데칸타타땅콩크림라떼275ML       7910          7      0.976          1      0.995      0.995\n",
      "         동아데미소다애플250ML       7910          5      0.914          1      0.995      0.995\n",
      "        칸타타콜드브루라떼275ML       7910          7      0.974          1      0.995      0.995\n",
      "        광동탐라는제주감귤500ML       7910          6      0.965          1      0.995      0.995\n",
      "          동아오로나민C120ML       7910          8      0.974          1      0.995      0.995\n",
      "        롯데칠성립톤밀크티240ML       7910          8      0.932       0.75      0.945      0.945\n",
      "      코카콜라쿠우젤리복숭아130ML       7910         10      0.983          1      0.995      0.995\n",
      "         웅진내사랑알로에180ML       7910          7      0.973          1      0.995      0.995\n",
      "       빅토리아(베리베리)500ML       7910          9          1      0.551      0.984      0.984\n",
      "      빙그레따옴백자몽포멜로235ML       7910          7      0.971          1      0.995      0.995\n",
      "    동서)오션스프레이루비레드340ML       7910          7      0.969          1      0.995      0.995\n",
      "롯데)데일리C레몬1000C+(병)140ML       7910          6      0.951          1      0.995      0.995\n",
      "         롯데)콜드오렌지250ML       7910          6      0.962          1      0.995      0.995\n",
      "          웰치사과주스100%1L       7910          8          1      0.841      0.995      0.983\n",
      "       해태)써니텐오렌지향250ML       7910          7      0.967          1      0.995      0.995\n",
      "              동원샘물0.5L       7910          8      0.968          1      0.995      0.995\n",
      "  롯데칸타타아이스블랙커피230ML(파)       7910          8          1      0.659      0.982      0.982\n",
      "     롯데칸타타아이스마키아토190ML       7910          6          1      0.817      0.995      0.995\n",
      "    롯데칸타타아이스블랙190ML(파)       7910          7          1      0.986      0.995      0.995\n",
      "       롯데곤약젤리망고비타400D+       7910          3      0.934          1      0.995      0.952\n",
      "  롯데핑크퐁키즈홍삼(사과당근)100ML       7910          5      0.526      0.231      0.753      0.753\n",
      " 롯데칸타타아이스아메리카노230ML(파)       7910          5      0.961          1      0.995      0.995\n",
      "   롯데칠성비넛노니주스100%960ML       7910          7      0.966          1      0.995      0.995\n",
      "    롯데칸타타아이스아메리카노190ML       7910          9      0.966          1      0.995      0.981\n",
      "           일화탑씨포도향1.5L       7910          6      0.967          1      0.995      0.995\n",
      "   롯데)2%부족할때아쿠아PET1.5L       7910          6      0.966          1      0.995      0.995\n",
      "     롯데트로피카나스파클링사과1.5L       7910          9      0.975          1      0.995      0.995\n",
      "             오이시)그린티포도       7910          7      0.969          1      0.995      0.995\n",
      "       썬키스트후레쉬(포도)1.5L       7910          5      0.959          1      0.995      0.995\n",
      "        파스퇴르)발렌시아오렌지1L       7910         10       0.98          1      0.995      0.995\n",
      "      롯데델몬트콜드오렌지과즙100%       7910          6      0.967          1      0.995      0.995\n",
      " 아이스톡피치베라에이드(파우치)230ML       7910          4      0.983          1      0.995      0.995\n",
      "   스윗카페아이스사과(파우치)230ML       7910          6      0.961          1      0.995      0.995\n",
      " 카페모어복숭아아이스티(파우치)230ML       7910          7      0.975          1      0.995      0.995\n",
      "바이오포트코리아블루레몬에이드(파우치)340ML       7910          5      0.959          1      0.995      0.995\n",
      " 카페모어블루캔디소다맛(파우치)230ML       7910          5      0.957          1      0.995      0.995\n",
      "팔도)귀여운내친구뽀로로(블루베리)235ML       7910          7      0.963          1      0.995      0.995\n",
      " 팔도)귀여운내친구뽀로로(사과)235ML       7910          6      0.967          1      0.995      0.995\n",
      "팔도)귀여운내친구뽀로로(바나나)235ML       7910          7      0.972          1      0.995      0.995\n",
      " 팔도)귀여운내친구뽀로로(딸기)235ML       7910          7      0.971          1      0.995      0.995\n",
      "            뽀로로샘물250ML       7910         10      0.978          1      0.995      0.995\n",
      "           웅진초록매실180ML       7910          6      0.963          1      0.995      0.995\n",
      "            동원)꿀물175ML       7910          6      0.965          1      0.995      0.995\n",
      "           팔도비락식혜238ML       7910          6      0.966          1      0.995      0.995\n",
      "     동서맥심TOP마스터라떼275ML       7910          9      0.978          1      0.995      0.995\n",
      "  동서맥심TOP스위트아메리카노275ML       7910          8      0.976          1      0.995      0.995\n",
      "        롯데칸타타흑당라떼275ML       7910          6      0.966          1      0.995      0.995\n",
      "             롯데핫식스더킹스톰       7910          6       0.97          1      0.995      0.995\n",
      "       코카콜라)스프라이트250ML       7910          8          1      0.825      0.995      0.995\n",
      "       레쓰비솔트커피타이완240ML       7910          7      0.994          1      0.995      0.995\n",
      "           롯데마운틴듀330ML       7910          7      0.996          1      0.995      0.995\n",
      "          동원양반배식혜500ml       7910          9      0.976          1      0.995      0.995\n",
      "          빙그레아카페라아메리카노       7910          9      0.976          1      0.995      0.995\n",
      "             동원블랙슈가밀크티       7910          9      0.982          1      0.995      0.995\n",
      "    롯데델몬트콜드비타민플러스포도100       7910          7      0.969          1      0.995      0.983\n",
      "          서울우유아침에주스오렌지       7910          6      0.965          1      0.995      0.995\n",
      "       빙그레아카페라사이즈업까페라떼       7910          7      0.969          1      0.995      0.995\n",
      "             광동칡맥170ML       7910          7      0.969          1      0.995      0.995\n",
      "             서정쿠킹)느린식혜       7910         12       0.98          1      0.995      0.995\n",
      "            서정쿠킹)느린수정과       7910          2      0.919          1      0.995      0.995\n",
      "          웅진식품웅진내사랑알로에       7910          7      0.969          1      0.995      0.995\n",
      "(주)두리두리퀘이커마시는오트밀오트&그린티하동녹차       7910          5      0.938          1      0.995      0.995\n",
      "(주)두리두리퀘이커마시는오트밀오트&그레인       7910          6      0.844          1      0.876      0.876\n",
      "Speed: 0.1ms preprocess, 1.0ms inference, 0.0ms loss, 0.5ms postprocess per image\n",
      "Results saved to \u001b[1m/data/medical_project/QCPR/ultralytics/runs/detect/train13\u001b[0m\n"
     ]
    },
    {
     "data": {
      "text/plain": [
       "ultralytics.utils.metrics.DetMetrics object with attributes:\n",
       "\n",
       "ap_class_index: array([   0,    1,    2, ..., 1041, 1042, 1043])\n",
       "box: ultralytics.utils.metrics.Metric object\n",
       "confusion_matrix: <ultralytics.utils.metrics.ConfusionMatrix object at 0x7fe68c5be2e0>\n",
       "curves: ['Precision-Recall(B)', 'F1-Confidence(B)', 'Precision-Confidence(B)', 'Recall-Confidence(B)']\n",
       "curves_results: [[array([          0,    0.001001,    0.002002,    0.003003,    0.004004,    0.005005,    0.006006,    0.007007,    0.008008,    0.009009,     0.01001,    0.011011,    0.012012,    0.013013,    0.014014,    0.015015,    0.016016,    0.017017,    0.018018,    0.019019,     0.02002,    0.021021,    0.022022,    0.023023,\n",
       "          0.024024,    0.025025,    0.026026,    0.027027,    0.028028,    0.029029,     0.03003,    0.031031,    0.032032,    0.033033,    0.034034,    0.035035,    0.036036,    0.037037,    0.038038,    0.039039,     0.04004,    0.041041,    0.042042,    0.043043,    0.044044,    0.045045,    0.046046,    0.047047,\n",
       "          0.048048,    0.049049,     0.05005,    0.051051,    0.052052,    0.053053,    0.054054,    0.055055,    0.056056,    0.057057,    0.058058,    0.059059,     0.06006,    0.061061,    0.062062,    0.063063,    0.064064,    0.065065,    0.066066,    0.067067,    0.068068,    0.069069,     0.07007,    0.071071,\n",
       "          0.072072,    0.073073,    0.074074,    0.075075,    0.076076,    0.077077,    0.078078,    0.079079,     0.08008,    0.081081,    0.082082,    0.083083,    0.084084,    0.085085,    0.086086,    0.087087,    0.088088,    0.089089,     0.09009,    0.091091,    0.092092,    0.093093,    0.094094,    0.095095,\n",
       "          0.096096,    0.097097,    0.098098,    0.099099,      0.1001,      0.1011,      0.1021,      0.1031,      0.1041,     0.10511,     0.10611,     0.10711,     0.10811,     0.10911,     0.11011,     0.11111,     0.11211,     0.11311,     0.11411,     0.11512,     0.11612,     0.11712,     0.11812,     0.11912,\n",
       "           0.12012,     0.12112,     0.12212,     0.12312,     0.12412,     0.12513,     0.12613,     0.12713,     0.12813,     0.12913,     0.13013,     0.13113,     0.13213,     0.13313,     0.13413,     0.13514,     0.13614,     0.13714,     0.13814,     0.13914,     0.14014,     0.14114,     0.14214,     0.14314,\n",
       "           0.14414,     0.14515,     0.14615,     0.14715,     0.14815,     0.14915,     0.15015,     0.15115,     0.15215,     0.15315,     0.15415,     0.15516,     0.15616,     0.15716,     0.15816,     0.15916,     0.16016,     0.16116,     0.16216,     0.16316,     0.16416,     0.16517,     0.16617,     0.16717,\n",
       "           0.16817,     0.16917,     0.17017,     0.17117,     0.17217,     0.17317,     0.17417,     0.17518,     0.17618,     0.17718,     0.17818,     0.17918,     0.18018,     0.18118,     0.18218,     0.18318,     0.18418,     0.18519,     0.18619,     0.18719,     0.18819,     0.18919,     0.19019,     0.19119,\n",
       "           0.19219,     0.19319,     0.19419,      0.1952,      0.1962,      0.1972,      0.1982,      0.1992,      0.2002,      0.2012,      0.2022,      0.2032,      0.2042,     0.20521,     0.20621,     0.20721,     0.20821,     0.20921,     0.21021,     0.21121,     0.21221,     0.21321,     0.21421,     0.21522,\n",
       "           0.21622,     0.21722,     0.21822,     0.21922,     0.22022,     0.22122,     0.22222,     0.22322,     0.22422,     0.22523,     0.22623,     0.22723,     0.22823,     0.22923,     0.23023,     0.23123,     0.23223,     0.23323,     0.23423,     0.23524,     0.23624,     0.23724,     0.23824,     0.23924,\n",
       "           0.24024,     0.24124,     0.24224,     0.24324,     0.24424,     0.24525,     0.24625,     0.24725,     0.24825,     0.24925,     0.25025,     0.25125,     0.25225,     0.25325,     0.25425,     0.25526,     0.25626,     0.25726,     0.25826,     0.25926,     0.26026,     0.26126,     0.26226,     0.26326,\n",
       "           0.26426,     0.26527,     0.26627,     0.26727,     0.26827,     0.26927,     0.27027,     0.27127,     0.27227,     0.27327,     0.27427,     0.27528,     0.27628,     0.27728,     0.27828,     0.27928,     0.28028,     0.28128,     0.28228,     0.28328,     0.28428,     0.28529,     0.28629,     0.28729,\n",
       "           0.28829,     0.28929,     0.29029,     0.29129,     0.29229,     0.29329,     0.29429,      0.2953,      0.2963,      0.2973,      0.2983,      0.2993,      0.3003,      0.3013,      0.3023,      0.3033,      0.3043,     0.30531,     0.30631,     0.30731,     0.30831,     0.30931,     0.31031,     0.31131,\n",
       "           0.31231,     0.31331,     0.31431,     0.31532,     0.31632,     0.31732,     0.31832,     0.31932,     0.32032,     0.32132,     0.32232,     0.32332,     0.32432,     0.32533,     0.32633,     0.32733,     0.32833,     0.32933,     0.33033,     0.33133,     0.33233,     0.33333,     0.33433,     0.33534,\n",
       "           0.33634,     0.33734,     0.33834,     0.33934,     0.34034,     0.34134,     0.34234,     0.34334,     0.34434,     0.34535,     0.34635,     0.34735,     0.34835,     0.34935,     0.35035,     0.35135,     0.35235,     0.35335,     0.35435,     0.35536,     0.35636,     0.35736,     0.35836,     0.35936,\n",
       "           0.36036,     0.36136,     0.36236,     0.36336,     0.36436,     0.36537,     0.36637,     0.36737,     0.36837,     0.36937,     0.37037,     0.37137,     0.37237,     0.37337,     0.37437,     0.37538,     0.37638,     0.37738,     0.37838,     0.37938,     0.38038,     0.38138,     0.38238,     0.38338,\n",
       "           0.38438,     0.38539,     0.38639,     0.38739,     0.38839,     0.38939,     0.39039,     0.39139,     0.39239,     0.39339,     0.39439,      0.3954,      0.3964,      0.3974,      0.3984,      0.3994,      0.4004,      0.4014,      0.4024,      0.4034,      0.4044,     0.40541,     0.40641,     0.40741,\n",
       "           0.40841,     0.40941,     0.41041,     0.41141,     0.41241,     0.41341,     0.41441,     0.41542,     0.41642,     0.41742,     0.41842,     0.41942,     0.42042,     0.42142,     0.42242,     0.42342,     0.42442,     0.42543,     0.42643,     0.42743,     0.42843,     0.42943,     0.43043,     0.43143,\n",
       "           0.43243,     0.43343,     0.43443,     0.43544,     0.43644,     0.43744,     0.43844,     0.43944,     0.44044,     0.44144,     0.44244,     0.44344,     0.44444,     0.44545,     0.44645,     0.44745,     0.44845,     0.44945,     0.45045,     0.45145,     0.45245,     0.45345,     0.45445,     0.45546,\n",
       "           0.45646,     0.45746,     0.45846,     0.45946,     0.46046,     0.46146,     0.46246,     0.46346,     0.46446,     0.46547,     0.46647,     0.46747,     0.46847,     0.46947,     0.47047,     0.47147,     0.47247,     0.47347,     0.47447,     0.47548,     0.47648,     0.47748,     0.47848,     0.47948,\n",
       "           0.48048,     0.48148,     0.48248,     0.48348,     0.48448,     0.48549,     0.48649,     0.48749,     0.48849,     0.48949,     0.49049,     0.49149,     0.49249,     0.49349,     0.49449,      0.4955,      0.4965,      0.4975,      0.4985,      0.4995,      0.5005,      0.5015,      0.5025,      0.5035,\n",
       "            0.5045,     0.50551,     0.50651,     0.50751,     0.50851,     0.50951,     0.51051,     0.51151,     0.51251,     0.51351,     0.51451,     0.51552,     0.51652,     0.51752,     0.51852,     0.51952,     0.52052,     0.52152,     0.52252,     0.52352,     0.52452,     0.52553,     0.52653,     0.52753,\n",
       "           0.52853,     0.52953,     0.53053,     0.53153,     0.53253,     0.53353,     0.53453,     0.53554,     0.53654,     0.53754,     0.53854,     0.53954,     0.54054,     0.54154,     0.54254,     0.54354,     0.54454,     0.54555,     0.54655,     0.54755,     0.54855,     0.54955,     0.55055,     0.55155,\n",
       "           0.55255,     0.55355,     0.55455,     0.55556,     0.55656,     0.55756,     0.55856,     0.55956,     0.56056,     0.56156,     0.56256,     0.56356,     0.56456,     0.56557,     0.56657,     0.56757,     0.56857,     0.56957,     0.57057,     0.57157,     0.57257,     0.57357,     0.57457,     0.57558,\n",
       "           0.57658,     0.57758,     0.57858,     0.57958,     0.58058,     0.58158,     0.58258,     0.58358,     0.58458,     0.58559,     0.58659,     0.58759,     0.58859,     0.58959,     0.59059,     0.59159,     0.59259,     0.59359,     0.59459,      0.5956,      0.5966,      0.5976,      0.5986,      0.5996,\n",
       "            0.6006,      0.6016,      0.6026,      0.6036,      0.6046,     0.60561,     0.60661,     0.60761,     0.60861,     0.60961,     0.61061,     0.61161,     0.61261,     0.61361,     0.61461,     0.61562,     0.61662,     0.61762,     0.61862,     0.61962,     0.62062,     0.62162,     0.62262,     0.62362,\n",
       "           0.62462,     0.62563,     0.62663,     0.62763,     0.62863,     0.62963,     0.63063,     0.63163,     0.63263,     0.63363,     0.63463,     0.63564,     0.63664,     0.63764,     0.63864,     0.63964,     0.64064,     0.64164,     0.64264,     0.64364,     0.64464,     0.64565,     0.64665,     0.64765,\n",
       "           0.64865,     0.64965,     0.65065,     0.65165,     0.65265,     0.65365,     0.65465,     0.65566,     0.65666,     0.65766,     0.65866,     0.65966,     0.66066,     0.66166,     0.66266,     0.66366,     0.66466,     0.66567,     0.66667,     0.66767,     0.66867,     0.66967,     0.67067,     0.67167,\n",
       "           0.67267,     0.67367,     0.67467,     0.67568,     0.67668,     0.67768,     0.67868,     0.67968,     0.68068,     0.68168,     0.68268,     0.68368,     0.68468,     0.68569,     0.68669,     0.68769,     0.68869,     0.68969,     0.69069,     0.69169,     0.69269,     0.69369,     0.69469,      0.6957,\n",
       "            0.6967,      0.6977,      0.6987,      0.6997,      0.7007,      0.7017,      0.7027,      0.7037,      0.7047,     0.70571,     0.70671,     0.70771,     0.70871,     0.70971,     0.71071,     0.71171,     0.71271,     0.71371,     0.71471,     0.71572,     0.71672,     0.71772,     0.71872,     0.71972,\n",
       "           0.72072,     0.72172,     0.72272,     0.72372,     0.72472,     0.72573,     0.72673,     0.72773,     0.72873,     0.72973,     0.73073,     0.73173,     0.73273,     0.73373,     0.73473,     0.73574,     0.73674,     0.73774,     0.73874,     0.73974,     0.74074,     0.74174,     0.74274,     0.74374,\n",
       "           0.74474,     0.74575,     0.74675,     0.74775,     0.74875,     0.74975,     0.75075,     0.75175,     0.75275,     0.75375,     0.75475,     0.75576,     0.75676,     0.75776,     0.75876,     0.75976,     0.76076,     0.76176,     0.76276,     0.76376,     0.76476,     0.76577,     0.76677,     0.76777,\n",
       "           0.76877,     0.76977,     0.77077,     0.77177,     0.77277,     0.77377,     0.77477,     0.77578,     0.77678,     0.77778,     0.77878,     0.77978,     0.78078,     0.78178,     0.78278,     0.78378,     0.78478,     0.78579,     0.78679,     0.78779,     0.78879,     0.78979,     0.79079,     0.79179,\n",
       "           0.79279,     0.79379,     0.79479,      0.7958,      0.7968,      0.7978,      0.7988,      0.7998,      0.8008,      0.8018,      0.8028,      0.8038,      0.8048,     0.80581,     0.80681,     0.80781,     0.80881,     0.80981,     0.81081,     0.81181,     0.81281,     0.81381,     0.81481,     0.81582,\n",
       "           0.81682,     0.81782,     0.81882,     0.81982,     0.82082,     0.82182,     0.82282,     0.82382,     0.82482,     0.82583,     0.82683,     0.82783,     0.82883,     0.82983,     0.83083,     0.83183,     0.83283,     0.83383,     0.83483,     0.83584,     0.83684,     0.83784,     0.83884,     0.83984,\n",
       "           0.84084,     0.84184,     0.84284,     0.84384,     0.84484,     0.84585,     0.84685,     0.84785,     0.84885,     0.84985,     0.85085,     0.85185,     0.85285,     0.85385,     0.85485,     0.85586,     0.85686,     0.85786,     0.85886,     0.85986,     0.86086,     0.86186,     0.86286,     0.86386,\n",
       "           0.86486,     0.86587,     0.86687,     0.86787,     0.86887,     0.86987,     0.87087,     0.87187,     0.87287,     0.87387,     0.87487,     0.87588,     0.87688,     0.87788,     0.87888,     0.87988,     0.88088,     0.88188,     0.88288,     0.88388,     0.88488,     0.88589,     0.88689,     0.88789,\n",
       "           0.88889,     0.88989,     0.89089,     0.89189,     0.89289,     0.89389,     0.89489,      0.8959,      0.8969,      0.8979,      0.8989,      0.8999,      0.9009,      0.9019,      0.9029,      0.9039,      0.9049,     0.90591,     0.90691,     0.90791,     0.90891,     0.90991,     0.91091,     0.91191,\n",
       "           0.91291,     0.91391,     0.91491,     0.91592,     0.91692,     0.91792,     0.91892,     0.91992,     0.92092,     0.92192,     0.92292,     0.92392,     0.92492,     0.92593,     0.92693,     0.92793,     0.92893,     0.92993,     0.93093,     0.93193,     0.93293,     0.93393,     0.93493,     0.93594,\n",
       "           0.93694,     0.93794,     0.93894,     0.93994,     0.94094,     0.94194,     0.94294,     0.94394,     0.94494,     0.94595,     0.94695,     0.94795,     0.94895,     0.94995,     0.95095,     0.95195,     0.95295,     0.95395,     0.95495,     0.95596,     0.95696,     0.95796,     0.95896,     0.95996,\n",
       "           0.96096,     0.96196,     0.96296,     0.96396,     0.96496,     0.96597,     0.96697,     0.96797,     0.96897,     0.96997,     0.97097,     0.97197,     0.97297,     0.97397,     0.97497,     0.97598,     0.97698,     0.97798,     0.97898,     0.97998,     0.98098,     0.98198,     0.98298,     0.98398,\n",
       "           0.98498,     0.98599,     0.98699,     0.98799,     0.98899,     0.98999,     0.99099,     0.99199,     0.99299,     0.99399,     0.99499,       0.996,       0.997,       0.998,       0.999,           1]), array([[          1,           1,           1, ...,   0.0027197,   0.0013599,           0],\n",
       "       [          1,           1,           1, ...,           1,           1,           0],\n",
       "       [          1,           1,           1, ...,           1,           1,           0],\n",
       "       ...,\n",
       "       [          1,           1,           1, ...,           1,           1,           0],\n",
       "       [          1,           1,           1, ...,           1,           1,           0],\n",
       "       [          1,           1,           1, ...,     0.85714,     0.85714,           0]]), 'Recall', 'Precision'], [array([          0,    0.001001,    0.002002,    0.003003,    0.004004,    0.005005,    0.006006,    0.007007,    0.008008,    0.009009,     0.01001,    0.011011,    0.012012,    0.013013,    0.014014,    0.015015,    0.016016,    0.017017,    0.018018,    0.019019,     0.02002,    0.021021,    0.022022,    0.023023,\n",
       "          0.024024,    0.025025,    0.026026,    0.027027,    0.028028,    0.029029,     0.03003,    0.031031,    0.032032,    0.033033,    0.034034,    0.035035,    0.036036,    0.037037,    0.038038,    0.039039,     0.04004,    0.041041,    0.042042,    0.043043,    0.044044,    0.045045,    0.046046,    0.047047,\n",
       "          0.048048,    0.049049,     0.05005,    0.051051,    0.052052,    0.053053,    0.054054,    0.055055,    0.056056,    0.057057,    0.058058,    0.059059,     0.06006,    0.061061,    0.062062,    0.063063,    0.064064,    0.065065,    0.066066,    0.067067,    0.068068,    0.069069,     0.07007,    0.071071,\n",
       "          0.072072,    0.073073,    0.074074,    0.075075,    0.076076,    0.077077,    0.078078,    0.079079,     0.08008,    0.081081,    0.082082,    0.083083,    0.084084,    0.085085,    0.086086,    0.087087,    0.088088,    0.089089,     0.09009,    0.091091,    0.092092,    0.093093,    0.094094,    0.095095,\n",
       "          0.096096,    0.097097,    0.098098,    0.099099,      0.1001,      0.1011,      0.1021,      0.1031,      0.1041,     0.10511,     0.10611,     0.10711,     0.10811,     0.10911,     0.11011,     0.11111,     0.11211,     0.11311,     0.11411,     0.11512,     0.11612,     0.11712,     0.11812,     0.11912,\n",
       "           0.12012,     0.12112,     0.12212,     0.12312,     0.12412,     0.12513,     0.12613,     0.12713,     0.12813,     0.12913,     0.13013,     0.13113,     0.13213,     0.13313,     0.13413,     0.13514,     0.13614,     0.13714,     0.13814,     0.13914,     0.14014,     0.14114,     0.14214,     0.14314,\n",
       "           0.14414,     0.14515,     0.14615,     0.14715,     0.14815,     0.14915,     0.15015,     0.15115,     0.15215,     0.15315,     0.15415,     0.15516,     0.15616,     0.15716,     0.15816,     0.15916,     0.16016,     0.16116,     0.16216,     0.16316,     0.16416,     0.16517,     0.16617,     0.16717,\n",
       "           0.16817,     0.16917,     0.17017,     0.17117,     0.17217,     0.17317,     0.17417,     0.17518,     0.17618,     0.17718,     0.17818,     0.17918,     0.18018,     0.18118,     0.18218,     0.18318,     0.18418,     0.18519,     0.18619,     0.18719,     0.18819,     0.18919,     0.19019,     0.19119,\n",
       "           0.19219,     0.19319,     0.19419,      0.1952,      0.1962,      0.1972,      0.1982,      0.1992,      0.2002,      0.2012,      0.2022,      0.2032,      0.2042,     0.20521,     0.20621,     0.20721,     0.20821,     0.20921,     0.21021,     0.21121,     0.21221,     0.21321,     0.21421,     0.21522,\n",
       "           0.21622,     0.21722,     0.21822,     0.21922,     0.22022,     0.22122,     0.22222,     0.22322,     0.22422,     0.22523,     0.22623,     0.22723,     0.22823,     0.22923,     0.23023,     0.23123,     0.23223,     0.23323,     0.23423,     0.23524,     0.23624,     0.23724,     0.23824,     0.23924,\n",
       "           0.24024,     0.24124,     0.24224,     0.24324,     0.24424,     0.24525,     0.24625,     0.24725,     0.24825,     0.24925,     0.25025,     0.25125,     0.25225,     0.25325,     0.25425,     0.25526,     0.25626,     0.25726,     0.25826,     0.25926,     0.26026,     0.26126,     0.26226,     0.26326,\n",
       "           0.26426,     0.26527,     0.26627,     0.26727,     0.26827,     0.26927,     0.27027,     0.27127,     0.27227,     0.27327,     0.27427,     0.27528,     0.27628,     0.27728,     0.27828,     0.27928,     0.28028,     0.28128,     0.28228,     0.28328,     0.28428,     0.28529,     0.28629,     0.28729,\n",
       "           0.28829,     0.28929,     0.29029,     0.29129,     0.29229,     0.29329,     0.29429,      0.2953,      0.2963,      0.2973,      0.2983,      0.2993,      0.3003,      0.3013,      0.3023,      0.3033,      0.3043,     0.30531,     0.30631,     0.30731,     0.30831,     0.30931,     0.31031,     0.31131,\n",
       "           0.31231,     0.31331,     0.31431,     0.31532,     0.31632,     0.31732,     0.31832,     0.31932,     0.32032,     0.32132,     0.32232,     0.32332,     0.32432,     0.32533,     0.32633,     0.32733,     0.32833,     0.32933,     0.33033,     0.33133,     0.33233,     0.33333,     0.33433,     0.33534,\n",
       "           0.33634,     0.33734,     0.33834,     0.33934,     0.34034,     0.34134,     0.34234,     0.34334,     0.34434,     0.34535,     0.34635,     0.34735,     0.34835,     0.34935,     0.35035,     0.35135,     0.35235,     0.35335,     0.35435,     0.35536,     0.35636,     0.35736,     0.35836,     0.35936,\n",
       "           0.36036,     0.36136,     0.36236,     0.36336,     0.36436,     0.36537,     0.36637,     0.36737,     0.36837,     0.36937,     0.37037,     0.37137,     0.37237,     0.37337,     0.37437,     0.37538,     0.37638,     0.37738,     0.37838,     0.37938,     0.38038,     0.38138,     0.38238,     0.38338,\n",
       "           0.38438,     0.38539,     0.38639,     0.38739,     0.38839,     0.38939,     0.39039,     0.39139,     0.39239,     0.39339,     0.39439,      0.3954,      0.3964,      0.3974,      0.3984,      0.3994,      0.4004,      0.4014,      0.4024,      0.4034,      0.4044,     0.40541,     0.40641,     0.40741,\n",
       "           0.40841,     0.40941,     0.41041,     0.41141,     0.41241,     0.41341,     0.41441,     0.41542,     0.41642,     0.41742,     0.41842,     0.41942,     0.42042,     0.42142,     0.42242,     0.42342,     0.42442,     0.42543,     0.42643,     0.42743,     0.42843,     0.42943,     0.43043,     0.43143,\n",
       "           0.43243,     0.43343,     0.43443,     0.43544,     0.43644,     0.43744,     0.43844,     0.43944,     0.44044,     0.44144,     0.44244,     0.44344,     0.44444,     0.44545,     0.44645,     0.44745,     0.44845,     0.44945,     0.45045,     0.45145,     0.45245,     0.45345,     0.45445,     0.45546,\n",
       "           0.45646,     0.45746,     0.45846,     0.45946,     0.46046,     0.46146,     0.46246,     0.46346,     0.46446,     0.46547,     0.46647,     0.46747,     0.46847,     0.46947,     0.47047,     0.47147,     0.47247,     0.47347,     0.47447,     0.47548,     0.47648,     0.47748,     0.47848,     0.47948,\n",
       "           0.48048,     0.48148,     0.48248,     0.48348,     0.48448,     0.48549,     0.48649,     0.48749,     0.48849,     0.48949,     0.49049,     0.49149,     0.49249,     0.49349,     0.49449,      0.4955,      0.4965,      0.4975,      0.4985,      0.4995,      0.5005,      0.5015,      0.5025,      0.5035,\n",
       "            0.5045,     0.50551,     0.50651,     0.50751,     0.50851,     0.50951,     0.51051,     0.51151,     0.51251,     0.51351,     0.51451,     0.51552,     0.51652,     0.51752,     0.51852,     0.51952,     0.52052,     0.52152,     0.52252,     0.52352,     0.52452,     0.52553,     0.52653,     0.52753,\n",
       "           0.52853,     0.52953,     0.53053,     0.53153,     0.53253,     0.53353,     0.53453,     0.53554,     0.53654,     0.53754,     0.53854,     0.53954,     0.54054,     0.54154,     0.54254,     0.54354,     0.54454,     0.54555,     0.54655,     0.54755,     0.54855,     0.54955,     0.55055,     0.55155,\n",
       "           0.55255,     0.55355,     0.55455,     0.55556,     0.55656,     0.55756,     0.55856,     0.55956,     0.56056,     0.56156,     0.56256,     0.56356,     0.56456,     0.56557,     0.56657,     0.56757,     0.56857,     0.56957,     0.57057,     0.57157,     0.57257,     0.57357,     0.57457,     0.57558,\n",
       "           0.57658,     0.57758,     0.57858,     0.57958,     0.58058,     0.58158,     0.58258,     0.58358,     0.58458,     0.58559,     0.58659,     0.58759,     0.58859,     0.58959,     0.59059,     0.59159,     0.59259,     0.59359,     0.59459,      0.5956,      0.5966,      0.5976,      0.5986,      0.5996,\n",
       "            0.6006,      0.6016,      0.6026,      0.6036,      0.6046,     0.60561,     0.60661,     0.60761,     0.60861,     0.60961,     0.61061,     0.61161,     0.61261,     0.61361,     0.61461,     0.61562,     0.61662,     0.61762,     0.61862,     0.61962,     0.62062,     0.62162,     0.62262,     0.62362,\n",
       "           0.62462,     0.62563,     0.62663,     0.62763,     0.62863,     0.62963,     0.63063,     0.63163,     0.63263,     0.63363,     0.63463,     0.63564,     0.63664,     0.63764,     0.63864,     0.63964,     0.64064,     0.64164,     0.64264,     0.64364,     0.64464,     0.64565,     0.64665,     0.64765,\n",
       "           0.64865,     0.64965,     0.65065,     0.65165,     0.65265,     0.65365,     0.65465,     0.65566,     0.65666,     0.65766,     0.65866,     0.65966,     0.66066,     0.66166,     0.66266,     0.66366,     0.66466,     0.66567,     0.66667,     0.66767,     0.66867,     0.66967,     0.67067,     0.67167,\n",
       "           0.67267,     0.67367,     0.67467,     0.67568,     0.67668,     0.67768,     0.67868,     0.67968,     0.68068,     0.68168,     0.68268,     0.68368,     0.68468,     0.68569,     0.68669,     0.68769,     0.68869,     0.68969,     0.69069,     0.69169,     0.69269,     0.69369,     0.69469,      0.6957,\n",
       "            0.6967,      0.6977,      0.6987,      0.6997,      0.7007,      0.7017,      0.7027,      0.7037,      0.7047,     0.70571,     0.70671,     0.70771,     0.70871,     0.70971,     0.71071,     0.71171,     0.71271,     0.71371,     0.71471,     0.71572,     0.71672,     0.71772,     0.71872,     0.71972,\n",
       "           0.72072,     0.72172,     0.72272,     0.72372,     0.72472,     0.72573,     0.72673,     0.72773,     0.72873,     0.72973,     0.73073,     0.73173,     0.73273,     0.73373,     0.73473,     0.73574,     0.73674,     0.73774,     0.73874,     0.73974,     0.74074,     0.74174,     0.74274,     0.74374,\n",
       "           0.74474,     0.74575,     0.74675,     0.74775,     0.74875,     0.74975,     0.75075,     0.75175,     0.75275,     0.75375,     0.75475,     0.75576,     0.75676,     0.75776,     0.75876,     0.75976,     0.76076,     0.76176,     0.76276,     0.76376,     0.76476,     0.76577,     0.76677,     0.76777,\n",
       "           0.76877,     0.76977,     0.77077,     0.77177,     0.77277,     0.77377,     0.77477,     0.77578,     0.77678,     0.77778,     0.77878,     0.77978,     0.78078,     0.78178,     0.78278,     0.78378,     0.78478,     0.78579,     0.78679,     0.78779,     0.78879,     0.78979,     0.79079,     0.79179,\n",
       "           0.79279,     0.79379,     0.79479,      0.7958,      0.7968,      0.7978,      0.7988,      0.7998,      0.8008,      0.8018,      0.8028,      0.8038,      0.8048,     0.80581,     0.80681,     0.80781,     0.80881,     0.80981,     0.81081,     0.81181,     0.81281,     0.81381,     0.81481,     0.81582,\n",
       "           0.81682,     0.81782,     0.81882,     0.81982,     0.82082,     0.82182,     0.82282,     0.82382,     0.82482,     0.82583,     0.82683,     0.82783,     0.82883,     0.82983,     0.83083,     0.83183,     0.83283,     0.83383,     0.83483,     0.83584,     0.83684,     0.83784,     0.83884,     0.83984,\n",
       "           0.84084,     0.84184,     0.84284,     0.84384,     0.84484,     0.84585,     0.84685,     0.84785,     0.84885,     0.84985,     0.85085,     0.85185,     0.85285,     0.85385,     0.85485,     0.85586,     0.85686,     0.85786,     0.85886,     0.85986,     0.86086,     0.86186,     0.86286,     0.86386,\n",
       "           0.86486,     0.86587,     0.86687,     0.86787,     0.86887,     0.86987,     0.87087,     0.87187,     0.87287,     0.87387,     0.87487,     0.87588,     0.87688,     0.87788,     0.87888,     0.87988,     0.88088,     0.88188,     0.88288,     0.88388,     0.88488,     0.88589,     0.88689,     0.88789,\n",
       "           0.88889,     0.88989,     0.89089,     0.89189,     0.89289,     0.89389,     0.89489,      0.8959,      0.8969,      0.8979,      0.8989,      0.8999,      0.9009,      0.9019,      0.9029,      0.9039,      0.9049,     0.90591,     0.90691,     0.90791,     0.90891,     0.90991,     0.91091,     0.91191,\n",
       "           0.91291,     0.91391,     0.91491,     0.91592,     0.91692,     0.91792,     0.91892,     0.91992,     0.92092,     0.92192,     0.92292,     0.92392,     0.92492,     0.92593,     0.92693,     0.92793,     0.92893,     0.92993,     0.93093,     0.93193,     0.93293,     0.93393,     0.93493,     0.93594,\n",
       "           0.93694,     0.93794,     0.93894,     0.93994,     0.94094,     0.94194,     0.94294,     0.94394,     0.94494,     0.94595,     0.94695,     0.94795,     0.94895,     0.94995,     0.95095,     0.95195,     0.95295,     0.95395,     0.95495,     0.95596,     0.95696,     0.95796,     0.95896,     0.95996,\n",
       "           0.96096,     0.96196,     0.96296,     0.96396,     0.96496,     0.96597,     0.96697,     0.96797,     0.96897,     0.96997,     0.97097,     0.97197,     0.97297,     0.97397,     0.97497,     0.97598,     0.97698,     0.97798,     0.97898,     0.97998,     0.98098,     0.98198,     0.98298,     0.98398,\n",
       "           0.98498,     0.98599,     0.98699,     0.98799,     0.98899,     0.98999,     0.99099,     0.99199,     0.99299,     0.99399,     0.99499,       0.996,       0.997,       0.998,       0.999,           1]), array([[    0.25806,     0.25806,      0.3303, ...,           0,           0,           0],\n",
       "       [    0.41176,     0.41176,     0.74102, ...,     0.84655,     0.60697,           0],\n",
       "       [     0.6087,      0.6087,     0.72749, ...,     0.84298,     0.73016,           0],\n",
       "       ...,\n",
       "       [        0.4,         0.4,     0.54435, ...,     0.84655,     0.66984,           0],\n",
       "       [    0.21739,     0.21739,     0.34539, ...,           0,           0,           0],\n",
       "       [    0.52174,     0.52174,      0.6002, ...,           0,           0,           0]]), 'Confidence', 'F1'], [array([          0,    0.001001,    0.002002,    0.003003,    0.004004,    0.005005,    0.006006,    0.007007,    0.008008,    0.009009,     0.01001,    0.011011,    0.012012,    0.013013,    0.014014,    0.015015,    0.016016,    0.017017,    0.018018,    0.019019,     0.02002,    0.021021,    0.022022,    0.023023,\n",
       "          0.024024,    0.025025,    0.026026,    0.027027,    0.028028,    0.029029,     0.03003,    0.031031,    0.032032,    0.033033,    0.034034,    0.035035,    0.036036,    0.037037,    0.038038,    0.039039,     0.04004,    0.041041,    0.042042,    0.043043,    0.044044,    0.045045,    0.046046,    0.047047,\n",
       "          0.048048,    0.049049,     0.05005,    0.051051,    0.052052,    0.053053,    0.054054,    0.055055,    0.056056,    0.057057,    0.058058,    0.059059,     0.06006,    0.061061,    0.062062,    0.063063,    0.064064,    0.065065,    0.066066,    0.067067,    0.068068,    0.069069,     0.07007,    0.071071,\n",
       "          0.072072,    0.073073,    0.074074,    0.075075,    0.076076,    0.077077,    0.078078,    0.079079,     0.08008,    0.081081,    0.082082,    0.083083,    0.084084,    0.085085,    0.086086,    0.087087,    0.088088,    0.089089,     0.09009,    0.091091,    0.092092,    0.093093,    0.094094,    0.095095,\n",
       "          0.096096,    0.097097,    0.098098,    0.099099,      0.1001,      0.1011,      0.1021,      0.1031,      0.1041,     0.10511,     0.10611,     0.10711,     0.10811,     0.10911,     0.11011,     0.11111,     0.11211,     0.11311,     0.11411,     0.11512,     0.11612,     0.11712,     0.11812,     0.11912,\n",
       "           0.12012,     0.12112,     0.12212,     0.12312,     0.12412,     0.12513,     0.12613,     0.12713,     0.12813,     0.12913,     0.13013,     0.13113,     0.13213,     0.13313,     0.13413,     0.13514,     0.13614,     0.13714,     0.13814,     0.13914,     0.14014,     0.14114,     0.14214,     0.14314,\n",
       "           0.14414,     0.14515,     0.14615,     0.14715,     0.14815,     0.14915,     0.15015,     0.15115,     0.15215,     0.15315,     0.15415,     0.15516,     0.15616,     0.15716,     0.15816,     0.15916,     0.16016,     0.16116,     0.16216,     0.16316,     0.16416,     0.16517,     0.16617,     0.16717,\n",
       "           0.16817,     0.16917,     0.17017,     0.17117,     0.17217,     0.17317,     0.17417,     0.17518,     0.17618,     0.17718,     0.17818,     0.17918,     0.18018,     0.18118,     0.18218,     0.18318,     0.18418,     0.18519,     0.18619,     0.18719,     0.18819,     0.18919,     0.19019,     0.19119,\n",
       "           0.19219,     0.19319,     0.19419,      0.1952,      0.1962,      0.1972,      0.1982,      0.1992,      0.2002,      0.2012,      0.2022,      0.2032,      0.2042,     0.20521,     0.20621,     0.20721,     0.20821,     0.20921,     0.21021,     0.21121,     0.21221,     0.21321,     0.21421,     0.21522,\n",
       "           0.21622,     0.21722,     0.21822,     0.21922,     0.22022,     0.22122,     0.22222,     0.22322,     0.22422,     0.22523,     0.22623,     0.22723,     0.22823,     0.22923,     0.23023,     0.23123,     0.23223,     0.23323,     0.23423,     0.23524,     0.23624,     0.23724,     0.23824,     0.23924,\n",
       "           0.24024,     0.24124,     0.24224,     0.24324,     0.24424,     0.24525,     0.24625,     0.24725,     0.24825,     0.24925,     0.25025,     0.25125,     0.25225,     0.25325,     0.25425,     0.25526,     0.25626,     0.25726,     0.25826,     0.25926,     0.26026,     0.26126,     0.26226,     0.26326,\n",
       "           0.26426,     0.26527,     0.26627,     0.26727,     0.26827,     0.26927,     0.27027,     0.27127,     0.27227,     0.27327,     0.27427,     0.27528,     0.27628,     0.27728,     0.27828,     0.27928,     0.28028,     0.28128,     0.28228,     0.28328,     0.28428,     0.28529,     0.28629,     0.28729,\n",
       "           0.28829,     0.28929,     0.29029,     0.29129,     0.29229,     0.29329,     0.29429,      0.2953,      0.2963,      0.2973,      0.2983,      0.2993,      0.3003,      0.3013,      0.3023,      0.3033,      0.3043,     0.30531,     0.30631,     0.30731,     0.30831,     0.30931,     0.31031,     0.31131,\n",
       "           0.31231,     0.31331,     0.31431,     0.31532,     0.31632,     0.31732,     0.31832,     0.31932,     0.32032,     0.32132,     0.32232,     0.32332,     0.32432,     0.32533,     0.32633,     0.32733,     0.32833,     0.32933,     0.33033,     0.33133,     0.33233,     0.33333,     0.33433,     0.33534,\n",
       "           0.33634,     0.33734,     0.33834,     0.33934,     0.34034,     0.34134,     0.34234,     0.34334,     0.34434,     0.34535,     0.34635,     0.34735,     0.34835,     0.34935,     0.35035,     0.35135,     0.35235,     0.35335,     0.35435,     0.35536,     0.35636,     0.35736,     0.35836,     0.35936,\n",
       "           0.36036,     0.36136,     0.36236,     0.36336,     0.36436,     0.36537,     0.36637,     0.36737,     0.36837,     0.36937,     0.37037,     0.37137,     0.37237,     0.37337,     0.37437,     0.37538,     0.37638,     0.37738,     0.37838,     0.37938,     0.38038,     0.38138,     0.38238,     0.38338,\n",
       "           0.38438,     0.38539,     0.38639,     0.38739,     0.38839,     0.38939,     0.39039,     0.39139,     0.39239,     0.39339,     0.39439,      0.3954,      0.3964,      0.3974,      0.3984,      0.3994,      0.4004,      0.4014,      0.4024,      0.4034,      0.4044,     0.40541,     0.40641,     0.40741,\n",
       "           0.40841,     0.40941,     0.41041,     0.41141,     0.41241,     0.41341,     0.41441,     0.41542,     0.41642,     0.41742,     0.41842,     0.41942,     0.42042,     0.42142,     0.42242,     0.42342,     0.42442,     0.42543,     0.42643,     0.42743,     0.42843,     0.42943,     0.43043,     0.43143,\n",
       "           0.43243,     0.43343,     0.43443,     0.43544,     0.43644,     0.43744,     0.43844,     0.43944,     0.44044,     0.44144,     0.44244,     0.44344,     0.44444,     0.44545,     0.44645,     0.44745,     0.44845,     0.44945,     0.45045,     0.45145,     0.45245,     0.45345,     0.45445,     0.45546,\n",
       "           0.45646,     0.45746,     0.45846,     0.45946,     0.46046,     0.46146,     0.46246,     0.46346,     0.46446,     0.46547,     0.46647,     0.46747,     0.46847,     0.46947,     0.47047,     0.47147,     0.47247,     0.47347,     0.47447,     0.47548,     0.47648,     0.47748,     0.47848,     0.47948,\n",
       "           0.48048,     0.48148,     0.48248,     0.48348,     0.48448,     0.48549,     0.48649,     0.48749,     0.48849,     0.48949,     0.49049,     0.49149,     0.49249,     0.49349,     0.49449,      0.4955,      0.4965,      0.4975,      0.4985,      0.4995,      0.5005,      0.5015,      0.5025,      0.5035,\n",
       "            0.5045,     0.50551,     0.50651,     0.50751,     0.50851,     0.50951,     0.51051,     0.51151,     0.51251,     0.51351,     0.51451,     0.51552,     0.51652,     0.51752,     0.51852,     0.51952,     0.52052,     0.52152,     0.52252,     0.52352,     0.52452,     0.52553,     0.52653,     0.52753,\n",
       "           0.52853,     0.52953,     0.53053,     0.53153,     0.53253,     0.53353,     0.53453,     0.53554,     0.53654,     0.53754,     0.53854,     0.53954,     0.54054,     0.54154,     0.54254,     0.54354,     0.54454,     0.54555,     0.54655,     0.54755,     0.54855,     0.54955,     0.55055,     0.55155,\n",
       "           0.55255,     0.55355,     0.55455,     0.55556,     0.55656,     0.55756,     0.55856,     0.55956,     0.56056,     0.56156,     0.56256,     0.56356,     0.56456,     0.56557,     0.56657,     0.56757,     0.56857,     0.56957,     0.57057,     0.57157,     0.57257,     0.57357,     0.57457,     0.57558,\n",
       "           0.57658,     0.57758,     0.57858,     0.57958,     0.58058,     0.58158,     0.58258,     0.58358,     0.58458,     0.58559,     0.58659,     0.58759,     0.58859,     0.58959,     0.59059,     0.59159,     0.59259,     0.59359,     0.59459,      0.5956,      0.5966,      0.5976,      0.5986,      0.5996,\n",
       "            0.6006,      0.6016,      0.6026,      0.6036,      0.6046,     0.60561,     0.60661,     0.60761,     0.60861,     0.60961,     0.61061,     0.61161,     0.61261,     0.61361,     0.61461,     0.61562,     0.61662,     0.61762,     0.61862,     0.61962,     0.62062,     0.62162,     0.62262,     0.62362,\n",
       "           0.62462,     0.62563,     0.62663,     0.62763,     0.62863,     0.62963,     0.63063,     0.63163,     0.63263,     0.63363,     0.63463,     0.63564,     0.63664,     0.63764,     0.63864,     0.63964,     0.64064,     0.64164,     0.64264,     0.64364,     0.64464,     0.64565,     0.64665,     0.64765,\n",
       "           0.64865,     0.64965,     0.65065,     0.65165,     0.65265,     0.65365,     0.65465,     0.65566,     0.65666,     0.65766,     0.65866,     0.65966,     0.66066,     0.66166,     0.66266,     0.66366,     0.66466,     0.66567,     0.66667,     0.66767,     0.66867,     0.66967,     0.67067,     0.67167,\n",
       "           0.67267,     0.67367,     0.67467,     0.67568,     0.67668,     0.67768,     0.67868,     0.67968,     0.68068,     0.68168,     0.68268,     0.68368,     0.68468,     0.68569,     0.68669,     0.68769,     0.68869,     0.68969,     0.69069,     0.69169,     0.69269,     0.69369,     0.69469,      0.6957,\n",
       "            0.6967,      0.6977,      0.6987,      0.6997,      0.7007,      0.7017,      0.7027,      0.7037,      0.7047,     0.70571,     0.70671,     0.70771,     0.70871,     0.70971,     0.71071,     0.71171,     0.71271,     0.71371,     0.71471,     0.71572,     0.71672,     0.71772,     0.71872,     0.71972,\n",
       "           0.72072,     0.72172,     0.72272,     0.72372,     0.72472,     0.72573,     0.72673,     0.72773,     0.72873,     0.72973,     0.73073,     0.73173,     0.73273,     0.73373,     0.73473,     0.73574,     0.73674,     0.73774,     0.73874,     0.73974,     0.74074,     0.74174,     0.74274,     0.74374,\n",
       "           0.74474,     0.74575,     0.74675,     0.74775,     0.74875,     0.74975,     0.75075,     0.75175,     0.75275,     0.75375,     0.75475,     0.75576,     0.75676,     0.75776,     0.75876,     0.75976,     0.76076,     0.76176,     0.76276,     0.76376,     0.76476,     0.76577,     0.76677,     0.76777,\n",
       "           0.76877,     0.76977,     0.77077,     0.77177,     0.77277,     0.77377,     0.77477,     0.77578,     0.77678,     0.77778,     0.77878,     0.77978,     0.78078,     0.78178,     0.78278,     0.78378,     0.78478,     0.78579,     0.78679,     0.78779,     0.78879,     0.78979,     0.79079,     0.79179,\n",
       "           0.79279,     0.79379,     0.79479,      0.7958,      0.7968,      0.7978,      0.7988,      0.7998,      0.8008,      0.8018,      0.8028,      0.8038,      0.8048,     0.80581,     0.80681,     0.80781,     0.80881,     0.80981,     0.81081,     0.81181,     0.81281,     0.81381,     0.81481,     0.81582,\n",
       "           0.81682,     0.81782,     0.81882,     0.81982,     0.82082,     0.82182,     0.82282,     0.82382,     0.82482,     0.82583,     0.82683,     0.82783,     0.82883,     0.82983,     0.83083,     0.83183,     0.83283,     0.83383,     0.83483,     0.83584,     0.83684,     0.83784,     0.83884,     0.83984,\n",
       "           0.84084,     0.84184,     0.84284,     0.84384,     0.84484,     0.84585,     0.84685,     0.84785,     0.84885,     0.84985,     0.85085,     0.85185,     0.85285,     0.85385,     0.85485,     0.85586,     0.85686,     0.85786,     0.85886,     0.85986,     0.86086,     0.86186,     0.86286,     0.86386,\n",
       "           0.86486,     0.86587,     0.86687,     0.86787,     0.86887,     0.86987,     0.87087,     0.87187,     0.87287,     0.87387,     0.87487,     0.87588,     0.87688,     0.87788,     0.87888,     0.87988,     0.88088,     0.88188,     0.88288,     0.88388,     0.88488,     0.88589,     0.88689,     0.88789,\n",
       "           0.88889,     0.88989,     0.89089,     0.89189,     0.89289,     0.89389,     0.89489,      0.8959,      0.8969,      0.8979,      0.8989,      0.8999,      0.9009,      0.9019,      0.9029,      0.9039,      0.9049,     0.90591,     0.90691,     0.90791,     0.90891,     0.90991,     0.91091,     0.91191,\n",
       "           0.91291,     0.91391,     0.91491,     0.91592,     0.91692,     0.91792,     0.91892,     0.91992,     0.92092,     0.92192,     0.92292,     0.92392,     0.92492,     0.92593,     0.92693,     0.92793,     0.92893,     0.92993,     0.93093,     0.93193,     0.93293,     0.93393,     0.93493,     0.93594,\n",
       "           0.93694,     0.93794,     0.93894,     0.93994,     0.94094,     0.94194,     0.94294,     0.94394,     0.94494,     0.94595,     0.94695,     0.94795,     0.94895,     0.94995,     0.95095,     0.95195,     0.95295,     0.95395,     0.95495,     0.95596,     0.95696,     0.95796,     0.95896,     0.95996,\n",
       "           0.96096,     0.96196,     0.96296,     0.96396,     0.96496,     0.96597,     0.96697,     0.96797,     0.96897,     0.96997,     0.97097,     0.97197,     0.97297,     0.97397,     0.97497,     0.97598,     0.97698,     0.97798,     0.97898,     0.97998,     0.98098,     0.98198,     0.98298,     0.98398,\n",
       "           0.98498,     0.98599,     0.98699,     0.98799,     0.98899,     0.98999,     0.99099,     0.99199,     0.99299,     0.99399,     0.99499,       0.996,       0.997,       0.998,       0.999,           1]), array([[    0.15094,     0.15094,     0.20284, ...,           1,           1,           1],\n",
       "       [    0.25926,     0.25926,     0.58859, ...,           1,           1,           1],\n",
       "       [     0.4375,      0.4375,      0.5717, ...,           1,           1,           1],\n",
       "       ...,\n",
       "       [       0.25,        0.25,     0.37395, ...,           1,           1,           1],\n",
       "       [    0.12195,     0.12195,     0.20874, ...,           1,           1,           1],\n",
       "       [    0.35294,     0.35294,     0.42878, ...,           1,           1,           1]]), 'Confidence', 'Precision'], [array([          0,    0.001001,    0.002002,    0.003003,    0.004004,    0.005005,    0.006006,    0.007007,    0.008008,    0.009009,     0.01001,    0.011011,    0.012012,    0.013013,    0.014014,    0.015015,    0.016016,    0.017017,    0.018018,    0.019019,     0.02002,    0.021021,    0.022022,    0.023023,\n",
       "          0.024024,    0.025025,    0.026026,    0.027027,    0.028028,    0.029029,     0.03003,    0.031031,    0.032032,    0.033033,    0.034034,    0.035035,    0.036036,    0.037037,    0.038038,    0.039039,     0.04004,    0.041041,    0.042042,    0.043043,    0.044044,    0.045045,    0.046046,    0.047047,\n",
       "          0.048048,    0.049049,     0.05005,    0.051051,    0.052052,    0.053053,    0.054054,    0.055055,    0.056056,    0.057057,    0.058058,    0.059059,     0.06006,    0.061061,    0.062062,    0.063063,    0.064064,    0.065065,    0.066066,    0.067067,    0.068068,    0.069069,     0.07007,    0.071071,\n",
       "          0.072072,    0.073073,    0.074074,    0.075075,    0.076076,    0.077077,    0.078078,    0.079079,     0.08008,    0.081081,    0.082082,    0.083083,    0.084084,    0.085085,    0.086086,    0.087087,    0.088088,    0.089089,     0.09009,    0.091091,    0.092092,    0.093093,    0.094094,    0.095095,\n",
       "          0.096096,    0.097097,    0.098098,    0.099099,      0.1001,      0.1011,      0.1021,      0.1031,      0.1041,     0.10511,     0.10611,     0.10711,     0.10811,     0.10911,     0.11011,     0.11111,     0.11211,     0.11311,     0.11411,     0.11512,     0.11612,     0.11712,     0.11812,     0.11912,\n",
       "           0.12012,     0.12112,     0.12212,     0.12312,     0.12412,     0.12513,     0.12613,     0.12713,     0.12813,     0.12913,     0.13013,     0.13113,     0.13213,     0.13313,     0.13413,     0.13514,     0.13614,     0.13714,     0.13814,     0.13914,     0.14014,     0.14114,     0.14214,     0.14314,\n",
       "           0.14414,     0.14515,     0.14615,     0.14715,     0.14815,     0.14915,     0.15015,     0.15115,     0.15215,     0.15315,     0.15415,     0.15516,     0.15616,     0.15716,     0.15816,     0.15916,     0.16016,     0.16116,     0.16216,     0.16316,     0.16416,     0.16517,     0.16617,     0.16717,\n",
       "           0.16817,     0.16917,     0.17017,     0.17117,     0.17217,     0.17317,     0.17417,     0.17518,     0.17618,     0.17718,     0.17818,     0.17918,     0.18018,     0.18118,     0.18218,     0.18318,     0.18418,     0.18519,     0.18619,     0.18719,     0.18819,     0.18919,     0.19019,     0.19119,\n",
       "           0.19219,     0.19319,     0.19419,      0.1952,      0.1962,      0.1972,      0.1982,      0.1992,      0.2002,      0.2012,      0.2022,      0.2032,      0.2042,     0.20521,     0.20621,     0.20721,     0.20821,     0.20921,     0.21021,     0.21121,     0.21221,     0.21321,     0.21421,     0.21522,\n",
       "           0.21622,     0.21722,     0.21822,     0.21922,     0.22022,     0.22122,     0.22222,     0.22322,     0.22422,     0.22523,     0.22623,     0.22723,     0.22823,     0.22923,     0.23023,     0.23123,     0.23223,     0.23323,     0.23423,     0.23524,     0.23624,     0.23724,     0.23824,     0.23924,\n",
       "           0.24024,     0.24124,     0.24224,     0.24324,     0.24424,     0.24525,     0.24625,     0.24725,     0.24825,     0.24925,     0.25025,     0.25125,     0.25225,     0.25325,     0.25425,     0.25526,     0.25626,     0.25726,     0.25826,     0.25926,     0.26026,     0.26126,     0.26226,     0.26326,\n",
       "           0.26426,     0.26527,     0.26627,     0.26727,     0.26827,     0.26927,     0.27027,     0.27127,     0.27227,     0.27327,     0.27427,     0.27528,     0.27628,     0.27728,     0.27828,     0.27928,     0.28028,     0.28128,     0.28228,     0.28328,     0.28428,     0.28529,     0.28629,     0.28729,\n",
       "           0.28829,     0.28929,     0.29029,     0.29129,     0.29229,     0.29329,     0.29429,      0.2953,      0.2963,      0.2973,      0.2983,      0.2993,      0.3003,      0.3013,      0.3023,      0.3033,      0.3043,     0.30531,     0.30631,     0.30731,     0.30831,     0.30931,     0.31031,     0.31131,\n",
       "           0.31231,     0.31331,     0.31431,     0.31532,     0.31632,     0.31732,     0.31832,     0.31932,     0.32032,     0.32132,     0.32232,     0.32332,     0.32432,     0.32533,     0.32633,     0.32733,     0.32833,     0.32933,     0.33033,     0.33133,     0.33233,     0.33333,     0.33433,     0.33534,\n",
       "           0.33634,     0.33734,     0.33834,     0.33934,     0.34034,     0.34134,     0.34234,     0.34334,     0.34434,     0.34535,     0.34635,     0.34735,     0.34835,     0.34935,     0.35035,     0.35135,     0.35235,     0.35335,     0.35435,     0.35536,     0.35636,     0.35736,     0.35836,     0.35936,\n",
       "           0.36036,     0.36136,     0.36236,     0.36336,     0.36436,     0.36537,     0.36637,     0.36737,     0.36837,     0.36937,     0.37037,     0.37137,     0.37237,     0.37337,     0.37437,     0.37538,     0.37638,     0.37738,     0.37838,     0.37938,     0.38038,     0.38138,     0.38238,     0.38338,\n",
       "           0.38438,     0.38539,     0.38639,     0.38739,     0.38839,     0.38939,     0.39039,     0.39139,     0.39239,     0.39339,     0.39439,      0.3954,      0.3964,      0.3974,      0.3984,      0.3994,      0.4004,      0.4014,      0.4024,      0.4034,      0.4044,     0.40541,     0.40641,     0.40741,\n",
       "           0.40841,     0.40941,     0.41041,     0.41141,     0.41241,     0.41341,     0.41441,     0.41542,     0.41642,     0.41742,     0.41842,     0.41942,     0.42042,     0.42142,     0.42242,     0.42342,     0.42442,     0.42543,     0.42643,     0.42743,     0.42843,     0.42943,     0.43043,     0.43143,\n",
       "           0.43243,     0.43343,     0.43443,     0.43544,     0.43644,     0.43744,     0.43844,     0.43944,     0.44044,     0.44144,     0.44244,     0.44344,     0.44444,     0.44545,     0.44645,     0.44745,     0.44845,     0.44945,     0.45045,     0.45145,     0.45245,     0.45345,     0.45445,     0.45546,\n",
       "           0.45646,     0.45746,     0.45846,     0.45946,     0.46046,     0.46146,     0.46246,     0.46346,     0.46446,     0.46547,     0.46647,     0.46747,     0.46847,     0.46947,     0.47047,     0.47147,     0.47247,     0.47347,     0.47447,     0.47548,     0.47648,     0.47748,     0.47848,     0.47948,\n",
       "           0.48048,     0.48148,     0.48248,     0.48348,     0.48448,     0.48549,     0.48649,     0.48749,     0.48849,     0.48949,     0.49049,     0.49149,     0.49249,     0.49349,     0.49449,      0.4955,      0.4965,      0.4975,      0.4985,      0.4995,      0.5005,      0.5015,      0.5025,      0.5035,\n",
       "            0.5045,     0.50551,     0.50651,     0.50751,     0.50851,     0.50951,     0.51051,     0.51151,     0.51251,     0.51351,     0.51451,     0.51552,     0.51652,     0.51752,     0.51852,     0.51952,     0.52052,     0.52152,     0.52252,     0.52352,     0.52452,     0.52553,     0.52653,     0.52753,\n",
       "           0.52853,     0.52953,     0.53053,     0.53153,     0.53253,     0.53353,     0.53453,     0.53554,     0.53654,     0.53754,     0.53854,     0.53954,     0.54054,     0.54154,     0.54254,     0.54354,     0.54454,     0.54555,     0.54655,     0.54755,     0.54855,     0.54955,     0.55055,     0.55155,\n",
       "           0.55255,     0.55355,     0.55455,     0.55556,     0.55656,     0.55756,     0.55856,     0.55956,     0.56056,     0.56156,     0.56256,     0.56356,     0.56456,     0.56557,     0.56657,     0.56757,     0.56857,     0.56957,     0.57057,     0.57157,     0.57257,     0.57357,     0.57457,     0.57558,\n",
       "           0.57658,     0.57758,     0.57858,     0.57958,     0.58058,     0.58158,     0.58258,     0.58358,     0.58458,     0.58559,     0.58659,     0.58759,     0.58859,     0.58959,     0.59059,     0.59159,     0.59259,     0.59359,     0.59459,      0.5956,      0.5966,      0.5976,      0.5986,      0.5996,\n",
       "            0.6006,      0.6016,      0.6026,      0.6036,      0.6046,     0.60561,     0.60661,     0.60761,     0.60861,     0.60961,     0.61061,     0.61161,     0.61261,     0.61361,     0.61461,     0.61562,     0.61662,     0.61762,     0.61862,     0.61962,     0.62062,     0.62162,     0.62262,     0.62362,\n",
       "           0.62462,     0.62563,     0.62663,     0.62763,     0.62863,     0.62963,     0.63063,     0.63163,     0.63263,     0.63363,     0.63463,     0.63564,     0.63664,     0.63764,     0.63864,     0.63964,     0.64064,     0.64164,     0.64264,     0.64364,     0.64464,     0.64565,     0.64665,     0.64765,\n",
       "           0.64865,     0.64965,     0.65065,     0.65165,     0.65265,     0.65365,     0.65465,     0.65566,     0.65666,     0.65766,     0.65866,     0.65966,     0.66066,     0.66166,     0.66266,     0.66366,     0.66466,     0.66567,     0.66667,     0.66767,     0.66867,     0.66967,     0.67067,     0.67167,\n",
       "           0.67267,     0.67367,     0.67467,     0.67568,     0.67668,     0.67768,     0.67868,     0.67968,     0.68068,     0.68168,     0.68268,     0.68368,     0.68468,     0.68569,     0.68669,     0.68769,     0.68869,     0.68969,     0.69069,     0.69169,     0.69269,     0.69369,     0.69469,      0.6957,\n",
       "            0.6967,      0.6977,      0.6987,      0.6997,      0.7007,      0.7017,      0.7027,      0.7037,      0.7047,     0.70571,     0.70671,     0.70771,     0.70871,     0.70971,     0.71071,     0.71171,     0.71271,     0.71371,     0.71471,     0.71572,     0.71672,     0.71772,     0.71872,     0.71972,\n",
       "           0.72072,     0.72172,     0.72272,     0.72372,     0.72472,     0.72573,     0.72673,     0.72773,     0.72873,     0.72973,     0.73073,     0.73173,     0.73273,     0.73373,     0.73473,     0.73574,     0.73674,     0.73774,     0.73874,     0.73974,     0.74074,     0.74174,     0.74274,     0.74374,\n",
       "           0.74474,     0.74575,     0.74675,     0.74775,     0.74875,     0.74975,     0.75075,     0.75175,     0.75275,     0.75375,     0.75475,     0.75576,     0.75676,     0.75776,     0.75876,     0.75976,     0.76076,     0.76176,     0.76276,     0.76376,     0.76476,     0.76577,     0.76677,     0.76777,\n",
       "           0.76877,     0.76977,     0.77077,     0.77177,     0.77277,     0.77377,     0.77477,     0.77578,     0.77678,     0.77778,     0.77878,     0.77978,     0.78078,     0.78178,     0.78278,     0.78378,     0.78478,     0.78579,     0.78679,     0.78779,     0.78879,     0.78979,     0.79079,     0.79179,\n",
       "           0.79279,     0.79379,     0.79479,      0.7958,      0.7968,      0.7978,      0.7988,      0.7998,      0.8008,      0.8018,      0.8028,      0.8038,      0.8048,     0.80581,     0.80681,     0.80781,     0.80881,     0.80981,     0.81081,     0.81181,     0.81281,     0.81381,     0.81481,     0.81582,\n",
       "           0.81682,     0.81782,     0.81882,     0.81982,     0.82082,     0.82182,     0.82282,     0.82382,     0.82482,     0.82583,     0.82683,     0.82783,     0.82883,     0.82983,     0.83083,     0.83183,     0.83283,     0.83383,     0.83483,     0.83584,     0.83684,     0.83784,     0.83884,     0.83984,\n",
       "           0.84084,     0.84184,     0.84284,     0.84384,     0.84484,     0.84585,     0.84685,     0.84785,     0.84885,     0.84985,     0.85085,     0.85185,     0.85285,     0.85385,     0.85485,     0.85586,     0.85686,     0.85786,     0.85886,     0.85986,     0.86086,     0.86186,     0.86286,     0.86386,\n",
       "           0.86486,     0.86587,     0.86687,     0.86787,     0.86887,     0.86987,     0.87087,     0.87187,     0.87287,     0.87387,     0.87487,     0.87588,     0.87688,     0.87788,     0.87888,     0.87988,     0.88088,     0.88188,     0.88288,     0.88388,     0.88488,     0.88589,     0.88689,     0.88789,\n",
       "           0.88889,     0.88989,     0.89089,     0.89189,     0.89289,     0.89389,     0.89489,      0.8959,      0.8969,      0.8979,      0.8989,      0.8999,      0.9009,      0.9019,      0.9029,      0.9039,      0.9049,     0.90591,     0.90691,     0.90791,     0.90891,     0.90991,     0.91091,     0.91191,\n",
       "           0.91291,     0.91391,     0.91491,     0.91592,     0.91692,     0.91792,     0.91892,     0.91992,     0.92092,     0.92192,     0.92292,     0.92392,     0.92492,     0.92593,     0.92693,     0.92793,     0.92893,     0.92993,     0.93093,     0.93193,     0.93293,     0.93393,     0.93493,     0.93594,\n",
       "           0.93694,     0.93794,     0.93894,     0.93994,     0.94094,     0.94194,     0.94294,     0.94394,     0.94494,     0.94595,     0.94695,     0.94795,     0.94895,     0.94995,     0.95095,     0.95195,     0.95295,     0.95395,     0.95495,     0.95596,     0.95696,     0.95796,     0.95896,     0.95996,\n",
       "           0.96096,     0.96196,     0.96296,     0.96396,     0.96496,     0.96597,     0.96697,     0.96797,     0.96897,     0.96997,     0.97097,     0.97197,     0.97297,     0.97397,     0.97497,     0.97598,     0.97698,     0.97798,     0.97898,     0.97998,     0.98098,     0.98198,     0.98298,     0.98398,\n",
       "           0.98498,     0.98599,     0.98699,     0.98799,     0.98899,     0.98999,     0.99099,     0.99199,     0.99299,     0.99399,     0.99499,       0.996,       0.997,       0.998,       0.999,           1]), array([[    0.88889,     0.88889,     0.88889, ...,           0,           0,           0],\n",
       "       [          1,           1,           1, ...,     0.73393,     0.43572,           0],\n",
       "       [          1,           1,           1, ...,     0.72859,       0.575,           0],\n",
       "       ...,\n",
       "       [          1,           1,           1, ...,     0.73393,     0.50358,           0],\n",
       "       [          1,           1,           1, ...,           0,           0,           0],\n",
       "       [          1,           1,           1, ...,           0,           0,           0]]), 'Confidence', 'Recall']]\n",
       "fitness: 0.9852128069201793\n",
       "keys: ['metrics/precision(B)', 'metrics/recall(B)', 'metrics/mAP50(B)', 'metrics/mAP50-95(B)']\n",
       "maps: array([    0.89397,       0.995,       0.995, ...,       0.995,       0.995,     0.87643])\n",
       "names: {0: '유어스광동어성초500ml', 1: '해태썬키스트자몽소다350ML(PET)', 2: '롯데고려홍삼180ML', 3: '웅진초록꿀매실180ML', 4: '웅진아침햇살500ML', 5: '웅진아침햇살180ML', 6: '썬키스트훼미리오렌지180ML', 7: '코카씨그램플레인350ML', 8: '일화)맥콜500ML', 9: '롯데사랑초톡톡스파클링330ML', 10: '조지아고티카빈티지블랙390ML', 11: '해태갈배사이다355ML', 12: '해태갈배사이다238ML', 13: '롯데핫식스자몽250ML', 14: '동아오츠카데미소다자몽250ML', 15: '롯데칸타타아메리카노200ML', 16: '롯데레쓰비175ML', 17: '코카콜라)킨사이다185ML', 18: '일화헛개꿀물175ML', 19: '가야토마토농장180ML', 20: '코카콜라조지아고티카빈티지블랙270ML', 21: '롯데)콜드비타민플러스(포도)240ML', 22: '해태썬키스트망고바나나220ML', 23: '롯데칸타타카페모카(병)250ML', 24: '롯데핑크퐁오렌지망고235ML', 25: '코카콜라오리지널300ML', 26: '코카쿠우포도300ML', 27: '해태)결명자서리태차350ML', 28: '코카콜라)더탄산애플민트450ML', 29: '광동)알찬콩두유200ML', 30: '롯데마운틴듀355ML', 31: '코카환타포도250ML', 32: '코카콜라제로250ML', 33: '웅진내사랑사과180ML', 34: '코카콜라)코카콜라350ML', 35: '동아포카리스웨트500ML', 36: '롯데밀키스500ML', 37: '슈웹스레몬토닉350ML', 38: 'CJ)새싹보리410ML', 39: '롯데잘빠진하루우엉차500ML', 40: '롯데옥수수수염차500ML', 41: '광동)옥수수수염차500ML', 42: '동원시스템새벽헛개520ML', 43: '신어산음료일화광천수500ML', 44: '동아오츠카마신다미네랄워터500ML', 45: '코카스프라이트500ML', 46: '롯데아이시스200ML', 47: '코카콜라)코카콜라오리지날테이스트245ml', 48: '코카환타오렌지215ML', 49: '코카콜라355ML', 50: '롯데클라우드클리어제로(캔)350ML', 51: '카카오닙스차500ML', 52: '롯데)파머스주스바오렌지1L', 53: '광동)힘찬하루헛개차1L', 54: '칸타타더블드립원두커피900ML', 55: '롯데)델몬트듬뿍사과1L', 56: '쟈뎅시그니처아메리카노스위트1.1L', 57: '쟈뎅시그니처아메리카노블랙1.1L', 58: '쟈뎅로얄헤이즐넛1.1L', 59: '쟈뎅시그니처까페라떼1.1L', 60: '썬키스트후레쉬알로에1L', 61: '루비키스트루비레드자몽1.89L', 62: '가야알로에농장1.5L', 63: '웅진가야농장제주감귤농장1.5L', 64: '코카)미닛메이드오렌지1.5L', 65: '코카콜라1.5L', 66: '코카환타오렌지1.5L', 67: '코카환타파인애플1.5L', 68: '롯데밀키스1.5L', 69: '썬키스트머스캣1.5L', 70: '해태써니텐블라스트포도1.5L', 71: '남양엣홈오렌지1.5L', 72: '가야토마토농장1.5L', 73: '가야복숭아농장1.5L', 74: '웅진고칼슘오렌지1.5L', 75: '웅진자연은내사랑감귤1.5L', 76: '해태후레쉬포도50%1.5L', 77: '미닛메이드오리지널오렌지1.5L', 78: '지에스)맑은샘물1.5L', 79: '썬키스트훼미리망고2L', 80: '썬키스트훼미리제주감귤2L', 81: '동서TOP심플리스무스스위트아메리카노240ML', 82: '동서TOP심플리스무스블랙240ML', 83: '빙그레)맑은하늘도라지차500ML', 84: '레쓰비그란데라떼500ML', 85: '롯데)술술풀리는하루작두콩차500ML', 86: '해태레몬에이드350ML', 87: '하이트진로)토닉워터300ML', 88: '롯데)칸타타콘트라베이스(스위트블랙)500ML', 89: '팔도뽀로로보리차220ML', 90: '델몬트허니애플시나몬280ML', 91: '웰치스그레이프500ml', 92: '웅진자연은토마토500ML', 93: '팔도비락식혜500ML', 94: '광동힘찬하루헛개차500ML', 95: '해태음료구론산바몬드오리지날액150ML', 96: '광동)발효홍삼 100ml', 97: 'CJ컨디션헛개100ML', 98: '광동)비타500(병)100ML', 99: '광동)비타500(병)180ML', 100: '현대미에로화이바210ML', 101: '해태갈아만든배238ML', 102: '롯데오가닉유기농적포도보라핑크', 103: '빙그레사과에이드', 104: '퀘이커 마시는 오트밀 50G', 105: '남양 채움오렌지 730ML', 106: '서울우유 아침에주스자몽 950ML', 107: '풀무원아임리얼 케일키위 700ML', 108: '서울우유 아침에주스사과 210ML', 109: '서울에프엔비 아침에주스 유기농 토마토주스900ML', 110: '매일유업 썬업 저과즙콜라겐플랜 330ML', 111: '매일유업 썬업 과일야채 샐러드200ML', 112: '풀무원녹즙 아임리얼 스트로베리 700ML', 113: '서울에프엔비)설빙 인절미 라떼250ML', 114: '매일유업)썬업(사과)200ML', 115: '서울우유강릉커피라떼250ML', 116: '동원커핑로카페봉봉', 117: '동원콩카페연유라떼', 118: '매일바리스타룰스로어슈거에스포레소라떼', 119: '동원다방커피카라멜', 120: '동원다방커피오리지널', 121: '남양프렌치카페로스터리블랙글레이즈드라떼', 122: '남양루카스나인시그니처더블샷라떼', 123: '남양루카스나인시그니처라떼', 124: '서울에프앤비브루빈콜드브루', 125: '커피빈아메리카노', 126: '분다버그 레몬 라임앤비터스 375ML', 127: '동서 맥스윃하우스 콜롬비아나마스터라떼 500ML', 128: '하이리치로이타이코코넛밀크', 129: 'DIMES 석류착즙주스1000ML', 130: 'DIMES 타트체리착즙주스 1000ML', 131: '돌코리아 오렌지팝 496ML', 132: '돌코리아 파인애플팝 496ML', 133: '담터 울금500 100ML*2입 200ML', 134: '비에이치델리 오후의홍차레몬티500ml', 135: '이마트 피코크 갈아만든자몽오미자400G', 136: '이마트 피코크 갈아만든유자420G', 137: '이마트 피코크 갈아만든생강레몬400G', 138: '자임에프앤비 신비아파트배도라지착즙주스100ML', 139: '롯데2%복숭아350ML', 140: '롯데트로피카나스파클링사과355ML', 141: '웅진하늘보리500ML', 142: '웅진자연은석류180ML', 143: '미닛메이드사과 175ml', 144: '롯데)레쓰비190ml', 145: '보해)크렁크펀치캔디스파클링(캔)350ML', 146: '남양)츄파춥스오렌지345ML', 147: '코카환타오렌지185ML', 148: '롯데) 비타코코넛워터280ml', 149: '남양에프엔비프리미엄토닉워터소닉300ML', 150: '동원디레몬톡500ML', 151: '해태갈배사이다500ML', 152: '롯데펩시콜라600ML', 153: '롯데트레비플레인(PET)500ML', 154: '롯데사각사각꿀배380ML', 155: '롯데펩시스트롱400ML', 156: '오케이에프)알로에베라킹500ml', 157: '랭거스망고449ML', 158: '해태)아침에사과500ML', 159: '랭거스자몽449ML', 160: '코카콜라피치(복숭아)390ML', 161: '코카콜라제로500ML', 162: '지에스)유채꽃한라봉에이드410ML', 163: '코카토레타500ML', 164: '롯데게토레이블루볼트600ML', 165: '코카씨그램라임350ML', 166: '코카씨그램라임450ML', 167: '롯데마운틴듀400ML', 168: '롯데칠성사이다로어슈거500ML', 169: '해태썬키스트스위티블루에이드350ML(PET)', 170: 'GS리테일스파클링요구르트350ML', 171: '코카콜라)더탄산레몬450ML', 172: '롯데트로피카나스파클링사과400ML', 173: '롯데트레비워터500ML', 174: '바바마이홈카페카페메이커500ML', 175: '보해)크렁크펀치체리스파클링(캔)350ML', 176: '가야당근농장180ML(병)', 177: '웅진가야농장제주감귤농장180ML', 178: '롯데볼빅500ML', 179: '에비앙natural mineral water', 180: '델몬트팜앤망고1.2L', 181: '롯데제주사랑감귤사랑1.2L', 182: '일화초정공장)탑씨콜라1.5L', 183: '롯데2%부족할때복숭아1.5L', 184: '미닛메이드스파클링청포도1.25L', 185: '해태갈배사이다1.5L', 186: '롯데마운틴듀1.5L', 187: '썬키스트훼미리매실1.5L', 188: '코카콜라1.25L', 189: '휘오)순수2L', 190: '롯데아이시스8.0 2L', 191: '제주삼다수2L', 192: '롯데아이시스산림수2.0L', 193: '동원샘물2L', 194: '코카콜라)휘오제주2L', 195: 'G가야워터(웅진)2L', 196: '해태강원평창수2L', 197: '롯데)칠성사이다청귤', 198: '광동제약)비타500', 199: '그래미여명808 140ML', 200: '동서스타벅스프라프치노281ML', 201: '케이쿨120ML', 202: '델몬트)그린매실180ML', 203: '맥심)티오페에스프레소', 204: '델몬트)토마토180ML', 205: '델몬트)골드망고180ML', 206: '조지아오리지날350ML', 207: '제주삼다수500ML', 208: '동서스타벅스모카281ML', 209: '코카토레타1.5L', 210: '웅진빅토리아복숭아500ml', 211: '빙그레쥬시쿨자두', 212: '동원쿨피스', 213: '스위트몬스터워터젤리청포도', 214: '델몬트콜드비타민플러스오렌지', 215: '녹차원) ABC주스 480ML', 216: '네슬레 허니에이드 600G', 217: '매일 썬업100%파인애플750ML', 218: '풀무원 아임리얼순수착즙오렌지700ML', 219: '서울에프엔 아침에주스블랙라벨ABC주스750ML', 220: '남양 야채채움퍼플190ML', 221: '서울우유협동)아침에주스 유기농포도 쥬스900ML', 222: '매일유업)플로리다 내추럴 오렌지750ML', 223: '남양유업)채움포도730ML', 224: '풀무원식품)아임프룻 제주한라봉감귤800ML', 225: '서울에프엔비)아침에주스 사과950ML', 226: '풀무원식품)아임리얼 토마토700ML', 227: '풀무원식품)아임리얼 스무디 마이스트로베리700ML', 228: '청정원 홍초 풋사과 900ML', 229: '청정원 홍초 석류 900ML', 230: '청정원 홍초 복분자 900ML', 231: '갈바니나 스파클링 레몬에이드 355ML', 232: '갈바니나 스파클링 레드오렌지에이드 355ML', 233: '홈플러스시그니처 블랙커피 390ML', 234: '홈플러스시그니처 카페라떼 390ML', 235: '농심 웰치스화이트그레이프맛 355ML', 236: '홈플러스시그니처 콜라 350ML', 237: '동서 맥스웰하우스 콜롬비아나카페라떼 240ML', 238: '동서 맥스웰하우스 콜롬비아나스위트아메리카노 240ML', 239: '동서 스타벅스 더블샷에스플레소앤크림 200ML', 240: '동서 스타벅스 파이크플레이스로스트블랙커피 200ML', 241: '동서 맥심에스프레소 티오피마스터라떼 200ML', 242: '남양 프렌치카페 마일드커피 175ML', 243: '남양 프렌치카페 카라멜마끼아또 175ML', 244: '코카)스프라이트 215ML', 245: '코카)제로코카콜라 215ML', 246: '코카)스프라이트1L', 247: '홈플러스시그니처 사이다 1.5L', 248: '포미 망고에이드 1.8KG', 249: '한국쥬맥스 아리조나 아이스드티위드레몬향 680ML', 250: '한국쥬맥스 아리조나 그린티위드진생앤허니 680ML', 251: '동아오츠카 데자와로얄밀크티 500ML', 252: '남도농산 활력충만여주차 500ML', 253: '롯데 콘트라베이스티 로스팅보리 500ML', 254: '롯데 콘트라베이스티 로스팅그린티 500ML', 255: '동원 보성말차 500ML', 256: '웅진 자색옥수수수염차 1.5L', 257: '동원 보성녹차 1500ML', 258: '남양 17차 레몬향 1.5L', 259: '남양 17차 새싹보리 1.5L', 260: '코카)아데스아몬드초콜릿 190ML', 261: '코카)아데스아몬드오리지널 190ML', 262: '코코데일리 유기능 코코넛워터 330ML', 263: '에페브 유기농 레몬향스파클링 330ML', 264: '에페브 유기농 로즈핑크스파클링 330ML', 265: '밸류플러스 아프리 200ML', 266: '위스트 모구모구 알로에베라큐브리치맛 320ML', 267: '위스트 모구모구 파인애플맛 320ML', 268: '이마트 후버오렌지주스1L', 269: '인터비앤에프 비타코코코코넛워터오리지널1000ML', 270: '더케어홀딩스 브로콜리혼합주스1000ML', 271: '더케어홀딩스 팁코코코넛워터혼합주스1000ML', 272: '동서 오션스프레이크랜베리클래식1.5L', 273: '롯데 미남은복분자를좋아해 1.5L', 274: '자임에프앤비 안녕자두야NFC사과주스100ML', 275: '자임에프앤비 뽀로로홍삼쏙쏙사과매실100ML', 276: '광동제약 광동홍삼쌍화진100ML*10', 277: '광동제약 광동생강쌍화진100ML*10', 278: '테일러팜스 푸룬딥워터180ML', 279: '소울네이처푸드 세리박스레몬프로젝트110G', 280: '올웨이즈앤에프앤비 씨씨오렌지팩200ML', 281: '한국뉴초이스푸드 아쌈밀크티300ML', 282: '주식회사위닝 말리코코넛워터330ML', 283: '서울에프앤비 마이밀비핏오트190ML', 284: '서울에프앤비 마이밀비핏오트초코190ML', 285: '씨제이올리브영 그대로착즙한사과100ML', 286: '롯데쇼핑 초이스엘청포도음료초500ML', 287: '롯데쇼핑 초이스엘석류음료초500ML', 288: '한국인삼공사 아이키커플러스사과100ML', 289: '한국인삼공사 아이키커플러스포도100ML', 290: '자임에프앤비 신비아파트사과착즙주스100ML', 291: '자임에프앤비 신비아파트포도착즙주스100ML', 292: '롯데칠성음료 마스터토닉워터제로410ML', 293: '롯데칠성음료 마스터토닉워터410ML', 294: '푸드웰 닥터리브곤약젤리애플망고150G', 295: '푸드웰 닥터리브곤약젤리복숭아150G', 296: '롯데쇼핑 파인애플착즙주스700ML', 297: '동원 청미채옐로우200ML*3', 298: '해태썬키스트망고바나나300ML', 299: '웰그린애플망고340ML', 300: 'OKF)옐로우스무디350ml', 301: 'OKF)레드스무디350ML', 302: '롯데핫식스355ML', 303: '화인바이오)지리산맑은샘물500ML', 304: '롯데델몬트포도100%400ML', 305: '코카콜라)고티카콜드브루카페라떼265ML', 306: '몬스터에너지울트라355ML', 307: '몬스터에너지그린355ML', 308: '웅진자연은제주감귤340ML', 309: '롯데밀키스250ML', 310: '롯데)칸타타스위트아메리카노275ML', 311: '롯데)칸타타프리미엄카페라떼200ML', 312: '롯데칸타타스위트아메리카노175ML', 313: '몬스터에너지파이프라인펀치355ML', 314: '코카콜라)미닛메이드망고175ML', 315: '코코팜포도238ML', 316: '롯데)칸타타프리미엄라떼175ML', 317: '동아오츠카화이브미니100ML', 318: '코카암바사345ML', 319: '코카조지아크래프트카페라떼470ML', 320: '슈웹스라임피즈350ML', 321: '롯데칠성요랄라요구르트스파클링(펫)420ML', 322: '빙그레따옴석류크랜베리235ML', 323: '따뜻한허니레몬&배280ML', 324: '코카콜라250ML', 325: '코카콜라)캐나다드라이진저에일250ML', 326: '캐나다드라이토닉워터250ML', 327: 'CJ헛개수340ML', 328: '미스터초이스애플300ML', 329: '미스터초이스리치300ML', 330: '서울에프엔비망고스무디190ML', 331: '유어스)NEO키위스무디190ML', 332: '동아오츠카블랙빈티340ML', 333: '광동)홍삼꿀D100ML', 334: '롯데쌕쌕오렌지240ML', 335: '맥콜355ML', 336: '웅진)아침햇살(캔)180ML', 337: '칠성사이다로어슈거1.5L', 338: '동아오츠카)데미소다오렌지1.5L', 339: '아임소다다1.5L', 340: '동아오란씨오렌지1.5L', 341: '코카콜라1.6L', 342: '츄파춥스레몬라임스파클링1.5L', 343: '코카)미닛메이드오리지널포도1.8L', 344: '롯데칠성사이다1.5L', 345: '동아포카리스웨트1.8L', 346: '델몬트콜드포도과즙100%1.89L', 347: '웅진하늘보리1.5L', 348: '웅진티즐유자그린티500ml', 349: '동원양반배수정과500ml', 350: 'CJ컨디션레이디100ML', 351: '동서 보리차 500ML', 352: '씨그램 애플리프레시 350ML', 353: '풀무원식품)아임리얼스트로베리190ML', 354: '풀무원식품)아임리얼순수착즙오렌지190ML', 355: '풀무원식품)아임리얼스무디아이스트로베리190ML', 356: '풀무원식품)아임프룻청송사과215ML', 357: '풀무원식품)아임프유어레몬에이드270ML', 358: '푸르밀)달고나라떼250ML', 359: '거창공장)아침에주스950ML', 360: '남양)야채체움녹황190ML', 361: '서울우유)아침에주스포도950ML', 362: '한국야쿠르트)하루야채타요400ML', 363: '네추럴웨이)LOOK킬팻다이어트170ML', 364: '매일유업)바리스타룰스플라넬드립라떼325ML', 365: '푸르밀)생초콜릿라떼250ML', 366: '엠즈씨드)폴바셋콜드브루보틀300ML', 367: '남양유업)채움포도210ML', 368: '남양유업)초코에몽180ML', 369: '매일유업)슬로우밀크180ML', 370: '남양)채움오렌지210ML', 371: '홈플러스심플러스스파클링자몽', 372: '일화아임소다다메론소다', 373: '홈플러스심플러스스파클링그린애플', 374: '홈플러스심플러스스파클링레몬라임', 375: '홈플러스심플러스스파클링청포도', 376: '샘표맛있게염도낮은양조간장', 377: '청정원순창초고추장', 378: '미성엠에스레몬', 379: '롯데)온리프라이스미네랄워터', 380: '한국쥬맥스)랭거스루비레드자몽', 381: '롯데)델몬트콜드복숭아과즙100%', 382: '롯데)델몬트콜드사과주스', 383: '한국쥬맥스)랭거스사과주스', 384: '롯데)펩시160ML', 385: '예광인터내셔널)아담스파클링애플', 386: '예광인터내셔널)이브스파클링애플', 387: '농심 백산수 330ML', 388: '아쿠아리어스 골드메달스파클링애플주스 296ML', 389: '상일)테이크파이브', 390: '고구려통상)가토멜론맛', 391: '삼양패키징)맥심TOP심플리스무스로스티라떼', 392: '파인프로덕츠)파인바질시드드링크그레이프플레이버', 393: '한국음료)조지아고티카빈티지라떼', 394: '동서식품)맥심TOP마스터라떼', 395: '금강B&F)칸타타아메리카노', 396: '회풍유통)차파이레몬홍차', 397: '회풍유통)차파이중국유자', 398: '고구려통상)가토리치맛', 399: '고구려통상)가토수박맛', 400: '리엘산업)코코리치위드나타드코코', 401: '리엘산업)코코망고위드나타드코코', 402: '동아오츠카)포카리스웨트이온워터', 403: '건강한사람들)고려은단스파클링비타민C', 404: '농심)파워오투아이스베리향', 405: '농심)파워오투애플키워향', 406: '농심)파워오투오렌지레몬향', 407: '삼양패키징)맥심TOP심플리스무스라떼', 408: '농심)오이오차녹차', 409: '동원)바이오티피치핑크', 410: '비에이치델리)오후의홍차', 411: '삼양패키징)티즐피치우롱티', 412: 'ATG컴퍼니)푸룬주스', 413: '이마트)아로니아주스', 414: '건강한사람들)과일사이다딸기키위', 415: '웅진식품)이온더핏', 416: '동서식품)스타벅스프라푸치노(카라멜향)', 417: '미성패밀리)엠에스레몬', 418: '미성패밀리)엠에스라인', 419: '부루구루)부루구루콤부차레몬', 420: '부루구루)부루구루콤부차오리지널', 421: '삼양패키징)미초깔끔한깔라만시', 422: '삼양패키징)프로틴에이드포도맛', 423: '에이플네이처)퍼펙트파워쉐이크바닐라향', 424: '에이플네이처)퍼펙트파워쉐이크초코바나나맛', 425: '서울에프엔비)마시는식사마일드카카오', 426: '서울에프엔비)마시는식사마일드라떼', 427: '푸드웰)끙아비', 428: '푸드웰)끙아씨', 429: '푸드웰)끙아에이', 430: '엠에스씨)처음먹는유기농과일과&채주스', 431: '엠에스씨)아이쭉쭉워터젤리제주감귤', 432: '호재준)유기농애플퓨어주스', 433: '휴럼)휴럼데이스틱석류', 434: '씨제이)쁘띠첼미초복숭아', 435: '일화) 미콜 250ml', 436: '롯데레쓰비마일드커피 200ml', 437: '동아오츠카오란씨파인애플180ml', 438: '해태봉봉포도238ML', 439: '롯데비타파워180ml', 440: '롯데내몸사랑녹차175ml', 441: '롯데마운틴듀250ML', 442: '코카콜라조지아카페마일드175ml', 443: '코카콜라조지아카페스위트블랙175ml', 444: '해태갈배사이다210ML', 445: '델몬트알로에180ml', 446: '롯데)2%부족할때아쿠아500ML', 447: '산펠레그리노폼펠모자몽330ML', 448: '농심웰치스포도355ml', 449: '해태갈아만든배340ML', 450: '노칼비버리지)아리조나 아이스드 티 위드 레몬향340ml', 451: '현대미에로화이바100ML', 452: '동해고성해양심층수천년동안350ML', 453: '에이드요구르트340ML', 454: '롯데)숨편한목단비국화차(PET)500ML', 455: '코카파워에이드MB600ML', 456: '가야알로에농장180ML', 457: '롯데레쓰비모카라떼175ML', 458: '롯데트레비라임300ML', 459: '롯데델몬트망고400ML', 460: '롯데)칸타타콘트라베이스콜드브루라떼500ML', 461: '롯데)립톤밀크티240ML', 462: '롯데핫식스더킹파워355ML', 463: '빅토리아라임350ML', 464: '코카파워에이드MB240ML', 465: '롯데레쓰비연유커피베트남240ML', 466: '롯데)레쓰비아시아트립쏠트커피240ML', 467: '롯데)펩시콜라210ML', 468: '하이트엑스트라콜드355ml', 469: '롯데잔치집식혜240ml', 470: '오란씨깔라만시250ML', 471: '코코팜망고코넛340ML', 472: '롯데칸타타프리미엄라떼275ML', 473: '칸타타프리미엄카페라떼390ML', 474: '코카파워에이드MB520ML', 475: '롯데)데일리C레몬1000C+파우치 230ml', 476: '해태)썬키스트훼미리포도180ML', 477: '롯데실론티240ML', 478: '해태파인애플봉봉240ML', 479: '롯데게토레이240ML', 480: '코카콜라캐나다드라이클립소다250ML', 481: '해태)복숭아봉봉340ML', 482: '롯데)레쓰비카페타임라떼240ML', 483: '코카환타오렌지250ML', 484: '코카콜라)조지아고티카빈티지라떼270ML', 485: '심플러스바른샘물300ML', 486: '코카콜라)코카콜라오리지날테이스트250ml', 487: '현대미에로화이바350ML', 488: '코카조지아고티카스위트아메리카노270ML', 489: '아이시스8.0 300ml', 490: '롯데트로피카나퓨어주포도190ml', 491: '해태)코코팜복숭아300ML', 492: '해태강원평창수500ML', 493: '광동우엉차500ml', 494: '미닛메이드홈스타일청포도180ml', 495: '롯데트레비플레인(CAN)190ML', 496: '웅진옥수수수염차180ML', 497: '롯데펩시콜라1.25L', 498: '델몬트팜&홈청포도1.2L', 499: '롯데트레비플레인(PET)1.2L', 500: '웅진자연은알로에1.5L', 501: '롯데볼빅1.5L', 502: '한국청정음료몽베스트2L', 503: '롯데게토레이블루볼트1.5L', 504: '해태코코팜피치핑크복숭아1.5L', 505: '델몬트팜&홈오렌지1.2', 506: '웅진)아침에제주감귤자연은1.5L', 507: '하이트진로석수2L', 508: '남양참옥수수수염차1.5L', 509: '웅진자연은배1.8L', 510: '해태과일촌아침에망고1.5L', 511: '롯데델몬트망고1.8L', 512: '코카콜라)미닛메이드제주감귤1.5L', 513: '웰바질시드드링크리치290ML', 514: '카페모아)복숭아아이스티230ML(파우치)', 515: '카페모아)자두에이드340ML(파우치)', 516: '스윗카페)아이스블루베리230ML(파우치)', 517: '서울에프앤비)시로앤마로카라멜마끼아또300ml', 518: '웅진빅토리아청포도500ml', 519: '빙그레아카페라가페라떼', 520: '빙그레쥬시쿨복숭아', 521: '서울에프엔비쥬시쿨청포도에이드', 522: '서울에프엔비쥬시쿨금귤&감귤에이드', 523: '풀무원)풀무원아임그린보리새싹150ML', 524: '매일유업)썬업과일야채샐러드레드200ML', 525: '풀무원)아임프릇제주한라봉감귤215ML', 526: '풀무원)아임유어레몬에이드700ml', 527: '매일유업)매일 썬업 오렌지 100% 200ML', 528: '한국야쿠르트)하루야채 퍼플200ML', 529: '풀무원)아임그린 아스파라거스150ML', 530: '매일유업)아메리카노싱글오리진코스타리카330ML', 531: '서울에프엔비)볼드에스프레소라떼300ML', 532: '서울에프엔비)트루에스프레소블랙300ML', 533: '동원F&B)달달하고부드러운흑당크림라떼300ML', 534: '남양유업)프렌치카페로스터리에스프레소라떼250ML', 535: '남양유업)루카스나인시그니처아메리카노250ML', 536: '동원F&B)콩카페코코넛라떼250ML', 537: '삼양패키징)콜롬비아나마스터블랙500ML', 538: '인터비앤에프)분다버그진저비어375ML', 539: '코카-콜라음료)조지아고티카콜드브루아메리카노265ML', 540: '홈플러스)갈바니나스파클링자몽에이드355ML', 541: '동서식품)파이크플레이스로스트블랙커피275ML', 542: '한국쥬맥스)모구모구복숭아향', 543: '한국쥬맥스)모구모구리치맛', 544: '롯데)델몬트ABC주스', 545: '이콤)황성주약콩두유', 546: '롯데쇼핑)콜라', 547: '롯데쇼핑)스파클링사이다', 548: '롯데쇼핑)실론시나몬차이', 549: '롯데쇼핑)캐모마일애플', 550: '롯데쇼핑)스트로베리히비스커스로즈힙', 551: '히어로우)먹는샘물미네랄워터', 552: '자임)100%NFC착즙주스사과&비트&당근', 553: '자임)물한방울넣지않은배&도라지', 554: '자임)NFC착즙주스100%석류', 555: '푸드웰)곤약젤리스위트아메리카노', 556: '한국쥬맥스)해피데이아로니아+체리', 557: '금강B&F)청춘전투자몽에꿀한스푼', 558: '금강B&F)청춘전투진저에레몬한방울', 559: '오가닉집)캐스케이드유기농스파클링워터믹스베리', 560: '오가닉집)캐스케이드스파클링레모네이드', 561: '오가닉집)캐스케이드스파클링오렌지망고에이드', 562: '삼양패키징)버터모카', 563: '금강B&F)청춘전투세상에없는캐모마일', 564: '한국청정음료)트루워터', 565: '광동)제주삼다수', 566: '제이크리에이션)제주트루워터', 567: '이마트)일리커피카푸치노', 568: '이마트)일리커피카페라떼', 569: '동서음료)레드불에너지드링크', 570: '상일)테이크파이브(체리피치)', 571: '와인나라)바바리아레몬', 572: '위닝)코코넛밀크드링크', 573: '농심)웰치포도주스오리지널', 574: '농심)웰치사과주스오리지널', 575: '농심)웰치청포도주스오리지널', 576: '더케이홀딩스)쇼군오렌지주스', 577: '더케이홀딩스)망고혼합주스', 578: '웰팜)클렌즈스무디퍼플', 579: '꽃샘식품)초이스허니세븐베리', 580: '꽃샘식품)초이스허니라인레몬', 581: '웰팜)100%유기농딸기그레이프', 582: '프레쉬벨)파파주스배도라지', 583: '자임에프엔비)신비아파트배도라지착즙주스', 584: '롯데쇼핑)감귤착즙주스', 585: '롯데쇼핑)포도착즙주스', 586: '롯데쇼핑)석류착즙주스', 587: '롯데트로피카나스파클링파인애플355ML', 588: '바리스타룰스)콜드브루블랙325ML', 589: '롯데)미린다오렌지355ML', 590: '롯데비타파워100ml', 591: '롯데현미참두유검은콩190ML', 592: '롯데진복분자180ML', 593: '가야배농장180ML(병)', 594: '롯데핑크퐁키즈홍삼(포도야채)100ML', 595: '롯데트로피카나스파클링포도355ML', 596: '일화맥콜250ML', 597: '일화초정탄산수190ML', 598: '롯데칸타타오리지날 원두커피390ml', 599: '오케이에프요거상큼코코앤복숭아340ML', 600: '롯데쌕쌕제주감귤캔180ML', 601: '코카파워에이드MB355ML', 602: '롯데사각사각꿀배340ML', 603: '동아포카리스웨트(캔)340ML', 604: '오케이에프미닛메이드알로에175ML', 605: 'nutrlon&taste수박소다350ML', 606: 'LOTTE레쓰비 마일드 커피150ML', 607: '바이오휘오제주500ML', 608: '롯데칠성사각사각복숭아340ML', 609: '코카콜라190ML', 610: '코카조지아커피오리지널240ML', 611: '코카)미닛메이드조이오렌지175ML', 612: '컨디션CEO150ML', 613: '롯데칸타타에스프레소블랙175ML', 614: '웅진자연은오렌지1.5L', 615: '일화초정탄산수1.5L', 616: '나랑드사이다1.5L', 617: '웅진자연은당근1.5L', 618: '일화초정공장탑씨파인애플1.5L', 619: '농심)웰치화이트그레이프1.5L', 620: '코카미닛메이드홈스타일자몽1.2L', 621: '코카미닛제주감귤1.5L', 622: '롯데제주사랑감귤사랑1.8L', 623: '코카태양의마테차1.5L', 624: '코카콜라)미닛메이드망고1.5L', 625: '롯데델몬트오렌지100 1.8L', 626: '코카콜라)미닛메이드포도1.2L', 627: '광동힘찬하루헛개차1.5L', 628: '썬키스트후레쉬오렌지1.5L', 629: '써니텐 파인애플향 1.5L', 630: '써니텐 오렌지향 1.5L', 631: '일화초정공장)탑씨오렌지향1.5L', 632: '해태썬키스트레몬에이드1.5L', 633: '코카콜라)파워에이드1.5L', 634: '롯데아이시스산림수500ML', 635: '롯데)롯데스카시플러스포도1.5L', 636: '해태아침에사과한개1.5L', 637: '롯데)롯데스카시플러스오렌지1.5L', 638: '웅진자연은내사랑토마토1.5L', 639: '웰바질시드드링크망고290ML', 640: 'CJ인삼한뿌리120ML', 641: '팔도)비락바나나식혜238ML', 642: '코카파워에이드퍼플스톰600ML', 643: '쟈뎅까페리얼블루레몬에이드(파우치)230ML', 644: '조지아아이스블랙(파우치)230ML', 645: '조지아아이스아메리카노(파우치)230', 646: '쟈뎅아메리카노스위트320ML', 647: '스윗카페콜드브루아메리카노(파우치)230ML', 648: 'ND247(헛개)75ML', 649: '박카스F120ML', 650: '팔도비락식혜1.8L', 651: '웅진)아침햇살1.5L', 652: '롯데델몬트포도드링크4입190ml', 653: '빙그레아카페라사이즈업아메리카노', 654: '빙그레아카페라카라멜마끼아또', 655: '매일썬업저과즙청사과엘더플라워레몬', 656: '광동다복쌍화150ML', 657: '커피빈 바닐라라떼', 658: '아침에주스유기농오렌지주스', 659: '아침에주스제주감귤', 660: '풀무원아임그린', 661: '풀무원아임프룻청송사과', 662: '풀무원아임그린민트', 663: '서울우유아침에주스제주감귤', 664: '동서스타벅스카페라떼', 665: '동원청미채20가지과일채소그린', 666: '동원청미채20가지과일채소옐로', 667: '네슬레네스퀵초콜릿만드링크', 668: '매일아몬드브리즈오리지널', 669: '남양채움포도', 670: '매일아몬드브리즈언스위트(무당)', 671: '샘표백년동안흑초복분자', 672: '롯데핑크퐁키즈홍삼포도야채', 673: '롯데핑크퐁키즈홍삼배도라지', 674: '롯데핑크퐁키즈홍삼파인애플케일', 675: '롯데핑크퐁키즈홍삼사과당근', 676: '롯데핑크퐁루이보스보리차', 677: '서울에프앤비이롬데일리아몬드', 678: '롯데칠성사이다6캔', 679: '지셀홀딩스차파이복숭아우롱차', 680: '지셀홀딩스차파이자몽자스민차', 681: '롯데칠성음료미니펩시6캔', 682: '델몬트망고드링크(4개)', 683: '일화초정탄산라임', 684: '젠니혼주류치어스다이긴죠', 685: '델몬트망고드링크(1개)', 686: '광동제약)광동우롱차', 687: '농심)이토엔자스민티', 688: '동서식품)맥스웰하우스콜롬비아나마스터스위트블랙', 689: '남양)프렌치카페로스터리킬링샷아메리카노', 690: '동서식품)스타벅스프라푸치노', 691: '에이치케이이노엔)컨디션헛개수이엑스', 692: '이마트)달지않은일리커피', 693: '이마트)일리커피', 694: '크리스터)파카하드셀처체리라임', 695: '크리스터)파카하드셀처블랙체리', 696: '동서식품)스타벅스파이크플레이스로스트커피', 697: '동서식품)스타벅스시그니처초콜렛', 698: '동서식품)스타벅스브렉퍼스트블렌드블랙커피', 699: '건강마을)뽀로로홍삼쏙쏙오렌지', 700: '자임에프앤비)홍삼을넣은NFC배도라지주스', 701: '자임에프앤비)과채주스안녕자두야NFC포도주스', 702: '예은상사)퀵블라스트블루라즈베리향(소화기모양)', 703: '예은상사)퀵블라스트체리향(소화기모양)', 704: '낫띵베럴)이너주스푸룬120ML', 705: '낫띵베럴)이너주스자몽120ML', 706: '낫띵베럴)드링킷유기농팥물100ML', 707: '씨제이제일제당)쁘띠첼워터젤리자몽130ML', 708: '씨제이올리브영)그대로착즙한석류100ML', 709: '플라노그램)밀라이트브이차100ML', 710: '대웅생명과학)글램디4킬로칼로리곤약워터젤리자두맛', 711: '대웅생명과학)글램디4킬로칼로리곤약워터젤리복숭아맛', 712: '일양약품주식회사)피로회복자양강장원비디', 713: '롯데쇼핑)물한방울넣지않은사과착즙주스', 714: '롯데칠성사이다로어슈거250ml', 715: '코카스프라이트알루미늄보틀250ML', 716: '일화천연사이다250ML', 717: '롯데펩시콜라250ML', 718: '롯데속까지부드러운꿀배(캔)240ML', 719: '롯데사각사각수박(캔)340ML', 720: '빅토리아(레몬)350ML', 721: '오케이에프빅토리아플레인350ML', 722: '롯데코코리치망코340ML', 723: '롯데트로피카나스파클링망고355ML', 724: '롯데칠성요랄라요구르트스파클링(캔)340ML', 725: '코카콜라)미닛스파클링복숭아345ml', 726: '빅토리아자몽350ml', 727: '롯데)유어스도라지꿀배340ML', 728: '광동)비타500스파클링(캔)', 729: '일화초정공장벡셀에너지드링크지파크250ML', 730: '롯데델몬트스퀴즈포도에이드240ML', 731: '롯데이프로부족할때복숭아240ML', 732: '해태)코코팜망고코넛240ML', 733: '롯데델몬트망고240ML', 734: '코카환타파인애플250ML', 735: '동아데자와240ML', 736: '일화)맥콜190ML', 737: '롯데가나초코라떼175ML', 738: '롯데핫식스더킹펀치355ML', 739: '롯데)펩시콜라160ML', 740: '심플러스)바른샘물500ML', 741: '웅진누룽지500ML', 742: '웅진광명찾은결명자차500ML', 743: '코카암바사500ML', 744: '농심백산수500ML', 745: '삼양패키징)복숭아워터410ML', 746: '복숭아녹차340ML', 747: '세븐일레븐)깊은산속옹달샘물', 748: '롯데플러스펄프오렌지스파클링에이드500ML', 749: '동서제티초코175ML', 750: '웅진)홍삼꿀d100ml', 751: '웅진가을대추280ml', 752: '롯데델몬트프리미엄포도100 180ML', 753: '롯데)칸타타콘트라베이스블랙400ML', 754: '일화)맥콜1.25l', 755: '해태파인애플봉봉238ML', 756: '코카콜라단짠커피240ML', 757: '코카)미닛메이드포도셀렉트', 758: '롯데델몬트오리지널알로에1.5L', 759: '코카)미닛메이드오렌지1.8L', 760: '코카킨사이다1.5L', 761: '일화)천연사이다1.5L', 762: '코카콜라)미닛식이섬유오렌지망고1.2L', 763: '코카)미닛메이드식이섬유사과&크랜베리1.2L', 764: '코카콜라2L', 765: '코카콜라)미닛메이드벚꽃&사과1.2L', 766: '델몬트망고1.5L', 767: '미닛메이드토마토1.5L', 768: '해태코코팜포도1.5L', 769: '코카미닛메이드홈스타일오렌지1.2L', 770: '가야당근농장1.5L', 771: '코카)미닛메이드포도1.5L', 772: '남양천연수2L', 773: '초L)샘물2L', 774: '동아오츠카)마신다2L', 775: '보해양조)스파클링사과톡', 776: '헛개숙취세트3G*100ML', 777: '웅진빅토리아파인애플500ml', 778: '동원쿨피스파인애플', 779: '매일썬업과일야채샐러드녹황', 780: '오프룻딸기&알로에', 781: '매일썬업과일야채샐러드레드', 782: '남양 진하게 타먹는 초코에몽 30G 10T', 783: '남양아이꼬야이온케어120ML', 784: '남양아이꼬야유기농베이비주스사과포도120ML', 785: '남양아이꼬야유기농베이비주스사과배120ML', 786: '남양아이꼬야한뼘더큰아기랑콩이랑2단계120ML', 787: '남양아이꼬야유기농베이비주스푸룬120ML', 788: '매일썬업100%사과', 789: '태광웰푸드처음먹는칼슘츄러스야채', 790: '인더비앤에프피지워터', 791: '영남코프레이션레이지레몬주스(노란통)', 792: '영남코프레이션레이지라임주스(초록통)', 793: '지우코포레이션엘막레몬주스', 794: '슈가버블과탄산소다', 795: '홈플러스시그니처콜라', 796: '롯데온리프라이스아메리카노스위트', 797: '롯데온리프라이스아메리카노헤이즐넛', 798: '씨제이푸드뚜레쥬르가만든유기농오렌지주스', 799: '베베쿡처음먹는배도라지', 800: '글로벌심층수)딥스그린', 801: '농심)백산수', 802: '롯데칠성음료)에비앙천연광천수', 803: '델몬트오렌지드링크4개입190ML*4', 804: '델몬트파인애플드링크4개입190ML*4', 805: '코아바이오유기농클렌즈콤뷰차부티', 806: '함소아제약함소아삐뽀삐뽀매실담은유자2개입100ML*2', 807: '함소아제약함소아삐뽀삐뽀딸기담은바나나2개입100ML*2', 808: '주식회사그래미)여명808(140ML2개입)', 809: '주식회사그래미)여명1004(140ML2개입)', 810: '유아이에프앤씨)마틸다스파클링핑크그레이프플룻', 811: '남양)몸이가벼워지는시간17차오리진', 812: '낫띵베럴)이너주스사과당근120ML', 813: '웰팜)호재준ABC주스(사과당근비트)100ML', 814: '낫띵베럴)드링킷유기농호박즙100ML', 815: '건강마을)세리박스곤약젤리복숭아마시는곤약젤리', 816: '건강마을)세리박스곤약젤리청포도마시는곤약젤리', 817: '테일러팜스)테일러푸룬주스180ML', 818: '비에이치델리)이로하스화이트피치500ML', 819: '씨제이올리브영)올리브영워터스파클링자몽350ML', 820: '위스트)바이오티그레이프그린350ML', 821: '씨제이제일제당)미초상쾌한푸룬', 822: '프레시코)아임얼라이브유기농콤부차프리바이오틱스오리지날315ML', 823: '프레시코)아임얼라이브유기농콤부차프리바이오틱스석류315ML', 824: '골든라이프텍)곡물가게궁자연주의건강함리얼호박차', 825: '골든라이프텍)곡물가게궁자연주의건강함리얼팥차', 826: '베베쿡)처음먹는유기농사과와당근', 827: '푸드웰)닥터리브곤약젤리사과', 828: '일동후디스)키요출동슈퍼윙스딸기', 829: '일동후디스)키요출동슈퍼윙스사과', 830: '프레쉬벨)파파주스배수세미', 831: '매일상하목장유기농주스사과오렌지케일125ml', 832: '롯데델몬트오렌지드링크190ML', 833: '롯데델몬트파인애플드링크190ML', 834: '함소아제약삐뽀삐뽀매실담은유자100ML', 835: '함소아제약삐뽀삐뽀딸기담은바나나100ML', 836: '그래미여명1004천사의행복140ML', 837: '롯데트로피카나스파클링복숭아355ML', 838: '유어스)RYAN애플스무디190ML', 839: '오랑지나420ML', 840: '가야토마토농장500ML', 841: '코카태양의마테차500ML', 842: '바리스타룰스)마다가스카르바닐라빈라떼325ml', 843: '랭거스오렌지449ML', 844: '동아포카리스웨트620ML', 845: '빅토리아(자몽)500ML', 846: '롯데에비앙500ML', 847: '하이트진로)토닉워터깔라만시300ML', 848: '웅진헛개꿀D100ML', 849: '코카환타파인애플600ML', 850: '가야알로에농장500ML', 851: '롯데칠성사이다로어슈거600ML', 852: '탄산이톡톡스파클링워터(레몬)350ML', 853: '광동야관문야왕500ML', 854: '웅진하늘보리325ml', 855: '롯데칠성사이다245ML', 856: '코카스프라이트355ML', 857: '이로하스화이트피치555ML', 858: '일화초정공장)초정탄산자몽500ML', 859: '롯데델몬트콜드수박주스1L', 860: '롯데델몬트콜드포도과즙100%1L', 861: '푸드웰레몬비타1000+150ML', 862: '립톤파우치230ML', 863: '롯데)허니페어아이스꿀배230ML', 864: '롯데칸타타아이스헤이즐넛향230ML', 865: '롯데칸타타카라멜마키아또230ML', 866: '해태)선키스트리얼에이드자몽1.5L', 867: '롯데트로피카나스파클링포도1.5L', 868: '코카파워에이드퍼플스톰1.5L', 869: '랭거스크랜베리1.89L', 870: '일화)맥콜1.5L', 871: '코카미닛에이드홈스타일청포도1.2L', 872: '동아데미소다애플1.5L', 873: '델몬트)콜드오렌지1.89L', 874: '오케이에프)골드키위500ML', 875: '오케이에프)아쿠아이온밸런스500ML', 876: '롯데델몬트사과드링크4입190ml', 877: '파스퇴르야채농장', 878: '파스퇴르야채농장ABC', 879: '매일썬업저과즙콜라겐플랜', 880: '매일썬업과일야채샐러드퍼플', 881: '팔도뽀로로워터젤리복숭아', 882: '한국야구르트뽀짝뽀짝포도사과', 883: '일화초정공장)초정탄산레몬', 884: '바로)산가리아라무네', 885: '아쿠아리어스)골드메달애플주스', 886: '이마트 파리콜라제로 330ML', 887: '글로벌심층수 해양심층수딥스그린 500ML', 888: '롯데)델몬트콜드수박주스250ML', 889: '롯데유기농야채과일100 250ML', 890: '롯데트로피카나퓨어주스사과190ML', 891: '롯데트로피카나퓨어주스오렌지100%190ML', 892: '롯데)델몬트자연맞춤그린오렌지200ML', 893: '롯데)델몬트본네이처망고200ML', 894: '롯데푸드)오가닉유기농레드비트&배&토마토125ML', 895: '파스퇴르오가닉유기농사과&당근125ML', 896: '델몬트 본네이처 사과 200M', 897: '롯데칠성사이다190ML', 898: '코카콜라)미닛메이드벚꽃&사과175ML', 899: '해태)코코팜화이트요구르트240', 900: '롯데레쓰비마일드커피240ML', 901: '롯데레쓰비카페타임스위트아메리카노240ML', 902: '산펠레그리노아란시아타오렌지330ML', 903: '롯데트로피카나스파클링오렌지355ML', 904: '롯데밀키스340ML', 905: '롯데)코코리치포도340ML', 906: '썬키스트샤인온더비치340ML', 907: '서울아침에주스자몽210ML', 908: '빙그레따옴천혜향한라봉청귤235ML', 909: '코카환타오렌지미니300ML', 910: '해태썬키스트딸기바나나220ML', 911: '레몬녹차340ML', 912: 'CJ)히비스커스블렌딩티340ML', 913: '롯데트레비플레인(PET)300ML', 914: '롯데핑크퐁포도사과235ML', 915: '롯데델몬트알로에400ML', 916: '롯데델몬트오렌지100%400ML', 917: '랭거스사과449ML', 918: '남양천연수500ml', 919: '롯데제주사랑감귤500ML', 920: '해태)태양의식후비법W차500ML', 921: '빅토리아(플레인)500ML', 922: '웅진초록매실500ML', 923: '롯데이프로부족할때복숭아500ML', 924: '롯데트레비자몽(PET)500ML', 925: '롯데트레비라임(PET)500ML', 926: '롯데)립톤아이스티복숭아500ML', 927: '롯데GS보리차', 928: '롯데황금보리500ML', 929: '롯데밀키스핑크소다500ML', 930: '롯데트로피카나스파클링복숭아400ML', 931: '롯데게토레이600ML', 932: '롯데아이시스8.0 1L', 933: '롯데레쓰비마일드카페900ml', 934: '롯데)미녀는석류를좋아해1.0L', 935: '웅진가야농장파인애플1L', 936: '썬키스트후레쉬제주감귤1L', 937: '지에스리테일썬키스트후레시포도1L', 938: '해태)코코팜피치핑크복숭아1L', 939: '해태)코코팜포도1L', 940: '해태)갈아만든배1L', 941: '롯데)델몬트듬뿍복숭아1.0L', 942: '비락식혜1.2L', 943: '델몬트토마토1.5L', 944: '롯데제주사랑감귤사랑1.5L', 945: '롯데델몬트포도100%1.5L', 946: '롯데델몬트오리지널매실1.5L', 947: '웅진자연은요거상큼복숭아1.5L', 948: '웅진요거풋풋사과1.5L', 949: '광동탐라는제주감귤1.5L', 950: '웅진자연은석류1.5L', 951: '웅진자연은포도1001.5L', 952: '광동옥수수수염차1.5L', 953: '웅진자연은제주감귤1.5L', 954: '웅진자연은사과1.5L', 955: '롯데펩시콜라1.5L', 956: '해태)갈아만든배1.5L', 957: '코카스프라이트1.5L', 958: '코카콜라미닛메이드제주감귤1.2L', 959: '빙그레아카펠라바닐라라떼', 960: '생생초스위트몬스터워터젤리사과', 961: '내추럴워터비티리미티드)피지워터', 962: '보해양조 부라더소다밀키소다맛 750ML', 963: '롯데)2%아쿠아수분&미네랄240ML', 964: '해태포도봉봉340ML', 965: '롯데)쌕쌕오렌지238ML', 966: '코카)환타레몬355ML', 967: '팔도비락수정과238ML', 968: '해태썬키스트딸바스무디300ML', 969: '썬키스트훼미리사과180ML', 970: '칸타타콜드브루블랙275ML', 971: '동아오츠카오란씨오렌지250ML', 972: '코카파워에이드MB355ML(PET)', 973: '롯데)사랑초톡톡스파클링파인애플330ML', 974: '코카환타오렌지600ML', 975: '오케이에프선키스트쿨라임스파클링500ML', 976: '썬키스트자몽워터500ML', 977: '코카조지아고티카콜드브루스위트아메리카노265ML', 978: '롯데자몽워터500ML', 979: '롯데트레비레몬(PET)500ML', 980: '웅진코코몽유기농하늘보리200ML', 981: '롯데칸타타땅콩크림라떼275ML', 982: '동아데미소다애플250ML', 983: '칸타타콜드브루라떼275ML', 984: '광동탐라는제주감귤500ML', 985: '동아오로나민C120ML', 986: '롯데칠성립톤밀크티240ML', 987: '코카콜라쿠우젤리복숭아130ML', 988: '웅진내사랑알로에180ML', 989: '빅토리아(베리베리)500ML', 990: '빙그레따옴백자몽포멜로235ML', 991: '동서)오션스프레이루비레드340ML', 992: '롯데)데일리C레몬1000C+(병)140ML', 993: '롯데)콜드오렌지250ML', 994: '웰치사과주스100%1L', 995: '해태)써니텐오렌지향250ML', 996: '동원샘물0.5L', 997: '롯데칸타타아이스블랙커피230ML(파)', 998: '롯데칸타타아이스마키아토190ML', 999: '롯데칸타타아이스블랙190ML(파)', 1000: '롯데곤약젤리망고비타400D+', 1001: '롯데핑크퐁키즈홍삼(사과당근)100ML', 1002: '롯데칸타타아이스아메리카노230ML(파)', 1003: '롯데칠성비넛노니주스100%960ML', 1004: '롯데칸타타아이스아메리카노190ML', 1005: '일화탑씨포도향1.5L', 1006: '롯데)2%부족할때아쿠아PET1.5L', 1007: '롯데트로피카나스파클링사과1.5L', 1008: '오이시)그린티포도', 1009: '썬키스트후레쉬(포도)1.5L', 1010: '파스퇴르)발렌시아오렌지1L', 1011: '롯데델몬트콜드오렌지과즙100%', 1012: '아이스톡피치베라에이드(파우치)230ML', 1013: '스윗카페아이스사과(파우치)230ML', 1014: '카페모어복숭아아이스티(파우치)230ML', 1015: '바이오포트코리아블루레몬에이드(파우치)340ML', 1016: '카페모어블루캔디소다맛(파우치)230ML', 1017: '팔도)귀여운내친구뽀로로(블루베리)235ML', 1018: '팔도)귀여운내친구뽀로로(사과)235ML', 1019: '팔도)귀여운내친구뽀로로(바나나)235ML', 1020: '팔도)귀여운내친구뽀로로(딸기)235ML', 1021: '뽀로로샘물250ML', 1022: '웅진초록매실180ML', 1023: '동원)꿀물175ML', 1024: '팔도비락식혜238ML', 1025: '동서맥심TOP마스터라떼275ML', 1026: '동서맥심TOP스위트아메리카노275ML', 1027: '롯데칸타타흑당라떼275ML', 1028: '롯데핫식스더킹스톰', 1029: '코카콜라)스프라이트250ML', 1030: '레쓰비솔트커피타이완240ML', 1031: '롯데마운틴듀330ML', 1032: '동원양반배식혜500ml', 1033: '빙그레아카페라아메리카노', 1034: '동원블랙슈가밀크티', 1035: '롯데델몬트콜드비타민플러스포도100', 1036: '서울우유아침에주스오렌지', 1037: '빙그레아카페라사이즈업까페라떼', 1038: '광동칡맥170ML', 1039: '서정쿠킹)느린식혜', 1040: '서정쿠킹)느린수정과', 1041: '웅진식품웅진내사랑알로에', 1042: '(주)두리두리퀘이커마시는오트밀오트&그린티하동녹차', 1043: '(주)두리두리퀘이커마시는오트밀오트&그레인'}\n",
       "plot: True\n",
       "results_dict: {'metrics/precision(B)': 0.966564152731738, 'metrics/recall(B)': 0.9799583820214259, 'metrics/mAP50(B)': 0.9914801750656328, 'metrics/mAP50-95(B)': 0.9845164326817956, 'fitness': 0.9852128069201793}\n",
       "save_dir: PosixPath('/data/medical_project/QCPR/ultralytics/runs/detect/train13')\n",
       "speed: {'preprocess': 0.13314291137811057, 'inference': 1.0379912126832906, 'loss': 0.00022226278157963614, 'postprocess': 0.5247752675515812}\n",
       "task: 'detect'"
      ]
     },
     "execution_count": 4,
     "metadata": {},
     "output_type": "execute_result"
    }
   ],
   "source": [
    "model = YOLO('yolov8n.pt')  # load a pretrained YOLOv8n detection model\n",
    "model.train(data='data.yaml', epochs=50, device = 2)  # train the model"
   ]
  },
  {
   "cell_type": "code",
   "execution_count": 2,
   "metadata": {},
   "outputs": [
    {
     "name": "stdout",
     "output_type": "stream",
     "text": [
      "New https://pypi.org/project/ultralytics/8.2.15 available 😃 Update with 'pip install -U ultralytics'\n",
      "Ultralytics YOLOv8.1.45 🚀 Python-3.8.18 torch-2.2.1 CUDA:0 (NVIDIA GeForce RTX 3090, 24268MiB)\n",
      "\u001b[34m\u001b[1mengine/trainer: \u001b[0mtask=detect, mode=train, model=/home/mmc/disk2/duck/cap/YOLO_pt/drink/weights/kang_weight/best.pt, data=noodle_data.yaml, epochs=70, time=None, patience=100, batch=16, imgsz=640, save=True, save_period=-1, cache=False, device=0, workers=8, project=None, name=train50, exist_ok=False, pretrained=True, optimizer=auto, verbose=True, seed=0, deterministic=True, single_cls=False, rect=False, cos_lr=False, close_mosaic=10, resume=False, amp=True, fraction=1.0, profile=False, freeze=None, multi_scale=False, overlap_mask=True, mask_ratio=4, dropout=0.0, val=True, split=val, save_json=False, save_hybrid=False, conf=None, iou=0.7, max_det=300, half=False, dnn=False, plots=True, source=None, vid_stride=1, stream_buffer=False, visualize=False, augment=False, agnostic_nms=False, classes=None, retina_masks=False, embed=None, show=False, save_frames=False, save_txt=False, save_conf=False, save_crop=False, show_labels=True, show_conf=True, show_boxes=True, line_width=None, format=torchscript, keras=False, optimize=False, int8=False, dynamic=False, simplify=False, opset=None, workspace=4, nms=False, lr0=0.01, lrf=0.01, momentum=0.937, weight_decay=0.0005, warmup_epochs=3.0, warmup_momentum=0.8, warmup_bias_lr=0.1, box=7.5, cls=0.5, dfl=1.5, pose=12.0, kobj=1.0, label_smoothing=0.0, nbs=64, hsv_h=0.015, hsv_s=0.7, hsv_v=0.4, degrees=0.0, translate=0.1, scale=0.5, shear=0.0, perspective=0.0, flipud=0.0, fliplr=0.5, bgr=0.0, mosaic=1.0, mixup=0.0, copy_paste=0.0, auto_augment=randaugment, erasing=0.4, crop_fraction=1.0, cfg=None, tracker=botsort.yaml, save_dir=/data/medical_project/QCPR/ultralytics/runs/detect/train50\n",
      "Overriding model.yaml nc=1044 with nc=205\n",
      "\n",
      "                   from  n    params  module                                       arguments                     \n",
      "  0                  -1  1       464  ultralytics.nn.modules.conv.Conv             [3, 16, 3, 2]                 \n",
      "  1                  -1  1      4672  ultralytics.nn.modules.conv.Conv             [16, 32, 3, 2]                \n",
      "  2                  -1  1      7360  ultralytics.nn.modules.block.C2f             [32, 32, 1, True]             \n",
      "  3                  -1  1     18560  ultralytics.nn.modules.conv.Conv             [32, 64, 3, 2]                \n",
      "  4                  -1  2     49664  ultralytics.nn.modules.block.C2f             [64, 64, 2, True]             \n",
      "  5                  -1  1     73984  ultralytics.nn.modules.conv.Conv             [64, 128, 3, 2]               \n",
      "  6                  -1  2    197632  ultralytics.nn.modules.block.C2f             [128, 128, 2, True]           \n",
      "  7                  -1  1    295424  ultralytics.nn.modules.conv.Conv             [128, 256, 3, 2]              \n",
      "  8                  -1  1    460288  ultralytics.nn.modules.block.C2f             [256, 256, 1, True]           \n",
      "  9                  -1  1    164608  ultralytics.nn.modules.block.SPPF            [256, 256, 5]                 \n",
      " 10                  -1  1         0  torch.nn.modules.upsampling.Upsample         [None, 2, 'nearest']          \n",
      " 11             [-1, 6]  1         0  ultralytics.nn.modules.conv.Concat           [1]                           \n",
      " 12                  -1  1    148224  ultralytics.nn.modules.block.C2f             [384, 128, 1]                 \n",
      " 13                  -1  1         0  torch.nn.modules.upsampling.Upsample         [None, 2, 'nearest']          \n",
      " 14             [-1, 4]  1         0  ultralytics.nn.modules.conv.Concat           [1]                           \n",
      " 15                  -1  1     37248  ultralytics.nn.modules.block.C2f             [192, 64, 1]                  \n",
      " 16                  -1  1     36992  ultralytics.nn.modules.conv.Conv             [64, 64, 3, 2]                \n",
      " 17            [-1, 12]  1         0  ultralytics.nn.modules.conv.Concat           [1]                           \n",
      " 18                  -1  1    123648  ultralytics.nn.modules.block.C2f             [192, 128, 1]                 \n",
      " 19                  -1  1    147712  ultralytics.nn.modules.conv.Conv             [128, 128, 3, 2]              \n",
      " 20             [-1, 9]  1         0  ultralytics.nn.modules.conv.Concat           [1]                           \n",
      " 21                  -1  1    493056  ultralytics.nn.modules.block.C2f             [384, 256, 1]                 \n",
      " 22        [15, 18, 21]  1   1118419  ultralytics.nn.modules.head.Detect           [205, [64, 128, 256]]         \n",
      "Model summary: 225 layers, 3377955 parameters, 3377939 gradients, 9.9 GFLOPs\n",
      "\n",
      "Transferred 349/355 items from pretrained weights\n",
      "\u001b[34m\u001b[1mTensorBoard: \u001b[0mStart with 'tensorboard --logdir /data/medical_project/QCPR/ultralytics/runs/detect/train50', view at http://localhost:6006/\n",
      "Freezing layer 'model.22.dfl.conv.weight'\n",
      "\u001b[34m\u001b[1mAMP: \u001b[0mrunning Automatic Mixed Precision (AMP) checks with YOLOv8n...\n"
     ]
    },
    {
     "name": "stderr",
     "output_type": "stream",
     "text": [
      "/home/mmc/anaconda3/envs/CPR_YOLO/lib/python3.8/site-packages/tqdm/auto.py:21: TqdmWarning: IProgress not found. Please update jupyter and ipywidgets. See https://ipywidgets.readthedocs.io/en/stable/user_install.html\n",
      "  from .autonotebook import tqdm as notebook_tqdm\n"
     ]
    },
    {
     "name": "stdout",
     "output_type": "stream",
     "text": [
      "\u001b[34m\u001b[1mAMP: \u001b[0mchecks passed ✅\n"
     ]
    },
    {
     "name": "stderr",
     "output_type": "stream",
     "text": [
      "\u001b[34m\u001b[1mtrain: \u001b[0mScanning /data/duck/cap/data/noodle_RMBG/train/labels.cache... 11686 images, 11838 backgrounds, 0 corrupt: 100%|██████████| 23524/23524 [00:00<?, ?it/s]\n",
      "\u001b[34m\u001b[1mval: \u001b[0mScanning /data/duck/cap/data/noodle_RMBG/val/labels.cache... 1496 images, 1514 backgrounds, 0 corrupt: 100%|██████████| 3010/3010 [00:00<?, ?it/s]\n"
     ]
    },
    {
     "name": "stdout",
     "output_type": "stream",
     "text": [
      "Plotting labels to /data/medical_project/QCPR/ultralytics/runs/detect/train50/labels.jpg... \n",
      "\u001b[34m\u001b[1moptimizer:\u001b[0m 'optimizer=auto' found, ignoring 'lr0=0.01' and 'momentum=0.937' and determining best 'optimizer', 'lr0' and 'momentum' automatically... \n",
      "\u001b[34m\u001b[1moptimizer:\u001b[0m SGD(lr=0.01, momentum=0.9) with parameter groups 57 weight(decay=0.0), 64 weight(decay=0.0005), 63 bias(decay=0.0)\n",
      "\u001b[34m\u001b[1mTensorBoard: \u001b[0mmodel graph visualization added ✅\n",
      "Image sizes 640 train, 640 val\n",
      "Using 8 dataloader workers\n",
      "Logging results to \u001b[1m/data/medical_project/QCPR/ultralytics/runs/detect/train50\u001b[0m\n",
      "Starting training for 70 epochs...\n",
      "\n",
      "      Epoch    GPU_mem   box_loss   cls_loss   dfl_loss  Instances       Size\n"
     ]
    },
    {
     "name": "stderr",
     "output_type": "stream",
     "text": [
      "       1/70      3.32G     0.3853      3.709      1.098          1        640: 100%|██████████| 1471/1471 [02:34<00:00,  9.54it/s]\n",
      "                 Class     Images  Instances      Box(P          R      mAP50  mAP50-95): 100%|██████████| 95/95 [00:12<00:00,  7.79it/s]\n"
     ]
    },
    {
     "name": "stdout",
     "output_type": "stream",
     "text": [
      "                   all       3010       1496      0.641      0.651      0.702      0.689\n",
      "\n",
      "      Epoch    GPU_mem   box_loss   cls_loss   dfl_loss  Instances       Size\n"
     ]
    },
    {
     "name": "stderr",
     "output_type": "stream",
     "text": [
      "       2/70      3.32G     0.3536      1.481      1.044          4        640: 100%|██████████| 1471/1471 [02:24<00:00, 10.18it/s]\n",
      "                 Class     Images  Instances      Box(P          R      mAP50  mAP50-95): 100%|██████████| 95/95 [00:11<00:00,  8.40it/s]\n"
     ]
    },
    {
     "name": "stdout",
     "output_type": "stream",
     "text": [
      "                   all       3010       1496       0.75        0.8      0.898      0.868\n",
      "\n",
      "      Epoch    GPU_mem   box_loss   cls_loss   dfl_loss  Instances       Size\n"
     ]
    },
    {
     "name": "stderr",
     "output_type": "stream",
     "text": [
      "       3/70      3.28G     0.3718      1.173      1.041          3        640: 100%|██████████| 1471/1471 [02:17<00:00, 10.71it/s]\n",
      "                 Class     Images  Instances      Box(P          R      mAP50  mAP50-95): 100%|██████████| 95/95 [00:11<00:00,  8.28it/s]\n"
     ]
    },
    {
     "name": "stdout",
     "output_type": "stream",
     "text": [
      "                   all       3010       1496      0.741      0.733      0.857      0.608\n",
      "\n",
      "      Epoch    GPU_mem   box_loss   cls_loss   dfl_loss  Instances       Size\n"
     ]
    },
    {
     "name": "stderr",
     "output_type": "stream",
     "text": [
      "       4/70       3.3G     0.3909      1.155      1.046          8        640: 100%|██████████| 1471/1471 [02:34<00:00,  9.53it/s]\n",
      "                 Class     Images  Instances      Box(P          R      mAP50  mAP50-95): 100%|██████████| 95/95 [00:11<00:00,  8.51it/s]\n"
     ]
    },
    {
     "name": "stdout",
     "output_type": "stream",
     "text": [
      "                   all       3010       1496      0.803      0.826      0.914       0.87\n",
      "\n",
      "      Epoch    GPU_mem   box_loss   cls_loss   dfl_loss  Instances       Size\n"
     ]
    },
    {
     "name": "stderr",
     "output_type": "stream",
     "text": [
      "       5/70       3.3G     0.3766     0.9941      1.033          5        640: 100%|██████████| 1471/1471 [02:27<00:00,  9.97it/s]\n",
      "                 Class     Images  Instances      Box(P          R      mAP50  mAP50-95): 100%|██████████| 95/95 [00:11<00:00,  8.29it/s]\n"
     ]
    },
    {
     "name": "stdout",
     "output_type": "stream",
     "text": [
      "                   all       3010       1496       0.84      0.899      0.958      0.927\n",
      "\n",
      "      Epoch    GPU_mem   box_loss   cls_loss   dfl_loss  Instances       Size\n"
     ]
    },
    {
     "name": "stderr",
     "output_type": "stream",
     "text": [
      "       6/70      3.29G      0.368      0.917      1.025          3        640: 100%|██████████| 1471/1471 [02:21<00:00, 10.37it/s]\n",
      "                 Class     Images  Instances      Box(P          R      mAP50  mAP50-95): 100%|██████████| 95/95 [00:11<00:00,  8.49it/s]\n"
     ]
    },
    {
     "name": "stdout",
     "output_type": "stream",
     "text": [
      "                   all       3010       1496      0.853      0.927      0.969      0.946\n",
      "\n",
      "      Epoch    GPU_mem   box_loss   cls_loss   dfl_loss  Instances       Size\n"
     ]
    },
    {
     "name": "stderr",
     "output_type": "stream",
     "text": [
      "       7/70      3.28G      0.361     0.8366      1.022          4        640: 100%|██████████| 1471/1471 [02:14<00:00, 10.96it/s]\n",
      "                 Class     Images  Instances      Box(P          R      mAP50  mAP50-95): 100%|██████████| 95/95 [00:11<00:00,  8.47it/s]\n"
     ]
    },
    {
     "name": "stdout",
     "output_type": "stream",
     "text": [
      "                   all       3010       1496      0.868      0.929      0.972      0.946\n",
      "\n",
      "      Epoch    GPU_mem   box_loss   cls_loss   dfl_loss  Instances       Size\n"
     ]
    },
    {
     "name": "stderr",
     "output_type": "stream",
     "text": [
      "       8/70      3.29G     0.3569     0.8091      1.016          1        640: 100%|██████████| 1471/1471 [02:18<00:00, 10.61it/s]\n",
      "                 Class     Images  Instances      Box(P          R      mAP50  mAP50-95): 100%|██████████| 95/95 [00:11<00:00,  8.59it/s]\n"
     ]
    },
    {
     "name": "stdout",
     "output_type": "stream",
     "text": [
      "                   all       3010       1496      0.878       0.93      0.971      0.949\n",
      "\n",
      "      Epoch    GPU_mem   box_loss   cls_loss   dfl_loss  Instances       Size\n"
     ]
    },
    {
     "name": "stderr",
     "output_type": "stream",
     "text": [
      "       9/70       3.3G     0.3462     0.7591       1.01          7        640: 100%|██████████| 1471/1471 [02:15<00:00, 10.87it/s]\n",
      "                 Class     Images  Instances      Box(P          R      mAP50  mAP50-95): 100%|██████████| 95/95 [00:11<00:00,  8.33it/s]\n"
     ]
    },
    {
     "name": "stdout",
     "output_type": "stream",
     "text": [
      "                   all       3010       1496       0.91      0.945      0.977      0.955\n",
      "\n",
      "      Epoch    GPU_mem   box_loss   cls_loss   dfl_loss  Instances       Size\n"
     ]
    },
    {
     "name": "stderr",
     "output_type": "stream",
     "text": [
      "      10/70       3.3G       0.35     0.7344      1.014          5        640: 100%|██████████| 1471/1471 [02:19<00:00, 10.55it/s]\n",
      "                 Class     Images  Instances      Box(P          R      mAP50  mAP50-95): 100%|██████████| 95/95 [00:10<00:00,  8.66it/s]\n"
     ]
    },
    {
     "name": "stdout",
     "output_type": "stream",
     "text": [
      "                   all       3010       1496      0.915       0.93      0.975      0.957\n",
      "\n",
      "      Epoch    GPU_mem   box_loss   cls_loss   dfl_loss  Instances       Size\n"
     ]
    },
    {
     "name": "stderr",
     "output_type": "stream",
     "text": [
      "      11/70      3.28G     0.3414     0.7178      1.005          2        640: 100%|██████████| 1471/1471 [02:13<00:00, 11.06it/s]\n",
      "                 Class     Images  Instances      Box(P          R      mAP50  mAP50-95): 100%|██████████| 95/95 [00:11<00:00,  8.63it/s]\n"
     ]
    },
    {
     "name": "stdout",
     "output_type": "stream",
     "text": [
      "                   all       3010       1496      0.907       0.95      0.977       0.96\n",
      "\n",
      "      Epoch    GPU_mem   box_loss   cls_loss   dfl_loss  Instances       Size\n"
     ]
    },
    {
     "name": "stderr",
     "output_type": "stream",
     "text": [
      "      12/70       3.3G     0.3348      0.694      1.001          4        640: 100%|██████████| 1471/1471 [02:17<00:00, 10.68it/s]\n",
      "                 Class     Images  Instances      Box(P          R      mAP50  mAP50-95): 100%|██████████| 95/95 [00:10<00:00,  8.68it/s]\n"
     ]
    },
    {
     "name": "stdout",
     "output_type": "stream",
     "text": [
      "                   all       3010       1496      0.915      0.961      0.979      0.963\n",
      "\n",
      "      Epoch    GPU_mem   box_loss   cls_loss   dfl_loss  Instances       Size\n"
     ]
    },
    {
     "name": "stderr",
     "output_type": "stream",
     "text": [
      "      13/70       3.3G     0.3344     0.6837      1.003          8        640: 100%|██████████| 1471/1471 [02:14<00:00, 10.93it/s]\n",
      "                 Class     Images  Instances      Box(P          R      mAP50  mAP50-95): 100%|██████████| 95/95 [00:11<00:00,  8.54it/s]\n"
     ]
    },
    {
     "name": "stdout",
     "output_type": "stream",
     "text": [
      "                   all       3010       1496      0.918      0.954      0.983      0.971\n",
      "\n",
      "      Epoch    GPU_mem   box_loss   cls_loss   dfl_loss  Instances       Size\n"
     ]
    },
    {
     "name": "stderr",
     "output_type": "stream",
     "text": [
      "      14/70      3.26G     0.3345     0.6653     0.9995         16        640:  36%|███▌      | 523/1471 [00:46<01:24, 11.25it/s]\n"
     ]
    },
    {
     "ename": "KeyboardInterrupt",
     "evalue": "",
     "output_type": "error",
     "traceback": [
      "\u001b[0;31m---------------------------------------------------------------------------\u001b[0m",
      "\u001b[0;31mKeyboardInterrupt\u001b[0m                         Traceback (most recent call last)",
      "Cell \u001b[0;32mIn[2], line 4\u001b[0m\n\u001b[1;32m      2\u001b[0m os\u001b[38;5;241m.\u001b[39menviron[\u001b[38;5;124m\"\u001b[39m\u001b[38;5;124mCUDA_VISIBLE_DEVICES\u001b[39m\u001b[38;5;124m\"\u001b[39m]\u001b[38;5;241m=\u001b[39m \u001b[38;5;124m\"\u001b[39m\u001b[38;5;124m0\u001b[39m\u001b[38;5;124m\"\u001b[39m\n\u001b[1;32m      3\u001b[0m model \u001b[38;5;241m=\u001b[39m YOLO(\u001b[38;5;124m'\u001b[39m\u001b[38;5;124m/home/mmc/disk2/duck/cap/YOLO_pt/drink/weights/kang_weight/best.pt\u001b[39m\u001b[38;5;124m'\u001b[39m)  \u001b[38;5;66;03m# load a pretrained YOLOv8n detection model\u001b[39;00m\n\u001b[0;32m----> 4\u001b[0m \u001b[43mmodel\u001b[49m\u001b[38;5;241;43m.\u001b[39;49m\u001b[43mtrain\u001b[49m\u001b[43m(\u001b[49m\u001b[43mdata\u001b[49m\u001b[38;5;241;43m=\u001b[39;49m\u001b[38;5;124;43m'\u001b[39;49m\u001b[38;5;124;43mnoodle_data.yaml\u001b[39;49m\u001b[38;5;124;43m'\u001b[39;49m\u001b[43m,\u001b[49m\u001b[43m \u001b[49m\u001b[43mepochs\u001b[49m\u001b[38;5;241;43m=\u001b[39;49m\u001b[38;5;241;43m70\u001b[39;49m\u001b[43m,\u001b[49m\u001b[43m \u001b[49m\u001b[43mdevice\u001b[49m\u001b[43m \u001b[49m\u001b[38;5;241;43m=\u001b[39;49m\u001b[43m \u001b[49m\u001b[38;5;241;43m0\u001b[39;49m\u001b[43m)\u001b[49m  \u001b[38;5;66;03m# train the model\u001b[39;00m\n",
      "File \u001b[0;32m/data/duck/cap/ultralytics/ultralytics/engine/model.py:668\u001b[0m, in \u001b[0;36mModel.train\u001b[0;34m(self, trainer, **kwargs)\u001b[0m\n\u001b[1;32m    665\u001b[0m             \u001b[38;5;28;01mpass\u001b[39;00m\n\u001b[1;32m    667\u001b[0m \u001b[38;5;28mself\u001b[39m\u001b[38;5;241m.\u001b[39mtrainer\u001b[38;5;241m.\u001b[39mhub_session \u001b[38;5;241m=\u001b[39m \u001b[38;5;28mself\u001b[39m\u001b[38;5;241m.\u001b[39msession  \u001b[38;5;66;03m# attach optional HUB session\u001b[39;00m\n\u001b[0;32m--> 668\u001b[0m \u001b[38;5;28;43mself\u001b[39;49m\u001b[38;5;241;43m.\u001b[39;49m\u001b[43mtrainer\u001b[49m\u001b[38;5;241;43m.\u001b[39;49m\u001b[43mtrain\u001b[49m\u001b[43m(\u001b[49m\u001b[43m)\u001b[49m\n\u001b[1;32m    669\u001b[0m \u001b[38;5;66;03m# Update model and cfg after training\u001b[39;00m\n\u001b[1;32m    670\u001b[0m \u001b[38;5;28;01mif\u001b[39;00m RANK \u001b[38;5;129;01min\u001b[39;00m {\u001b[38;5;241m-\u001b[39m\u001b[38;5;241m1\u001b[39m, \u001b[38;5;241m0\u001b[39m}:\n",
      "File \u001b[0;32m/data/duck/cap/ultralytics/ultralytics/engine/trainer.py:198\u001b[0m, in \u001b[0;36mBaseTrainer.train\u001b[0;34m(self)\u001b[0m\n\u001b[1;32m    195\u001b[0m         ddp_cleanup(\u001b[38;5;28mself\u001b[39m, \u001b[38;5;28mstr\u001b[39m(file))\n\u001b[1;32m    197\u001b[0m \u001b[38;5;28;01melse\u001b[39;00m:\n\u001b[0;32m--> 198\u001b[0m     \u001b[38;5;28;43mself\u001b[39;49m\u001b[38;5;241;43m.\u001b[39;49m\u001b[43m_do_train\u001b[49m\u001b[43m(\u001b[49m\u001b[43mworld_size\u001b[49m\u001b[43m)\u001b[49m\n",
      "File \u001b[0;32m/data/duck/cap/ultralytics/ultralytics/engine/trainer.py:370\u001b[0m, in \u001b[0;36mBaseTrainer._do_train\u001b[0;34m(self, world_size)\u001b[0m\n\u001b[1;32m    368\u001b[0m \u001b[38;5;28;01mwith\u001b[39;00m torch\u001b[38;5;241m.\u001b[39mcuda\u001b[38;5;241m.\u001b[39mamp\u001b[38;5;241m.\u001b[39mautocast(\u001b[38;5;28mself\u001b[39m\u001b[38;5;241m.\u001b[39mamp):\n\u001b[1;32m    369\u001b[0m     batch \u001b[38;5;241m=\u001b[39m \u001b[38;5;28mself\u001b[39m\u001b[38;5;241m.\u001b[39mpreprocess_batch(batch)\n\u001b[0;32m--> 370\u001b[0m     \u001b[38;5;28mself\u001b[39m\u001b[38;5;241m.\u001b[39mloss, \u001b[38;5;28mself\u001b[39m\u001b[38;5;241m.\u001b[39mloss_items \u001b[38;5;241m=\u001b[39m \u001b[38;5;28;43mself\u001b[39;49m\u001b[38;5;241;43m.\u001b[39;49m\u001b[43mmodel\u001b[49m\u001b[43m(\u001b[49m\u001b[43mbatch\u001b[49m\u001b[43m)\u001b[49m\n\u001b[1;32m    371\u001b[0m     \u001b[38;5;28;01mif\u001b[39;00m RANK \u001b[38;5;241m!=\u001b[39m \u001b[38;5;241m-\u001b[39m\u001b[38;5;241m1\u001b[39m:\n\u001b[1;32m    372\u001b[0m         \u001b[38;5;28mself\u001b[39m\u001b[38;5;241m.\u001b[39mloss \u001b[38;5;241m*\u001b[39m\u001b[38;5;241m=\u001b[39m world_size\n",
      "File \u001b[0;32m~/anaconda3/envs/CPR_YOLO/lib/python3.8/site-packages/torch/nn/modules/module.py:1511\u001b[0m, in \u001b[0;36mModule._wrapped_call_impl\u001b[0;34m(self, *args, **kwargs)\u001b[0m\n\u001b[1;32m   1509\u001b[0m     \u001b[38;5;28;01mreturn\u001b[39;00m \u001b[38;5;28mself\u001b[39m\u001b[38;5;241m.\u001b[39m_compiled_call_impl(\u001b[38;5;241m*\u001b[39margs, \u001b[38;5;241m*\u001b[39m\u001b[38;5;241m*\u001b[39mkwargs)  \u001b[38;5;66;03m# type: ignore[misc]\u001b[39;00m\n\u001b[1;32m   1510\u001b[0m \u001b[38;5;28;01melse\u001b[39;00m:\n\u001b[0;32m-> 1511\u001b[0m     \u001b[38;5;28;01mreturn\u001b[39;00m \u001b[38;5;28;43mself\u001b[39;49m\u001b[38;5;241;43m.\u001b[39;49m\u001b[43m_call_impl\u001b[49m\u001b[43m(\u001b[49m\u001b[38;5;241;43m*\u001b[39;49m\u001b[43margs\u001b[49m\u001b[43m,\u001b[49m\u001b[43m \u001b[49m\u001b[38;5;241;43m*\u001b[39;49m\u001b[38;5;241;43m*\u001b[39;49m\u001b[43mkwargs\u001b[49m\u001b[43m)\u001b[49m\n",
      "File \u001b[0;32m~/anaconda3/envs/CPR_YOLO/lib/python3.8/site-packages/torch/nn/modules/module.py:1520\u001b[0m, in \u001b[0;36mModule._call_impl\u001b[0;34m(self, *args, **kwargs)\u001b[0m\n\u001b[1;32m   1515\u001b[0m \u001b[38;5;66;03m# If we don't have any hooks, we want to skip the rest of the logic in\u001b[39;00m\n\u001b[1;32m   1516\u001b[0m \u001b[38;5;66;03m# this function, and just call forward.\u001b[39;00m\n\u001b[1;32m   1517\u001b[0m \u001b[38;5;28;01mif\u001b[39;00m \u001b[38;5;129;01mnot\u001b[39;00m (\u001b[38;5;28mself\u001b[39m\u001b[38;5;241m.\u001b[39m_backward_hooks \u001b[38;5;129;01mor\u001b[39;00m \u001b[38;5;28mself\u001b[39m\u001b[38;5;241m.\u001b[39m_backward_pre_hooks \u001b[38;5;129;01mor\u001b[39;00m \u001b[38;5;28mself\u001b[39m\u001b[38;5;241m.\u001b[39m_forward_hooks \u001b[38;5;129;01mor\u001b[39;00m \u001b[38;5;28mself\u001b[39m\u001b[38;5;241m.\u001b[39m_forward_pre_hooks\n\u001b[1;32m   1518\u001b[0m         \u001b[38;5;129;01mor\u001b[39;00m _global_backward_pre_hooks \u001b[38;5;129;01mor\u001b[39;00m _global_backward_hooks\n\u001b[1;32m   1519\u001b[0m         \u001b[38;5;129;01mor\u001b[39;00m _global_forward_hooks \u001b[38;5;129;01mor\u001b[39;00m _global_forward_pre_hooks):\n\u001b[0;32m-> 1520\u001b[0m     \u001b[38;5;28;01mreturn\u001b[39;00m \u001b[43mforward_call\u001b[49m\u001b[43m(\u001b[49m\u001b[38;5;241;43m*\u001b[39;49m\u001b[43margs\u001b[49m\u001b[43m,\u001b[49m\u001b[43m \u001b[49m\u001b[38;5;241;43m*\u001b[39;49m\u001b[38;5;241;43m*\u001b[39;49m\u001b[43mkwargs\u001b[49m\u001b[43m)\u001b[49m\n\u001b[1;32m   1522\u001b[0m \u001b[38;5;28;01mtry\u001b[39;00m:\n\u001b[1;32m   1523\u001b[0m     result \u001b[38;5;241m=\u001b[39m \u001b[38;5;28;01mNone\u001b[39;00m\n",
      "File \u001b[0;32m/data/duck/cap/ultralytics/ultralytics/nn/tasks.py:88\u001b[0m, in \u001b[0;36mBaseModel.forward\u001b[0;34m(self, x, *args, **kwargs)\u001b[0m\n\u001b[1;32m     78\u001b[0m \u001b[38;5;250m\u001b[39m\u001b[38;5;124;03m\"\"\"\u001b[39;00m\n\u001b[1;32m     79\u001b[0m \u001b[38;5;124;03mForward pass of the model on a single scale. Wrapper for `_forward_once` method.\u001b[39;00m\n\u001b[1;32m     80\u001b[0m \n\u001b[0;32m   (...)\u001b[0m\n\u001b[1;32m     85\u001b[0m \u001b[38;5;124;03m    (torch.Tensor): The output of the network.\u001b[39;00m\n\u001b[1;32m     86\u001b[0m \u001b[38;5;124;03m\"\"\"\u001b[39;00m\n\u001b[1;32m     87\u001b[0m \u001b[38;5;28;01mif\u001b[39;00m \u001b[38;5;28misinstance\u001b[39m(x, \u001b[38;5;28mdict\u001b[39m):  \u001b[38;5;66;03m# for cases of training and validating while training.\u001b[39;00m\n\u001b[0;32m---> 88\u001b[0m     \u001b[38;5;28;01mreturn\u001b[39;00m \u001b[38;5;28;43mself\u001b[39;49m\u001b[38;5;241;43m.\u001b[39;49m\u001b[43mloss\u001b[49m\u001b[43m(\u001b[49m\u001b[43mx\u001b[49m\u001b[43m,\u001b[49m\u001b[43m \u001b[49m\u001b[38;5;241;43m*\u001b[39;49m\u001b[43margs\u001b[49m\u001b[43m,\u001b[49m\u001b[43m \u001b[49m\u001b[38;5;241;43m*\u001b[39;49m\u001b[38;5;241;43m*\u001b[39;49m\u001b[43mkwargs\u001b[49m\u001b[43m)\u001b[49m\n\u001b[1;32m     89\u001b[0m \u001b[38;5;28;01mreturn\u001b[39;00m \u001b[38;5;28mself\u001b[39m\u001b[38;5;241m.\u001b[39mpredict(x, \u001b[38;5;241m*\u001b[39margs, \u001b[38;5;241m*\u001b[39m\u001b[38;5;241m*\u001b[39mkwargs)\n",
      "File \u001b[0;32m/data/duck/cap/ultralytics/ultralytics/nn/tasks.py:266\u001b[0m, in \u001b[0;36mBaseModel.loss\u001b[0;34m(self, batch, preds)\u001b[0m\n\u001b[1;32m    263\u001b[0m \u001b[38;5;28;01mif\u001b[39;00m \u001b[38;5;129;01mnot\u001b[39;00m \u001b[38;5;28mhasattr\u001b[39m(\u001b[38;5;28mself\u001b[39m, \u001b[38;5;124m\"\u001b[39m\u001b[38;5;124mcriterion\u001b[39m\u001b[38;5;124m\"\u001b[39m):\n\u001b[1;32m    264\u001b[0m     \u001b[38;5;28mself\u001b[39m\u001b[38;5;241m.\u001b[39mcriterion \u001b[38;5;241m=\u001b[39m \u001b[38;5;28mself\u001b[39m\u001b[38;5;241m.\u001b[39minit_criterion()\n\u001b[0;32m--> 266\u001b[0m preds \u001b[38;5;241m=\u001b[39m \u001b[38;5;28;43mself\u001b[39;49m\u001b[38;5;241;43m.\u001b[39;49m\u001b[43mforward\u001b[49m\u001b[43m(\u001b[49m\u001b[43mbatch\u001b[49m\u001b[43m[\u001b[49m\u001b[38;5;124;43m\"\u001b[39;49m\u001b[38;5;124;43mimg\u001b[39;49m\u001b[38;5;124;43m\"\u001b[39;49m\u001b[43m]\u001b[49m\u001b[43m)\u001b[49m \u001b[38;5;28;01mif\u001b[39;00m preds \u001b[38;5;129;01mis\u001b[39;00m \u001b[38;5;28;01mNone\u001b[39;00m \u001b[38;5;28;01melse\u001b[39;00m preds\n\u001b[1;32m    267\u001b[0m \u001b[38;5;28;01mreturn\u001b[39;00m \u001b[38;5;28mself\u001b[39m\u001b[38;5;241m.\u001b[39mcriterion(preds, batch)\n",
      "File \u001b[0;32m/data/duck/cap/ultralytics/ultralytics/nn/tasks.py:89\u001b[0m, in \u001b[0;36mBaseModel.forward\u001b[0;34m(self, x, *args, **kwargs)\u001b[0m\n\u001b[1;32m     87\u001b[0m \u001b[38;5;28;01mif\u001b[39;00m \u001b[38;5;28misinstance\u001b[39m(x, \u001b[38;5;28mdict\u001b[39m):  \u001b[38;5;66;03m# for cases of training and validating while training.\u001b[39;00m\n\u001b[1;32m     88\u001b[0m     \u001b[38;5;28;01mreturn\u001b[39;00m \u001b[38;5;28mself\u001b[39m\u001b[38;5;241m.\u001b[39mloss(x, \u001b[38;5;241m*\u001b[39margs, \u001b[38;5;241m*\u001b[39m\u001b[38;5;241m*\u001b[39mkwargs)\n\u001b[0;32m---> 89\u001b[0m \u001b[38;5;28;01mreturn\u001b[39;00m \u001b[38;5;28;43mself\u001b[39;49m\u001b[38;5;241;43m.\u001b[39;49m\u001b[43mpredict\u001b[49m\u001b[43m(\u001b[49m\u001b[43mx\u001b[49m\u001b[43m,\u001b[49m\u001b[43m \u001b[49m\u001b[38;5;241;43m*\u001b[39;49m\u001b[43margs\u001b[49m\u001b[43m,\u001b[49m\u001b[43m \u001b[49m\u001b[38;5;241;43m*\u001b[39;49m\u001b[38;5;241;43m*\u001b[39;49m\u001b[43mkwargs\u001b[49m\u001b[43m)\u001b[49m\n",
      "File \u001b[0;32m/data/duck/cap/ultralytics/ultralytics/nn/tasks.py:107\u001b[0m, in \u001b[0;36mBaseModel.predict\u001b[0;34m(self, x, profile, visualize, augment, embed)\u001b[0m\n\u001b[1;32m    105\u001b[0m \u001b[38;5;28;01mif\u001b[39;00m augment:\n\u001b[1;32m    106\u001b[0m     \u001b[38;5;28;01mreturn\u001b[39;00m \u001b[38;5;28mself\u001b[39m\u001b[38;5;241m.\u001b[39m_predict_augment(x)\n\u001b[0;32m--> 107\u001b[0m \u001b[38;5;28;01mreturn\u001b[39;00m \u001b[38;5;28;43mself\u001b[39;49m\u001b[38;5;241;43m.\u001b[39;49m\u001b[43m_predict_once\u001b[49m\u001b[43m(\u001b[49m\u001b[43mx\u001b[49m\u001b[43m,\u001b[49m\u001b[43m \u001b[49m\u001b[43mprofile\u001b[49m\u001b[43m,\u001b[49m\u001b[43m \u001b[49m\u001b[43mvisualize\u001b[49m\u001b[43m,\u001b[49m\u001b[43m \u001b[49m\u001b[43membed\u001b[49m\u001b[43m)\u001b[49m\n",
      "File \u001b[0;32m/data/duck/cap/ultralytics/ultralytics/nn/tasks.py:128\u001b[0m, in \u001b[0;36mBaseModel._predict_once\u001b[0;34m(self, x, profile, visualize, embed)\u001b[0m\n\u001b[1;32m    126\u001b[0m \u001b[38;5;28;01mif\u001b[39;00m profile:\n\u001b[1;32m    127\u001b[0m     \u001b[38;5;28mself\u001b[39m\u001b[38;5;241m.\u001b[39m_profile_one_layer(m, x, dt)\n\u001b[0;32m--> 128\u001b[0m x \u001b[38;5;241m=\u001b[39m \u001b[43mm\u001b[49m\u001b[43m(\u001b[49m\u001b[43mx\u001b[49m\u001b[43m)\u001b[49m  \u001b[38;5;66;03m# run\u001b[39;00m\n\u001b[1;32m    129\u001b[0m y\u001b[38;5;241m.\u001b[39mappend(x \u001b[38;5;28;01mif\u001b[39;00m m\u001b[38;5;241m.\u001b[39mi \u001b[38;5;129;01min\u001b[39;00m \u001b[38;5;28mself\u001b[39m\u001b[38;5;241m.\u001b[39msave \u001b[38;5;28;01melse\u001b[39;00m \u001b[38;5;28;01mNone\u001b[39;00m)  \u001b[38;5;66;03m# save output\u001b[39;00m\n\u001b[1;32m    130\u001b[0m \u001b[38;5;28;01mif\u001b[39;00m visualize:\n",
      "File \u001b[0;32m~/anaconda3/envs/CPR_YOLO/lib/python3.8/site-packages/torch/nn/modules/module.py:1511\u001b[0m, in \u001b[0;36mModule._wrapped_call_impl\u001b[0;34m(self, *args, **kwargs)\u001b[0m\n\u001b[1;32m   1509\u001b[0m     \u001b[38;5;28;01mreturn\u001b[39;00m \u001b[38;5;28mself\u001b[39m\u001b[38;5;241m.\u001b[39m_compiled_call_impl(\u001b[38;5;241m*\u001b[39margs, \u001b[38;5;241m*\u001b[39m\u001b[38;5;241m*\u001b[39mkwargs)  \u001b[38;5;66;03m# type: ignore[misc]\u001b[39;00m\n\u001b[1;32m   1510\u001b[0m \u001b[38;5;28;01melse\u001b[39;00m:\n\u001b[0;32m-> 1511\u001b[0m     \u001b[38;5;28;01mreturn\u001b[39;00m \u001b[38;5;28;43mself\u001b[39;49m\u001b[38;5;241;43m.\u001b[39;49m\u001b[43m_call_impl\u001b[49m\u001b[43m(\u001b[49m\u001b[38;5;241;43m*\u001b[39;49m\u001b[43margs\u001b[49m\u001b[43m,\u001b[49m\u001b[43m \u001b[49m\u001b[38;5;241;43m*\u001b[39;49m\u001b[38;5;241;43m*\u001b[39;49m\u001b[43mkwargs\u001b[49m\u001b[43m)\u001b[49m\n",
      "File \u001b[0;32m~/anaconda3/envs/CPR_YOLO/lib/python3.8/site-packages/torch/nn/modules/module.py:1520\u001b[0m, in \u001b[0;36mModule._call_impl\u001b[0;34m(self, *args, **kwargs)\u001b[0m\n\u001b[1;32m   1515\u001b[0m \u001b[38;5;66;03m# If we don't have any hooks, we want to skip the rest of the logic in\u001b[39;00m\n\u001b[1;32m   1516\u001b[0m \u001b[38;5;66;03m# this function, and just call forward.\u001b[39;00m\n\u001b[1;32m   1517\u001b[0m \u001b[38;5;28;01mif\u001b[39;00m \u001b[38;5;129;01mnot\u001b[39;00m (\u001b[38;5;28mself\u001b[39m\u001b[38;5;241m.\u001b[39m_backward_hooks \u001b[38;5;129;01mor\u001b[39;00m \u001b[38;5;28mself\u001b[39m\u001b[38;5;241m.\u001b[39m_backward_pre_hooks \u001b[38;5;129;01mor\u001b[39;00m \u001b[38;5;28mself\u001b[39m\u001b[38;5;241m.\u001b[39m_forward_hooks \u001b[38;5;129;01mor\u001b[39;00m \u001b[38;5;28mself\u001b[39m\u001b[38;5;241m.\u001b[39m_forward_pre_hooks\n\u001b[1;32m   1518\u001b[0m         \u001b[38;5;129;01mor\u001b[39;00m _global_backward_pre_hooks \u001b[38;5;129;01mor\u001b[39;00m _global_backward_hooks\n\u001b[1;32m   1519\u001b[0m         \u001b[38;5;129;01mor\u001b[39;00m _global_forward_hooks \u001b[38;5;129;01mor\u001b[39;00m _global_forward_pre_hooks):\n\u001b[0;32m-> 1520\u001b[0m     \u001b[38;5;28;01mreturn\u001b[39;00m \u001b[43mforward_call\u001b[49m\u001b[43m(\u001b[49m\u001b[38;5;241;43m*\u001b[39;49m\u001b[43margs\u001b[49m\u001b[43m,\u001b[49m\u001b[43m \u001b[49m\u001b[38;5;241;43m*\u001b[39;49m\u001b[38;5;241;43m*\u001b[39;49m\u001b[43mkwargs\u001b[49m\u001b[43m)\u001b[49m\n\u001b[1;32m   1522\u001b[0m \u001b[38;5;28;01mtry\u001b[39;00m:\n\u001b[1;32m   1523\u001b[0m     result \u001b[38;5;241m=\u001b[39m \u001b[38;5;28;01mNone\u001b[39;00m\n",
      "File \u001b[0;32m/data/duck/cap/ultralytics/ultralytics/nn/modules/block.py:229\u001b[0m, in \u001b[0;36mC2f.forward\u001b[0;34m(self, x)\u001b[0m\n\u001b[1;32m    227\u001b[0m \u001b[38;5;28;01mdef\u001b[39;00m \u001b[38;5;21mforward\u001b[39m(\u001b[38;5;28mself\u001b[39m, x):\n\u001b[1;32m    228\u001b[0m \u001b[38;5;250m    \u001b[39m\u001b[38;5;124;03m\"\"\"Forward pass through C2f layer.\"\"\"\u001b[39;00m\n\u001b[0;32m--> 229\u001b[0m     y \u001b[38;5;241m=\u001b[39m \u001b[38;5;28mlist\u001b[39m(\u001b[38;5;28;43mself\u001b[39;49m\u001b[38;5;241;43m.\u001b[39;49m\u001b[43mcv1\u001b[49m\u001b[43m(\u001b[49m\u001b[43mx\u001b[49m\u001b[43m)\u001b[49m\u001b[38;5;241m.\u001b[39mchunk(\u001b[38;5;241m2\u001b[39m, \u001b[38;5;241m1\u001b[39m))\n\u001b[1;32m    230\u001b[0m     y\u001b[38;5;241m.\u001b[39mextend(m(y[\u001b[38;5;241m-\u001b[39m\u001b[38;5;241m1\u001b[39m]) \u001b[38;5;28;01mfor\u001b[39;00m m \u001b[38;5;129;01min\u001b[39;00m \u001b[38;5;28mself\u001b[39m\u001b[38;5;241m.\u001b[39mm)\n\u001b[1;32m    231\u001b[0m     \u001b[38;5;28;01mreturn\u001b[39;00m \u001b[38;5;28mself\u001b[39m\u001b[38;5;241m.\u001b[39mcv2(torch\u001b[38;5;241m.\u001b[39mcat(y, \u001b[38;5;241m1\u001b[39m))\n",
      "File \u001b[0;32m~/anaconda3/envs/CPR_YOLO/lib/python3.8/site-packages/torch/nn/modules/module.py:1511\u001b[0m, in \u001b[0;36mModule._wrapped_call_impl\u001b[0;34m(self, *args, **kwargs)\u001b[0m\n\u001b[1;32m   1509\u001b[0m     \u001b[38;5;28;01mreturn\u001b[39;00m \u001b[38;5;28mself\u001b[39m\u001b[38;5;241m.\u001b[39m_compiled_call_impl(\u001b[38;5;241m*\u001b[39margs, \u001b[38;5;241m*\u001b[39m\u001b[38;5;241m*\u001b[39mkwargs)  \u001b[38;5;66;03m# type: ignore[misc]\u001b[39;00m\n\u001b[1;32m   1510\u001b[0m \u001b[38;5;28;01melse\u001b[39;00m:\n\u001b[0;32m-> 1511\u001b[0m     \u001b[38;5;28;01mreturn\u001b[39;00m \u001b[38;5;28;43mself\u001b[39;49m\u001b[38;5;241;43m.\u001b[39;49m\u001b[43m_call_impl\u001b[49m\u001b[43m(\u001b[49m\u001b[38;5;241;43m*\u001b[39;49m\u001b[43margs\u001b[49m\u001b[43m,\u001b[49m\u001b[43m \u001b[49m\u001b[38;5;241;43m*\u001b[39;49m\u001b[38;5;241;43m*\u001b[39;49m\u001b[43mkwargs\u001b[49m\u001b[43m)\u001b[49m\n",
      "File \u001b[0;32m~/anaconda3/envs/CPR_YOLO/lib/python3.8/site-packages/torch/nn/modules/module.py:1520\u001b[0m, in \u001b[0;36mModule._call_impl\u001b[0;34m(self, *args, **kwargs)\u001b[0m\n\u001b[1;32m   1515\u001b[0m \u001b[38;5;66;03m# If we don't have any hooks, we want to skip the rest of the logic in\u001b[39;00m\n\u001b[1;32m   1516\u001b[0m \u001b[38;5;66;03m# this function, and just call forward.\u001b[39;00m\n\u001b[1;32m   1517\u001b[0m \u001b[38;5;28;01mif\u001b[39;00m \u001b[38;5;129;01mnot\u001b[39;00m (\u001b[38;5;28mself\u001b[39m\u001b[38;5;241m.\u001b[39m_backward_hooks \u001b[38;5;129;01mor\u001b[39;00m \u001b[38;5;28mself\u001b[39m\u001b[38;5;241m.\u001b[39m_backward_pre_hooks \u001b[38;5;129;01mor\u001b[39;00m \u001b[38;5;28mself\u001b[39m\u001b[38;5;241m.\u001b[39m_forward_hooks \u001b[38;5;129;01mor\u001b[39;00m \u001b[38;5;28mself\u001b[39m\u001b[38;5;241m.\u001b[39m_forward_pre_hooks\n\u001b[1;32m   1518\u001b[0m         \u001b[38;5;129;01mor\u001b[39;00m _global_backward_pre_hooks \u001b[38;5;129;01mor\u001b[39;00m _global_backward_hooks\n\u001b[1;32m   1519\u001b[0m         \u001b[38;5;129;01mor\u001b[39;00m _global_forward_hooks \u001b[38;5;129;01mor\u001b[39;00m _global_forward_pre_hooks):\n\u001b[0;32m-> 1520\u001b[0m     \u001b[38;5;28;01mreturn\u001b[39;00m \u001b[43mforward_call\u001b[49m\u001b[43m(\u001b[49m\u001b[38;5;241;43m*\u001b[39;49m\u001b[43margs\u001b[49m\u001b[43m,\u001b[49m\u001b[43m \u001b[49m\u001b[38;5;241;43m*\u001b[39;49m\u001b[38;5;241;43m*\u001b[39;49m\u001b[43mkwargs\u001b[49m\u001b[43m)\u001b[49m\n\u001b[1;32m   1522\u001b[0m \u001b[38;5;28;01mtry\u001b[39;00m:\n\u001b[1;32m   1523\u001b[0m     result \u001b[38;5;241m=\u001b[39m \u001b[38;5;28;01mNone\u001b[39;00m\n",
      "File \u001b[0;32m/data/duck/cap/ultralytics/ultralytics/nn/modules/conv.py:50\u001b[0m, in \u001b[0;36mConv.forward\u001b[0;34m(self, x)\u001b[0m\n\u001b[1;32m     48\u001b[0m \u001b[38;5;28;01mdef\u001b[39;00m \u001b[38;5;21mforward\u001b[39m(\u001b[38;5;28mself\u001b[39m, x):\n\u001b[1;32m     49\u001b[0m \u001b[38;5;250m    \u001b[39m\u001b[38;5;124;03m\"\"\"Apply convolution, batch normalization and activation to input tensor.\"\"\"\u001b[39;00m\n\u001b[0;32m---> 50\u001b[0m     \u001b[38;5;28;01mreturn\u001b[39;00m \u001b[38;5;28mself\u001b[39m\u001b[38;5;241m.\u001b[39mact(\u001b[38;5;28mself\u001b[39m\u001b[38;5;241m.\u001b[39mbn(\u001b[38;5;28;43mself\u001b[39;49m\u001b[38;5;241;43m.\u001b[39;49m\u001b[43mconv\u001b[49m\u001b[43m(\u001b[49m\u001b[43mx\u001b[49m\u001b[43m)\u001b[49m))\n",
      "File \u001b[0;32m~/anaconda3/envs/CPR_YOLO/lib/python3.8/site-packages/torch/nn/modules/module.py:1511\u001b[0m, in \u001b[0;36mModule._wrapped_call_impl\u001b[0;34m(self, *args, **kwargs)\u001b[0m\n\u001b[1;32m   1509\u001b[0m     \u001b[38;5;28;01mreturn\u001b[39;00m \u001b[38;5;28mself\u001b[39m\u001b[38;5;241m.\u001b[39m_compiled_call_impl(\u001b[38;5;241m*\u001b[39margs, \u001b[38;5;241m*\u001b[39m\u001b[38;5;241m*\u001b[39mkwargs)  \u001b[38;5;66;03m# type: ignore[misc]\u001b[39;00m\n\u001b[1;32m   1510\u001b[0m \u001b[38;5;28;01melse\u001b[39;00m:\n\u001b[0;32m-> 1511\u001b[0m     \u001b[38;5;28;01mreturn\u001b[39;00m \u001b[38;5;28;43mself\u001b[39;49m\u001b[38;5;241;43m.\u001b[39;49m\u001b[43m_call_impl\u001b[49m\u001b[43m(\u001b[49m\u001b[38;5;241;43m*\u001b[39;49m\u001b[43margs\u001b[49m\u001b[43m,\u001b[49m\u001b[43m \u001b[49m\u001b[38;5;241;43m*\u001b[39;49m\u001b[38;5;241;43m*\u001b[39;49m\u001b[43mkwargs\u001b[49m\u001b[43m)\u001b[49m\n",
      "File \u001b[0;32m~/anaconda3/envs/CPR_YOLO/lib/python3.8/site-packages/torch/nn/modules/module.py:1520\u001b[0m, in \u001b[0;36mModule._call_impl\u001b[0;34m(self, *args, **kwargs)\u001b[0m\n\u001b[1;32m   1515\u001b[0m \u001b[38;5;66;03m# If we don't have any hooks, we want to skip the rest of the logic in\u001b[39;00m\n\u001b[1;32m   1516\u001b[0m \u001b[38;5;66;03m# this function, and just call forward.\u001b[39;00m\n\u001b[1;32m   1517\u001b[0m \u001b[38;5;28;01mif\u001b[39;00m \u001b[38;5;129;01mnot\u001b[39;00m (\u001b[38;5;28mself\u001b[39m\u001b[38;5;241m.\u001b[39m_backward_hooks \u001b[38;5;129;01mor\u001b[39;00m \u001b[38;5;28mself\u001b[39m\u001b[38;5;241m.\u001b[39m_backward_pre_hooks \u001b[38;5;129;01mor\u001b[39;00m \u001b[38;5;28mself\u001b[39m\u001b[38;5;241m.\u001b[39m_forward_hooks \u001b[38;5;129;01mor\u001b[39;00m \u001b[38;5;28mself\u001b[39m\u001b[38;5;241m.\u001b[39m_forward_pre_hooks\n\u001b[1;32m   1518\u001b[0m         \u001b[38;5;129;01mor\u001b[39;00m _global_backward_pre_hooks \u001b[38;5;129;01mor\u001b[39;00m _global_backward_hooks\n\u001b[1;32m   1519\u001b[0m         \u001b[38;5;129;01mor\u001b[39;00m _global_forward_hooks \u001b[38;5;129;01mor\u001b[39;00m _global_forward_pre_hooks):\n\u001b[0;32m-> 1520\u001b[0m     \u001b[38;5;28;01mreturn\u001b[39;00m \u001b[43mforward_call\u001b[49m\u001b[43m(\u001b[49m\u001b[38;5;241;43m*\u001b[39;49m\u001b[43margs\u001b[49m\u001b[43m,\u001b[49m\u001b[43m \u001b[49m\u001b[38;5;241;43m*\u001b[39;49m\u001b[38;5;241;43m*\u001b[39;49m\u001b[43mkwargs\u001b[49m\u001b[43m)\u001b[49m\n\u001b[1;32m   1522\u001b[0m \u001b[38;5;28;01mtry\u001b[39;00m:\n\u001b[1;32m   1523\u001b[0m     result \u001b[38;5;241m=\u001b[39m \u001b[38;5;28;01mNone\u001b[39;00m\n",
      "File \u001b[0;32m~/anaconda3/envs/CPR_YOLO/lib/python3.8/site-packages/torch/nn/modules/conv.py:460\u001b[0m, in \u001b[0;36mConv2d.forward\u001b[0;34m(self, input)\u001b[0m\n\u001b[1;32m    459\u001b[0m \u001b[38;5;28;01mdef\u001b[39;00m \u001b[38;5;21mforward\u001b[39m(\u001b[38;5;28mself\u001b[39m, \u001b[38;5;28minput\u001b[39m: Tensor) \u001b[38;5;241m-\u001b[39m\u001b[38;5;241m>\u001b[39m Tensor:\n\u001b[0;32m--> 460\u001b[0m     \u001b[38;5;28;01mreturn\u001b[39;00m \u001b[38;5;28;43mself\u001b[39;49m\u001b[38;5;241;43m.\u001b[39;49m\u001b[43m_conv_forward\u001b[49m\u001b[43m(\u001b[49m\u001b[38;5;28;43minput\u001b[39;49m\u001b[43m,\u001b[49m\u001b[43m \u001b[49m\u001b[38;5;28;43mself\u001b[39;49m\u001b[38;5;241;43m.\u001b[39;49m\u001b[43mweight\u001b[49m\u001b[43m,\u001b[49m\u001b[43m \u001b[49m\u001b[38;5;28;43mself\u001b[39;49m\u001b[38;5;241;43m.\u001b[39;49m\u001b[43mbias\u001b[49m\u001b[43m)\u001b[49m\n",
      "File \u001b[0;32m~/anaconda3/envs/CPR_YOLO/lib/python3.8/site-packages/torch/nn/modules/conv.py:456\u001b[0m, in \u001b[0;36mConv2d._conv_forward\u001b[0;34m(self, input, weight, bias)\u001b[0m\n\u001b[1;32m    452\u001b[0m \u001b[38;5;28;01mif\u001b[39;00m \u001b[38;5;28mself\u001b[39m\u001b[38;5;241m.\u001b[39mpadding_mode \u001b[38;5;241m!=\u001b[39m \u001b[38;5;124m'\u001b[39m\u001b[38;5;124mzeros\u001b[39m\u001b[38;5;124m'\u001b[39m:\n\u001b[1;32m    453\u001b[0m     \u001b[38;5;28;01mreturn\u001b[39;00m F\u001b[38;5;241m.\u001b[39mconv2d(F\u001b[38;5;241m.\u001b[39mpad(\u001b[38;5;28minput\u001b[39m, \u001b[38;5;28mself\u001b[39m\u001b[38;5;241m.\u001b[39m_reversed_padding_repeated_twice, mode\u001b[38;5;241m=\u001b[39m\u001b[38;5;28mself\u001b[39m\u001b[38;5;241m.\u001b[39mpadding_mode),\n\u001b[1;32m    454\u001b[0m                     weight, bias, \u001b[38;5;28mself\u001b[39m\u001b[38;5;241m.\u001b[39mstride,\n\u001b[1;32m    455\u001b[0m                     _pair(\u001b[38;5;241m0\u001b[39m), \u001b[38;5;28mself\u001b[39m\u001b[38;5;241m.\u001b[39mdilation, \u001b[38;5;28mself\u001b[39m\u001b[38;5;241m.\u001b[39mgroups)\n\u001b[0;32m--> 456\u001b[0m \u001b[38;5;28;01mreturn\u001b[39;00m \u001b[43mF\u001b[49m\u001b[38;5;241;43m.\u001b[39;49m\u001b[43mconv2d\u001b[49m\u001b[43m(\u001b[49m\u001b[38;5;28;43minput\u001b[39;49m\u001b[43m,\u001b[49m\u001b[43m \u001b[49m\u001b[43mweight\u001b[49m\u001b[43m,\u001b[49m\u001b[43m \u001b[49m\u001b[43mbias\u001b[49m\u001b[43m,\u001b[49m\u001b[43m \u001b[49m\u001b[38;5;28;43mself\u001b[39;49m\u001b[38;5;241;43m.\u001b[39;49m\u001b[43mstride\u001b[49m\u001b[43m,\u001b[49m\n\u001b[1;32m    457\u001b[0m \u001b[43m                \u001b[49m\u001b[38;5;28;43mself\u001b[39;49m\u001b[38;5;241;43m.\u001b[39;49m\u001b[43mpadding\u001b[49m\u001b[43m,\u001b[49m\u001b[43m \u001b[49m\u001b[38;5;28;43mself\u001b[39;49m\u001b[38;5;241;43m.\u001b[39;49m\u001b[43mdilation\u001b[49m\u001b[43m,\u001b[49m\u001b[43m \u001b[49m\u001b[38;5;28;43mself\u001b[39;49m\u001b[38;5;241;43m.\u001b[39;49m\u001b[43mgroups\u001b[49m\u001b[43m)\u001b[49m\n",
      "\u001b[0;31mKeyboardInterrupt\u001b[0m: "
     ]
    }
   ],
   "source": [
    "os.environ[\"CUDA_DEVICE_ORDER\"]=\"PCI_BUS_ID\"\n",
    "os.environ[\"CUDA_VISIBLE_DEVICES\"]= \"0\"\n",
    "model = YOLO('/home/mmc/disk2/duck/cap/YOLO_pt/drink/weights/kang_weight/best.pt')  # load a pretrained YOLOv8n detection model\n",
    "model.train(data='noodle_data.yaml', epochs=70, device = 0)  # train the model"
   ]
  },
  {
   "cell_type": "code",
   "execution_count": 1,
   "metadata": {},
   "outputs": [],
   "source": [
    "# os.environ[\"CUDA_DEVICE_ORDER\"]=\"PCI_BUS_ID\"\n",
    "# os.environ[\"CUDA_VISIBLE_DEVICES\"]= \"3\"\n",
    "# model = YOLO('/home/mmc/disk2/duck/cap/YOLO_pt/drink_noodle/weight/best.pt')  # load a pretrained YOLOv8n detection model\n",
    "# model.train(data='snack_data.yaml', epochs=70, device = 3)  # train the model"
   ]
  }
 ],
 "metadata": {
  "kernelspec": {
   "display_name": "duck",
   "language": "python",
   "name": "python3"
  },
  "language_info": {
   "codemirror_mode": {
    "name": "ipython",
    "version": 3
   },
   "file_extension": ".py",
   "mimetype": "text/x-python",
   "name": "python",
   "nbconvert_exporter": "python",
   "pygments_lexer": "ipython3",
   "version": "3.8.18"
  }
 },
 "nbformat": 4,
 "nbformat_minor": 2
}
