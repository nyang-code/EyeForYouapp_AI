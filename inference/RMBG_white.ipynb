{
 "cells": [
  {
   "cell_type": "code",
   "execution_count": 3,
   "metadata": {},
   "outputs": [
    {
     "name": "stderr",
     "output_type": "stream",
     "text": [
      " 46%|████▌     | 6/13 [00:06<00:06,  1.09it/s]You seem to be using the pipelines sequentially on GPU. In order to maximize efficiency please use a dataset\n",
      "100%|██████████| 13/13 [00:12<00:00,  1.02it/s]\n"
     ]
    }
   ],
   "source": [
    "import torch\n",
    "from transformers import pipeline\n",
    "from PIL import Image, ImageFile\n",
    "import numpy as np\n",
    "import os\n",
    "from tqdm import tqdm\n",
    "\n",
    "# PIL 라이브러리의 이미지 로드 중 오류를 무시하도록 설정\n",
    "ImageFile.LOAD_TRUNCATED_IMAGES = True\n",
    "\n",
    "def remove_background(image_path, device, pipe):\n",
    "    \n",
    "        pillow_mask = pipe(image_path, return_mask=True)\n",
    "        pillow_image = pipe(image_path)\n",
    "    except IOError as e:\n",
    "        print(f\"Error processing {image_path}: {e}\")\n",
    "        return None  # 오류 발생 시 None 반환\n",
    "\n",
    "    np_image = np.array(pillow_image)\n",
    "    np_image[np_image == 0] = 255\n",
    "\n",
    "    modified_image = Image.fromarray(np_image)\n",
    "    if modified_image.mode == 'RGBA':\n",
    "        modified_image = modified_image.convert('RGB')\n",
    "\n",
    "    return modified_image\n",
    "\n",
    "def process_images(input_folder, output_folder, error_log_path):\n",
    "    device = torch.device(\"cuda\") if torch.cuda.is_available() else torch.device(\"cpu\")\n",
    "    pipe = pipeline(\"image-segmentation\", model=\"briaai/RMBG-1.4\", device=device, trust_remote_code=True)\n",
    "    errors = []\n",
    "\n",
    "    for filename in tqdm(os.listdir(input_folder)):\n",
    "        if filename.endswith(('.jpg', '.png', '.jpeg')):\n",
    "            image_path = os.path.join(input_folder, filename)\n",
    "            result_image = remove_background(image_path, device, pipe)\n",
    "            if result_image is None:\n",
    "                errors.append(filename)\n",
    "            else:\n",
    "                output_path = os.path.join(output_folder, filename)\n",
    "                result_image.save(output_path)\n",
    "\n",
    "    # 오류가 발생한 파일 이름을 로그 파일에 기록\n",
    "    if errors:\n",
    "        with open(error_log_path, 'w') as f:\n",
    "            for item in errors:\n",
    "                f.write(\"%s\\n\" % item)\n",
    "\n",
    "# 경로 설정\n",
    "os.environ[\"CUDA_DEVICE_ORDER\"]=\"PCI_BUS_ID\"\n",
    "os.environ[\"CUDA_VISIBLE_DEVICES\"]= \"2\"\n",
    "\n",
    "input_folder = '/home/mmc/disk2/duck/cap/cnn/drink_2/images/val'\n",
    "output_folder = '/home/mmc/disk2/duck/cap/cnn/drink_2/images/val/RMBG_test'\n",
    "\n",
    "error_log_path = 'error_snack.log'\n",
    "\n",
    "\n",
    "# 이미지 처리 실행\n",
    "process_images(input_folder, output_folder, error_log_path)\n"
   ]
  },
  {
   "cell_type": "code",
   "execution_count": 3,
   "metadata": {},
   "outputs": [
    {
     "name": "stdout",
     "output_type": "stream",
     "text": [
      "93935 93935\n"
     ]
    }
   ],
   "source": [
    "print(len(os.listdir(input_folder)), len(os.listdir(output_folder)))\n"
   ]
  },
  {
   "cell_type": "code",
   "execution_count": 4,
   "metadata": {},
   "outputs": [
    {
     "name": "stdout",
     "output_type": "stream",
     "text": [
      "73 71\n"
     ]
    }
   ],
   "source": [
    "print(1,73,71)"
   ]
  },
  {
   "cell_type": "code",
   "execution_count": 5,
   "metadata": {},
   "outputs": [
    {
     "name": "stderr",
     "output_type": "stream",
     "text": [
      "100%|██████████| 56/56 [00:57<00:00,  1.02s/it]\n"
     ]
    }
   ],
   "source": [
    "import torch\n",
    "from transformers import pipeline\n",
    "from PIL import Image, ImageFile\n",
    "import numpy as np\n",
    "import os\n",
    "from tqdm import tqdm\n",
    "\n",
    "# PIL 라이브러리의 이미지 로드 중 오류를 무시하도록 설정\n",
    "ImageFile.LOAD_TRUNCATED_IMAGES = True\n",
    "\n",
    "def remove_background(image_path, device, pipe):\n",
    "    try:\n",
    "        pillow_mask = pipe(image_path, return_mask=True)\n",
    "        pillow_image = pipe(image_path)\n",
    "    except IOError as e:\n",
    "        print(f\"Error processing {image_path}: {e}\")\n",
    "        return None  # 오류 발생 시 None 반환\n",
    "\n",
    "    np_image = np.array(pillow_image)\n",
    "    np_image[np_image == 0] = 255\n",
    "\n",
    "    modified_image = Image.fromarray(np_image)\n",
    "    if modified_image.mode == 'RGBA':\n",
    "        modified_image = modified_image.convert('RGB')\n",
    "\n",
    "    # 이미지 크기를 224x224로 리사이즈\n",
    "    resized_image = modified_image.resize((224, 224))\n",
    "\n",
    "    return resized_image\n",
    "\n",
    "def process_images(input_folder, output_folder, error_log_path):\n",
    "    device = torch.device(\"cuda\") if torch.cuda.is_available() else torch.device(\"cpu\")\n",
    "    pipe = pipeline(\"image-segmentation\", model=\"briaai/RMBG-1.4\", device=device, trust_remote_code=True)\n",
    "    errors = []\n",
    "\n",
    "    for filename in tqdm(os.listdir(input_folder)):\n",
    "        if filename.endswith(('.jpg', '.png', '.jpeg')):\n",
    "            image_path = os.path.join(input_folder, filename)\n",
    "            result_image = remove_background(image_path, device, pipe)\n",
    "            if result_image is None:\n",
    "                errors.append(filename)\n",
    "            else:\n",
    "                output_path = os.path.join(output_folder, filename)\n",
    "                result_image.save(output_path)\n",
    "\n",
    "    # 오류가 발생한 파일 이름을 로그 파일에 기록\n",
    "    if errors:\n",
    "        with open(error_log_path, 'w') as f:\n",
    "            for item in errors:\n",
    "                f.write(\"%s\\n\" % item)\n",
    "\n",
    "# 경로 설정\n",
    "os.environ[\"CUDA_DEVICE_ORDER\"] = \"PCI_BUS_ID\"\n",
    "os.environ[\"CUDA_VISIBLE_DEVICES\"] = \"2\"\n",
    "\n",
    "input_folder = '/home/mmc/disk2/duck/cap/cnn/snack_2/images/train/'\n",
    "output_folder = '/home/mmc/disk2/duck/cap/cnn/snack_2/RMBG_224/train/'\n",
    "\n",
    "error_log_path = 'error_snack.log'\n",
    "\n",
    "# 이미지 처리 실행\n",
    "process_images(input_folder, output_folder, error_log_path)\n"
   ]
  },
  {
   "cell_type": "code",
   "execution_count": null,
   "metadata": {},
   "outputs": [],
   "source": []
  }
 ],
 "metadata": {
  "kernelspec": {
   "display_name": "CPR_YOLO",
   "language": "python",
   "name": "python3"
  },
  "language_info": {
   "codemirror_mode": {
    "name": "ipython",
    "version": 3
   },
   "file_extension": ".py",
   "mimetype": "text/x-python",
   "name": "python",
   "nbconvert_exporter": "python",
   "pygments_lexer": "ipython3",
   "version": "3.8.18"
  }
 },
 "nbformat": 4,
 "nbformat_minor": 2
}
