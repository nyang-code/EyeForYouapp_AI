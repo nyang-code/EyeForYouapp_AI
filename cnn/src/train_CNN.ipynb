{
 "cells": [
  {
   "cell_type": "code",
   "execution_count": 1,
   "metadata": {},
   "outputs": [
    {
     "name": "stderr",
     "output_type": "stream",
     "text": [
      "/home/mmc/anaconda3/envs/CPR_YOLO/lib/python3.8/site-packages/tqdm/auto.py:21: TqdmWarning: IProgress not found. Please update jupyter and ipywidgets. See https://ipywidgets.readthedocs.io/en/stable/user_install.html\n",
      "  from .autonotebook import tqdm as notebook_tqdm\n"
     ]
    }
   ],
   "source": [
    "import pandas as pd\n",
    "import os\n",
    "import torch\n",
    "from torch.utils.data import Dataset, DataLoader\n",
    "from torchvision import transforms\n",
    "from PIL import Image\n",
    "import timm\n",
    "import torch.nn as nn\n",
    "from tqdm import tqdm \n",
    "from torch.optim.lr_scheduler import ReduceLROnPlateau\n"
   ]
  },
  {
   "cell_type": "code",
   "execution_count": 2,
   "metadata": {},
   "outputs": [
    {
     "name": "stdout",
     "output_type": "stream",
     "text": [
      "train shape: (119982, 18)\n",
      "val shape: (15708, 18)\n"
     ]
    }
   ],
   "source": [
    "os.environ[\"CUDA_DEVICE_ORDER\"]=\"PCI_BUS_ID\"\n",
    "os.environ[\"CUDA_VISIBLE_DEVICES\"]= \"2\"\n",
    "\n",
    "device = 'cpu'\n",
    "if torch.cuda.is_available():\n",
    "    device = 'cuda'\n",
    "\n",
    "\n",
    "train_df = pd.read_csv('../data/csv/train/drink_all.csv')\n",
    "val_df = pd.read_csv('../data/csv/val/drink_all.csv')\n",
    "num_classes = 1044\n",
    "\n",
    "print(f'train shape: {train_df.shape}\\nval shape: {val_df.shape}')"
   ]
  },
  {
   "cell_type": "code",
   "execution_count": 3,
   "metadata": {},
   "outputs": [],
   "source": [
    "class CustomImageDataset(Dataset):\n",
    "    def __init__(self, annotations_file, transform=None):\n",
    "        self.img_labels = annotations_file\n",
    "        self.transform = transform\n",
    "\n",
    "    def __len__(self):\n",
    "        return len(self.img_labels)\n",
    "\n",
    "    def __getitem__(self, idx):\n",
    "        img_path = self.img_labels.iloc[idx]['path']\n",
    "        image = Image.open(img_path).convert('RGB')\n",
    "        label = self.img_labels.iloc[idx]['class']\n",
    "        if self.transform:\n",
    "            image = self.transform(image)\n",
    "        return image, label\n",
    "\n",
    "\n",
    "# 데이터 전처리\n",
    "transform = transforms.Compose([\n",
    "    transforms.ToTensor(),\n",
    "])\n",
    "\n",
    "# 사용자 정의 데이터셋 인스턴스 생성\n",
    "train_dataset = CustomImageDataset(train_df,transform=transform)\n",
    "train_loader = DataLoader(train_dataset, batch_size=64, shuffle=True)\n",
    "val_dataset = CustomImageDataset(val_df, transform=transform)\n",
    "val_loader = DataLoader(val_dataset, batch_size=64, shuffle=True)\n"
   ]
  },
  {
   "cell_type": "code",
   "execution_count": 4,
   "metadata": {},
   "outputs": [],
   "source": [
    "class CustomImageClassifier(nn.Module):\n",
    "    def __init__(self, num_classes):\n",
    "        super(CustomImageClassifier, self).__init__()\n",
    "        self.base_model = timm.create_model('resnet50.a1_in1k', pretrained=True, num_classes=num_classes)\n",
    "\n",
    "    def forward(self, x):\n",
    "        x = self.base_model(x)\n",
    "        return x"
   ]
  },
  {
   "cell_type": "code",
   "execution_count": 5,
   "metadata": {},
   "outputs": [
    {
     "name": "stderr",
     "output_type": "stream",
     "text": [
      "/home/mmc/anaconda3/envs/CPR_YOLO/lib/python3.8/site-packages/torch/optim/lr_scheduler.py:28: UserWarning: The verbose parameter is deprecated. Please use get_last_lr() to access the learning rate.\n",
      "  warnings.warn(\"The verbose parameter is deprecated. Please use get_last_lr() \"\n"
     ]
    }
   ],
   "source": [
    "# 모델 생성 및 사전 학습된 가중치 로드\n",
    "model = CustomImageClassifier(num_classes)\n",
    "\n",
    "# 장치 설정\n",
    "model.to(device)\n",
    "\n",
    "# 손실 함수 및 최적화 설정\n",
    "criterion = torch.nn.CrossEntropyLoss()\n",
    "optimizer = torch.optim.Adam(model.parameters(), lr=0.001)\n",
    "scheduler = ReduceLROnPlateau(optimizer, 'min', patience=5, factor=0.1, verbose=True)\n"
   ]
  },
  {
   "cell_type": "code",
   "execution_count": 6,
   "metadata": {},
   "outputs": [
    {
     "name": "stderr",
     "output_type": "stream",
     "text": [
      "100%|██████████| 1875/1875 [10:30<00:00,  2.97it/s]\n",
      "100%|██████████| 246/246 [00:50<00:00,  4.91it/s]\n"
     ]
    },
    {
     "name": "stdout",
     "output_type": "stream",
     "text": [
      "Epoch 1, Train Loss: 0.5613193798017998, Val Loss: 0.10863177269712333\n",
      "Model saved: Epoch 1 with Val Loss: 0.1086\n"
     ]
    },
    {
     "name": "stderr",
     "output_type": "stream",
     "text": [
      "100%|██████████| 1875/1875 [10:05<00:00,  3.10it/s]\n",
      "100%|██████████| 246/246 [00:45<00:00,  5.44it/s]\n"
     ]
    },
    {
     "name": "stdout",
     "output_type": "stream",
     "text": [
      "Epoch 2, Train Loss: 6.948643260025978, Val Loss: 6.952855852561268\n"
     ]
    },
    {
     "name": "stderr",
     "output_type": "stream",
     "text": [
      "100%|██████████| 1875/1875 [08:35<00:00,  3.64it/s]\n",
      "100%|██████████| 246/246 [00:49<00:00,  4.98it/s]\n"
     ]
    },
    {
     "name": "stdout",
     "output_type": "stream",
     "text": [
      "Epoch 3, Train Loss: 6.949651876068115, Val Loss: 6.954321648047222\n"
     ]
    },
    {
     "name": "stderr",
     "output_type": "stream",
     "text": [
      "100%|██████████| 1875/1875 [09:08<00:00,  3.42it/s]\n",
      "100%|██████████| 246/246 [00:49<00:00,  4.98it/s]\n"
     ]
    },
    {
     "name": "stdout",
     "output_type": "stream",
     "text": [
      "Epoch 4, Train Loss: 6.949167334493001, Val Loss: 6.9553805211695225\n"
     ]
    },
    {
     "name": "stderr",
     "output_type": "stream",
     "text": [
      "100%|██████████| 1875/1875 [08:04<00:00,  3.87it/s]\n",
      "100%|██████████| 246/246 [00:32<00:00,  7.49it/s]\n"
     ]
    },
    {
     "name": "stdout",
     "output_type": "stream",
     "text": [
      "Epoch 5, Train Loss: 6.949020947265625, Val Loss: 6.95605311742643\n"
     ]
    },
    {
     "name": "stderr",
     "output_type": "stream",
     "text": [
      "100%|██████████| 1875/1875 [06:30<00:00,  4.80it/s]\n",
      "100%|██████████| 246/246 [00:31<00:00,  7.85it/s]\n"
     ]
    },
    {
     "name": "stdout",
     "output_type": "stream",
     "text": [
      "Epoch 6, Train Loss: 6.948953607177734, Val Loss: 6.956476701953547\n"
     ]
    },
    {
     "name": "stderr",
     "output_type": "stream",
     "text": [
      "100%|██████████| 1875/1875 [06:30<00:00,  4.80it/s]\n",
      "100%|██████████| 246/246 [00:30<00:00,  8.20it/s]\n"
     ]
    },
    {
     "name": "stdout",
     "output_type": "stream",
     "text": [
      "Epoch 7, Train Loss: 6.948948986816406, Val Loss: 6.956914667191544\n"
     ]
    },
    {
     "name": "stderr",
     "output_type": "stream",
     "text": [
      "100%|██████████| 1875/1875 [06:29<00:00,  4.81it/s]\n",
      "100%|██████████| 246/246 [00:29<00:00,  8.39it/s]\n"
     ]
    },
    {
     "name": "stdout",
     "output_type": "stream",
     "text": [
      "Epoch 8, Train Loss: 6.947298026275635, Val Loss: 6.956914380313904\n"
     ]
    },
    {
     "name": "stderr",
     "output_type": "stream",
     "text": [
      "100%|██████████| 1875/1875 [06:31<00:00,  4.79it/s]\n",
      "100%|██████████| 246/246 [00:29<00:00,  8.36it/s]\n"
     ]
    },
    {
     "name": "stdout",
     "output_type": "stream",
     "text": [
      "Epoch 9, Train Loss: 6.9472974741617834, Val Loss: 6.9569553766793355\n"
     ]
    },
    {
     "name": "stderr",
     "output_type": "stream",
     "text": [
      "100%|██████████| 1875/1875 [06:30<00:00,  4.81it/s]\n",
      "100%|██████████| 246/246 [00:29<00:00,  8.25it/s]\n"
     ]
    },
    {
     "name": "stdout",
     "output_type": "stream",
     "text": [
      "Epoch 10, Train Loss: 6.947295543670655, Val Loss: 6.95695785972161\n"
     ]
    },
    {
     "name": "stderr",
     "output_type": "stream",
     "text": [
      "100%|██████████| 1875/1875 [06:31<00:00,  4.79it/s]\n",
      "100%|██████████| 246/246 [00:30<00:00,  8.04it/s]\n"
     ]
    },
    {
     "name": "stdout",
     "output_type": "stream",
     "text": [
      "Epoch 11, Train Loss: 6.947291380564372, Val Loss: 6.956971635663413\n"
     ]
    },
    {
     "name": "stderr",
     "output_type": "stream",
     "text": [
      "100%|██████████| 1875/1875 [06:32<00:00,  4.78it/s]\n",
      "100%|██████████| 246/246 [00:30<00:00,  8.13it/s]\n"
     ]
    },
    {
     "name": "stdout",
     "output_type": "stream",
     "text": [
      "Epoch 12, Train Loss: 6.947292217763265, Val Loss: 6.95699400048915\n"
     ]
    },
    {
     "name": "stderr",
     "output_type": "stream",
     "text": [
      "100%|██████████| 1875/1875 [06:32<00:00,  4.78it/s]\n",
      "100%|██████████| 246/246 [00:28<00:00,  8.63it/s]\n"
     ]
    },
    {
     "name": "stdout",
     "output_type": "stream",
     "text": [
      "Epoch 13, Train Loss: 6.947285976155599, Val Loss: 6.956929170019258\n"
     ]
    },
    {
     "name": "stderr",
     "output_type": "stream",
     "text": [
      "100%|██████████| 1875/1875 [06:30<00:00,  4.80it/s]\n",
      "100%|██████████| 246/246 [00:29<00:00,  8.39it/s]\n"
     ]
    },
    {
     "name": "stdout",
     "output_type": "stream",
     "text": [
      "Epoch 14, Train Loss: 6.947108434041341, Val Loss: 6.9569379682463355\n"
     ]
    },
    {
     "name": "stderr",
     "output_type": "stream",
     "text": [
      "100%|██████████| 1875/1875 [06:29<00:00,  4.81it/s]\n",
      "100%|██████████| 246/246 [00:29<00:00,  8.24it/s]\n"
     ]
    },
    {
     "name": "stdout",
     "output_type": "stream",
     "text": [
      "Epoch 15, Train Loss: 6.947109559885661, Val Loss: 6.957029491905274\n"
     ]
    },
    {
     "name": "stderr",
     "output_type": "stream",
     "text": [
      "100%|██████████| 1875/1875 [06:31<00:00,  4.78it/s]\n",
      "100%|██████████| 246/246 [00:29<00:00,  8.32it/s]\n"
     ]
    },
    {
     "name": "stdout",
     "output_type": "stream",
     "text": [
      "Epoch 16, Train Loss: 6.9471063125610355, Val Loss: 6.956944713747598\n"
     ]
    },
    {
     "name": "stderr",
     "output_type": "stream",
     "text": [
      "100%|██████████| 1875/1875 [06:30<00:00,  4.81it/s]\n",
      "100%|██████████| 246/246 [00:30<00:00,  7.96it/s]\n"
     ]
    },
    {
     "name": "stdout",
     "output_type": "stream",
     "text": [
      "Epoch 17, Train Loss: 6.947103938293457, Val Loss: 6.956997262753122\n"
     ]
    },
    {
     "name": "stderr",
     "output_type": "stream",
     "text": [
      "100%|██████████| 1875/1875 [06:32<00:00,  4.78it/s]\n",
      "100%|██████████| 246/246 [00:34<00:00,  7.17it/s]\n"
     ]
    },
    {
     "name": "stdout",
     "output_type": "stream",
     "text": [
      "Epoch 18, Train Loss: 6.947110249328613, Val Loss: 6.956994802971196\n"
     ]
    },
    {
     "name": "stderr",
     "output_type": "stream",
     "text": [
      "100%|██████████| 1875/1875 [06:30<00:00,  4.80it/s]\n",
      "100%|██████████| 246/246 [00:30<00:00,  8.10it/s]\n"
     ]
    },
    {
     "name": "stdout",
     "output_type": "stream",
     "text": [
      "Epoch 19, Train Loss: 6.947106872558594, Val Loss: 6.956945713942613\n"
     ]
    },
    {
     "name": "stderr",
     "output_type": "stream",
     "text": [
      "100%|██████████| 1875/1875 [06:30<00:00,  4.81it/s]\n",
      "100%|██████████| 246/246 [00:30<00:00,  8.19it/s]\n"
     ]
    },
    {
     "name": "stdout",
     "output_type": "stream",
     "text": [
      "Epoch 20, Train Loss: 6.947090289052327, Val Loss: 6.956974015972478\n"
     ]
    },
    {
     "name": "stderr",
     "output_type": "stream",
     "text": [
      "100%|██████████| 1875/1875 [06:31<00:00,  4.79it/s]\n",
      "100%|██████████| 246/246 [00:28<00:00,  8.52it/s]\n"
     ]
    },
    {
     "name": "stdout",
     "output_type": "stream",
     "text": [
      "Epoch 21, Train Loss: 6.947090785980224, Val Loss: 6.957013926854947\n"
     ]
    },
    {
     "name": "stderr",
     "output_type": "stream",
     "text": [
      "100%|██████████| 1875/1875 [06:30<00:00,  4.81it/s]\n",
      "100%|██████████| 246/246 [00:29<00:00,  8.25it/s]\n"
     ]
    },
    {
     "name": "stdout",
     "output_type": "stream",
     "text": [
      "Epoch 22, Train Loss: 6.9470918627421065, Val Loss: 6.957003521725414\n"
     ]
    },
    {
     "name": "stderr",
     "output_type": "stream",
     "text": [
      "100%|██████████| 1875/1875 [06:31<00:00,  4.79it/s]\n",
      "100%|██████████| 246/246 [00:29<00:00,  8.28it/s]\n"
     ]
    },
    {
     "name": "stdout",
     "output_type": "stream",
     "text": [
      "Epoch 23, Train Loss: 6.947090685017904, Val Loss: 6.957001959405294\n"
     ]
    },
    {
     "name": "stderr",
     "output_type": "stream",
     "text": [
      "100%|██████████| 1875/1875 [06:30<00:00,  4.80it/s]\n",
      "100%|██████████| 246/246 [00:30<00:00,  8.17it/s]\n"
     ]
    },
    {
     "name": "stdout",
     "output_type": "stream",
     "text": [
      "Epoch 24, Train Loss: 6.947088794453939, Val Loss: 6.9569633918079905\n"
     ]
    },
    {
     "name": "stderr",
     "output_type": "stream",
     "text": [
      "100%|██████████| 1875/1875 [06:28<00:00,  4.83it/s]\n",
      "100%|██████████| 246/246 [00:30<00:00,  8.09it/s]\n"
     ]
    },
    {
     "name": "stdout",
     "output_type": "stream",
     "text": [
      "Epoch 25, Train Loss: 6.947092223612468, Val Loss: 6.95703664640101\n"
     ]
    },
    {
     "name": "stderr",
     "output_type": "stream",
     "text": [
      "100%|██████████| 1875/1875 [06:29<00:00,  4.81it/s]\n",
      "100%|██████████| 246/246 [00:32<00:00,  7.64it/s]\n"
     ]
    },
    {
     "name": "stdout",
     "output_type": "stream",
     "text": [
      "Epoch 26, Train Loss: 6.947086772664388, Val Loss: 6.957054244793527\n"
     ]
    },
    {
     "name": "stderr",
     "output_type": "stream",
     "text": [
      "100%|██████████| 1875/1875 [06:27<00:00,  4.84it/s]\n",
      "100%|██████████| 246/246 [00:28<00:00,  8.71it/s]\n"
     ]
    },
    {
     "name": "stdout",
     "output_type": "stream",
     "text": [
      "Epoch 27, Train Loss: 6.947088886006673, Val Loss: 6.957003632212073\n"
     ]
    },
    {
     "name": "stderr",
     "output_type": "stream",
     "text": [
      "100%|██████████| 1875/1875 [06:28<00:00,  4.82it/s]\n",
      "100%|██████████| 246/246 [00:29<00:00,  8.22it/s]\n"
     ]
    },
    {
     "name": "stdout",
     "output_type": "stream",
     "text": [
      "Epoch 28, Train Loss: 6.947089654286702, Val Loss: 6.957022283135391\n"
     ]
    },
    {
     "name": "stderr",
     "output_type": "stream",
     "text": [
      "100%|██████████| 1875/1875 [06:28<00:00,  4.83it/s]\n",
      "100%|██████████| 246/246 [00:30<00:00,  8.19it/s]\n"
     ]
    },
    {
     "name": "stdout",
     "output_type": "stream",
     "text": [
      "Epoch 29, Train Loss: 6.947089945983887, Val Loss: 6.957004236981152\n"
     ]
    },
    {
     "name": "stderr",
     "output_type": "stream",
     "text": [
      "100%|██████████| 1875/1875 [06:23<00:00,  4.89it/s]\n",
      "100%|██████████| 246/246 [00:29<00:00,  8.32it/s]\n"
     ]
    },
    {
     "name": "stdout",
     "output_type": "stream",
     "text": [
      "Epoch 30, Train Loss: 6.947089008839925, Val Loss: 6.9570567258974405\n"
     ]
    },
    {
     "name": "stderr",
     "output_type": "stream",
     "text": [
      "100%|██████████| 1875/1875 [06:26<00:00,  4.85it/s]\n",
      "100%|██████████| 246/246 [00:29<00:00,  8.47it/s]\n"
     ]
    },
    {
     "name": "stdout",
     "output_type": "stream",
     "text": [
      "Epoch 31, Train Loss: 6.9470869809468585, Val Loss: 6.957009212757514\n"
     ]
    },
    {
     "name": "stderr",
     "output_type": "stream",
     "text": [
      "100%|██████████| 1875/1875 [06:30<00:00,  4.80it/s]\n",
      "100%|██████████| 246/246 [00:29<00:00,  8.24it/s]\n"
     ]
    },
    {
     "name": "stdout",
     "output_type": "stream",
     "text": [
      "Epoch 32, Train Loss: 6.947089919535319, Val Loss: 6.956985266228032\n"
     ]
    },
    {
     "name": "stderr",
     "output_type": "stream",
     "text": [
      "100%|██████████| 1875/1875 [06:27<00:00,  4.84it/s]\n",
      "100%|██████████| 246/246 [00:27<00:00,  8.83it/s]\n"
     ]
    },
    {
     "name": "stdout",
     "output_type": "stream",
     "text": [
      "Epoch 33, Train Loss: 6.947088171386719, Val Loss: 6.956999893110942\n"
     ]
    },
    {
     "name": "stderr",
     "output_type": "stream",
     "text": [
      "100%|██████████| 1875/1875 [06:28<00:00,  4.82it/s]\n",
      "100%|██████████| 246/246 [00:30<00:00,  8.16it/s]\n"
     ]
    },
    {
     "name": "stdout",
     "output_type": "stream",
     "text": [
      "Epoch 34, Train Loss: 6.947088266499837, Val Loss: 6.957028828985322\n"
     ]
    },
    {
     "name": "stderr",
     "output_type": "stream",
     "text": [
      "100%|██████████| 1875/1875 [06:28<00:00,  4.82it/s]\n",
      "100%|██████████| 246/246 [00:29<00:00,  8.34it/s]\n"
     ]
    },
    {
     "name": "stdout",
     "output_type": "stream",
     "text": [
      "Epoch 35, Train Loss: 6.94708993733724, Val Loss: 6.957017049556825\n"
     ]
    },
    {
     "name": "stderr",
     "output_type": "stream",
     "text": [
      "100%|██████████| 1875/1875 [06:26<00:00,  4.85it/s]\n",
      "100%|██████████| 246/246 [00:28<00:00,  8.57it/s]\n"
     ]
    },
    {
     "name": "stdout",
     "output_type": "stream",
     "text": [
      "Epoch 36, Train Loss: 6.947087015533447, Val Loss: 6.956839259077863\n"
     ]
    },
    {
     "name": "stderr",
     "output_type": "stream",
     "text": [
      "100%|██████████| 1875/1875 [06:26<00:00,  4.85it/s]\n",
      "100%|██████████| 246/246 [00:30<00:00,  8.07it/s]\n"
     ]
    },
    {
     "name": "stdout",
     "output_type": "stream",
     "text": [
      "Epoch 37, Train Loss: 6.947090071105957, Val Loss: 6.95700838895348\n"
     ]
    },
    {
     "name": "stderr",
     "output_type": "stream",
     "text": [
      "100%|██████████| 1875/1875 [06:27<00:00,  4.84it/s]\n",
      "100%|██████████| 246/246 [00:30<00:00,  8.19it/s]\n"
     ]
    },
    {
     "name": "stdout",
     "output_type": "stream",
     "text": [
      "Epoch 38, Train Loss: 6.947089220937093, Val Loss: 6.957056235491745\n"
     ]
    },
    {
     "name": "stderr",
     "output_type": "stream",
     "text": [
      "100%|██████████| 1875/1875 [06:27<00:00,  4.83it/s]\n",
      "100%|██████████| 246/246 [00:29<00:00,  8.47it/s]\n"
     ]
    },
    {
     "name": "stdout",
     "output_type": "stream",
     "text": [
      "Epoch 39, Train Loss: 6.947086988067627, Val Loss: 6.957002314125619\n"
     ]
    },
    {
     "name": "stderr",
     "output_type": "stream",
     "text": [
      "100%|██████████| 1875/1875 [06:30<00:00,  4.80it/s]\n",
      "100%|██████████| 246/246 [00:29<00:00,  8.25it/s]\n"
     ]
    },
    {
     "name": "stdout",
     "output_type": "stream",
     "text": [
      "Epoch 40, Train Loss: 6.947089593251547, Val Loss: 6.957034587860107\n"
     ]
    },
    {
     "name": "stderr",
     "output_type": "stream",
     "text": [
      "100%|██████████| 1875/1875 [06:26<00:00,  4.85it/s]\n",
      "100%|██████████| 246/246 [00:29<00:00,  8.34it/s]\n"
     ]
    },
    {
     "name": "stdout",
     "output_type": "stream",
     "text": [
      "Epoch 41, Train Loss: 6.947091275278727, Val Loss: 6.956940509439484\n"
     ]
    },
    {
     "name": "stderr",
     "output_type": "stream",
     "text": [
      "100%|██████████| 1875/1875 [06:28<00:00,  4.83it/s]\n",
      "100%|██████████| 246/246 [00:29<00:00,  8.38it/s]\n"
     ]
    },
    {
     "name": "stdout",
     "output_type": "stream",
     "text": [
      "Epoch 42, Train Loss: 6.947089351908366, Val Loss: 6.957013401558728\n"
     ]
    },
    {
     "name": "stderr",
     "output_type": "stream",
     "text": [
      "100%|██████████| 1875/1875 [06:30<00:00,  4.80it/s]\n",
      "100%|██████████| 246/246 [00:29<00:00,  8.22it/s]\n"
     ]
    },
    {
     "name": "stdout",
     "output_type": "stream",
     "text": [
      "Epoch 43, Train Loss: 6.947085694630941, Val Loss: 6.957032665004575\n"
     ]
    },
    {
     "name": "stderr",
     "output_type": "stream",
     "text": [
      "100%|██████████| 1875/1875 [06:28<00:00,  4.83it/s]\n",
      "100%|██████████| 246/246 [00:30<00:00,  8.14it/s]\n"
     ]
    },
    {
     "name": "stdout",
     "output_type": "stream",
     "text": [
      "Epoch 44, Train Loss: 6.947089551544189, Val Loss: 6.9570336535694155\n"
     ]
    },
    {
     "name": "stderr",
     "output_type": "stream",
     "text": [
      "100%|██████████| 1875/1875 [06:28<00:00,  4.83it/s]\n",
      "100%|██████████| 246/246 [00:32<00:00,  7.47it/s]\n"
     ]
    },
    {
     "name": "stdout",
     "output_type": "stream",
     "text": [
      "Epoch 45, Train Loss: 6.947090571085612, Val Loss: 6.956988352101024\n"
     ]
    },
    {
     "name": "stderr",
     "output_type": "stream",
     "text": [
      "100%|██████████| 1875/1875 [06:26<00:00,  4.85it/s]\n",
      "100%|██████████| 246/246 [00:28<00:00,  8.56it/s]\n"
     ]
    },
    {
     "name": "stdout",
     "output_type": "stream",
     "text": [
      "Epoch 46, Train Loss: 6.9470891067504885, Val Loss: 6.956941881800086\n"
     ]
    },
    {
     "name": "stderr",
     "output_type": "stream",
     "text": [
      "100%|██████████| 1875/1875 [06:25<00:00,  4.87it/s]\n",
      "100%|██████████| 246/246 [00:28<00:00,  8.70it/s]\n"
     ]
    },
    {
     "name": "stdout",
     "output_type": "stream",
     "text": [
      "Epoch 47, Train Loss: 6.947090081532796, Val Loss: 6.9570180982109004\n"
     ]
    },
    {
     "name": "stderr",
     "output_type": "stream",
     "text": [
      "100%|██████████| 1875/1875 [06:30<00:00,  4.80it/s]\n",
      "100%|██████████| 246/246 [00:28<00:00,  8.73it/s]\n"
     ]
    },
    {
     "name": "stdout",
     "output_type": "stream",
     "text": [
      "Epoch 48, Train Loss: 6.947090728759766, Val Loss: 6.956974583912671\n"
     ]
    },
    {
     "name": "stderr",
     "output_type": "stream",
     "text": [
      "100%|██████████| 1875/1875 [06:26<00:00,  4.85it/s]\n",
      "100%|██████████| 246/246 [00:29<00:00,  8.28it/s]\n"
     ]
    },
    {
     "name": "stdout",
     "output_type": "stream",
     "text": [
      "Epoch 49, Train Loss: 6.947086618550618, Val Loss: 6.95701861575367\n"
     ]
    },
    {
     "name": "stderr",
     "output_type": "stream",
     "text": [
      "100%|██████████| 1875/1875 [06:28<00:00,  4.82it/s]\n",
      "100%|██████████| 246/246 [00:29<00:00,  8.26it/s]"
     ]
    },
    {
     "name": "stdout",
     "output_type": "stream",
     "text": [
      "Epoch 50, Train Loss: 6.947090070851644, Val Loss: 6.957002740565354\n"
     ]
    },
    {
     "name": "stderr",
     "output_type": "stream",
     "text": [
      "\n"
     ]
    }
   ],
   "source": [
    "# 초기 최소 검증 손실값 설정\n",
    "min_val_loss = float('inf')\n",
    "\n",
    "# 학습 및 검증 과정\n",
    "model.train()\n",
    "for epoch in range(50):  # 10 에폭 동안 학습\n",
    "    train_loss, val_loss = 0.0, 0.0\n",
    "    \n",
    "    # 학습 부분\n",
    "    for images, labels in tqdm(train_loader):\n",
    "        images, labels = images.to(device), labels.to(device)\n",
    "        optimizer.zero_grad()\n",
    "        outputs = model(images)\n",
    "        loss = criterion(outputs, labels)\n",
    "        loss.backward()\n",
    "        optimizer.step()\n",
    "        train_loss += loss.item()\n",
    "    \n",
    "    # 검증 부분\n",
    "    model.eval()\n",
    "    with torch.no_grad():\n",
    "        for images, labels in tqdm(val_loader):\n",
    "            images, labels = images.to(device), labels.to(device)\n",
    "            outputs = model(images)\n",
    "            loss = criterion(outputs, labels)\n",
    "            val_loss += loss.item()\n",
    "\n",
    "    # 에폭별 손실 출력\n",
    "    print(f'Epoch {epoch+1}, Train Loss: {train_loss / len(train_loader)}, Val Loss: {val_loss / len(val_loader)}')\n",
    "\n",
    "    # 스케줄러 업데이트\n",
    "    scheduler.step(val_loss / len(val_loader))\n",
    "\n",
    "    # 검증 손실이 개선되었는지 확인하고 모델 저장\n",
    "    current_val_loss = val_loss / len(val_loader)\n",
    "    if current_val_loss < min_val_loss:\n",
    "        min_val_loss = current_val_loss\n",
    "        torch.save(model.state_dict(), f'./drink_pt/model_epoch_{epoch+1}_loss_{current_val_loss:.4f}.pt')\n",
    "        print(f\"Model saved: Epoch {epoch+1} with Val Loss: {current_val_loss:.4f}\")"
   ]
  },
  {
   "cell_type": "code",
   "execution_count": 7,
   "metadata": {},
   "outputs": [
    {
     "name": "stdout",
     "output_type": "stream",
     "text": [
      "tensor([-0.3605, -0.0821, -0.0666,  ..., -0.1296, -0.0384, -0.0499],\n",
      "       device='cuda:0')\n",
      "tensor([ 65, 473, 342, 613, 546, 442, 782, 127, 553, 571, 785, 128, 360, 850,\n",
      "        453, 588, 225, 719,  75, 625, 983, 330, 371, 852,  24, 964,  55, 156])\n"
     ]
    }
   ],
   "source": [
    "import matplotlib.pyplot as plt\n",
    "\n",
    "# plt.imshow(images[2].to('cpu').permute(1,2,0))\n",
    "print(outputs[0])\n",
    "print(labels.to('cpu'))"
   ]
  },
  {
   "cell_type": "code",
   "execution_count": null,
   "metadata": {},
   "outputs": [],
   "source": []
  }
 ],
 "metadata": {
  "kernelspec": {
   "display_name": "QCPR",
   "language": "python",
   "name": "python3"
  },
  "language_info": {
   "codemirror_mode": {
    "name": "ipython",
    "version": 3
   },
   "file_extension": ".py",
   "mimetype": "text/x-python",
   "name": "python",
   "nbconvert_exporter": "python",
   "pygments_lexer": "ipython3",
   "version": "3.8.18"
  },
  "orig_nbformat": 4,
  "vscode": {
   "interpreter": {
    "hash": "352f28ac441fba03a5c24c7d1f08d8b11a4b2eff888222dcd2a2cdebcb6ad1c7"
   }
  }
 },
 "nbformat": 4,
 "nbformat_minor": 2
}
