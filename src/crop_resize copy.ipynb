{
 "cells": [
  {
   "cell_type": "code",
   "execution_count": 1,
   "metadata": {},
   "outputs": [
    {
     "name": "stderr",
     "output_type": "stream",
     "text": [
      "  0%|          | 0/93934 [00:00<?, ?it/s]"
     ]
    },
    {
     "name": "stderr",
     "output_type": "stream",
     "text": [
      "/tmp/ipykernel_44124/2417282261.py:35: DeprecationWarning: ANTIALIAS is deprecated and will be removed in Pillow 10 (2023-07-01). Use LANCZOS or Resampling.LANCZOS instead.\n",
      "  resized_image = cropped_image.resize((300, 400), Image.ANTIALIAS)\n",
      "100%|██████████| 93934/93934 [3:26:35<00:00,  7.58it/s]  "
     ]
    },
    {
     "name": "stdout",
     "output_type": "stream",
     "text": [
      "모든 이미지 처리가 완료되었습니다.\n"
     ]
    },
    {
     "name": "stderr",
     "output_type": "stream",
     "text": [
      "\n"
     ]
    }
   ],
   "source": [
    "import os\n",
    "from PIL import Image\n",
    "from tqdm import tqdm\n",
    "\n",
    "# 원본 이미지 폴더 경로\n",
    "input_folder = '/home/mmc/disk2/duck/cap/data/snack_RMBG/train/images/'\n",
    "# 출력 이미지 폴더 경로\n",
    "output_folder = '/home/mmc/disk2/duck/cap/data/snack_RMBG/train/images_3:4/'\n",
    "\n",
    "# 출력 폴더가 존재하지 않으면 생성\n",
    "if not os.path.exists(output_folder):\n",
    "    os.makedirs(output_folder)\n",
    "\n",
    "# 이미지 파일 목록 가져오기\n",
    "image_files = [f for f in os.listdir(input_folder) if os.path.isfile(os.path.join(input_folder, f))]\n",
    "\n",
    "# 이미지 처리 함수\n",
    "def process_image(image_path, output_path):\n",
    "    image = Image.open(image_path)\n",
    "    original_width, original_height = image.size\n",
    "\n",
    "    # 3:4 비율로 크롭\n",
    "    new_ratio = 3 / 4\n",
    "    new_height = original_height\n",
    "    new_width = int(new_height * new_ratio)\n",
    "\n",
    "    left = (original_width - new_width) / 2\n",
    "    top = 0\n",
    "    right = (original_width + new_width) / 2\n",
    "    bottom = new_height\n",
    "\n",
    "    cropped_image = image.crop((left, top, right, bottom))\n",
    "    \n",
    "    # 300x400으로 리사이즈\n",
    "    resized_image = cropped_image.resize((300, 400), Image.ANTIALIAS)\n",
    "    \n",
    "    # 결과 이미지 저장\n",
    "    resized_image.save(output_path)\n",
    "\n",
    "# 모든 이미지 처리\n",
    "for image_file in tqdm(image_files):\n",
    "    input_path = os.path.join(input_folder, image_file)\n",
    "    output_path = os.path.join(output_folder, image_file)\n",
    "    process_image(input_path, output_path)\n",
    "\n",
    "print(\"모든 이미지 처리가 완료되었습니다.\")\n"
   ]
  },
  {
   "cell_type": "code",
   "execution_count": null,
   "metadata": {},
   "outputs": [],
   "source": []
  }
 ],
 "metadata": {
  "kernelspec": {
   "display_name": "CPR_YOLO",
   "language": "python",
   "name": "python3"
  },
  "language_info": {
   "codemirror_mode": {
    "name": "ipython",
    "version": 3
   },
   "file_extension": ".py",
   "mimetype": "text/x-python",
   "name": "python",
   "nbconvert_exporter": "python",
   "pygments_lexer": "ipython3",
   "version": "3.8.18"
  }
 },
 "nbformat": 4,
 "nbformat_minor": 2
}
