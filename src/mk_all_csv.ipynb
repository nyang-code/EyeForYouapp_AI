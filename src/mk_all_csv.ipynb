{
 "cells": [
  {
   "cell_type": "code",
   "execution_count": 8,
   "metadata": {},
   "outputs": [
    {
     "name": "stdout",
     "output_type": "stream",
     "text": [
      "Processed file saved as: ../data/csv/val/noodle_all.csv\n"
     ]
    }
   ],
   "source": [
    "import pandas as pd\n",
    "import os\n",
    "\n",
    "def process_and_concatenate_data(file_path):\n",
    "    # 데이터를 로드합니다.\n",
    "    data = pd.read_csv(file_path)\n",
    "    \n",
    "    # \"path\" 열에서 \"/noodle/\" 문자열을 \"/noodle_RMBG/\"로 변경합니다.\n",
    "    data['path'] = data['path'].str.replace('/noodle/', '/noodle_RMBG/')\n",
    "    \n",
    "    # 기존 데이터를 다시 로드합니다.\n",
    "    original_data = pd.read_csv(file_path)\n",
    "    \n",
    "    # 변경된 데이터와 원본 데이터를 합칩니다.\n",
    "    concatenated_data = pd.concat([original_data, data], ignore_index=True)\n",
    "    \n",
    "    # 합쳐진 데이터를 새로운 CSV 파일로 저장합니다.\n",
    "    directory, filename = os.path.split(file_path)\n",
    "    new_file_path = os.path.join(directory, 'noodle_all.csv')\n",
    "    concatenated_data.to_csv(new_file_path, index=False)\n",
    "    \n",
    "    return new_file_path\n",
    "\n",
    "# 함수를 호출합니다. 파일 경로를 적절히 조정해 주세요.\n",
    "result_file = process_and_concatenate_data('../data/csv/val/noodle.csv')\n",
    "print(f\"Processed file saved as: {result_file}\")\n"
   ]
  },
  {
   "cell_type": "code",
   "execution_count": 5,
   "metadata": {},
   "outputs": [
    {
     "name": "stdout",
     "output_type": "stream",
     "text": [
      "11686 23372\n"
     ]
    },
    {
     "data": {
      "text/plain": [
       "23372"
      ]
     },
     "execution_count": 5,
     "metadata": {},
     "output_type": "execute_result"
    }
   ],
   "source": [
    "orig_data = pd.read_csv('../data/csv/train/noodle.csv')\n",
    "all_data = pd.read_csv('../data/csv/train/noodle_all.csv')\n",
    "\n",
    "print(len(orig_data), len(all_data))\n"
   ]
  },
  {
   "cell_type": "code",
   "execution_count": 14,
   "metadata": {},
   "outputs": [
    {
     "name": "stdout",
     "output_type": "stream",
     "text": [
      "Processed file saved as: ../data/csv/val/drink_all.csv\n"
     ]
    }
   ],
   "source": [
    "#csv 224로 변경\n",
    "\n",
    "import pandas as pd\n",
    "import os\n",
    "\n",
    "def process_and_concatenate_data(file_path):\n",
    "    # 데이터를 로드합니다.\n",
    "    data = pd.read_csv(file_path)\n",
    "    \n",
    "    # \"path\" 열에서 \"/noodle/\" 문자열을 \"/noodle_RMBG/\"로 변경합니다.\n",
    "    data['path'] = data['path'].str.replace('/background_mix/', '/drink_RMBG/')\n",
    "\n",
    "    data.to_csv(file_path, index=False)\n",
    "    \n",
    "    return file_path\n",
    "\n",
    "# 함수를 호출합니다. 파일 경로를 적절히 조정해 주세요.\n",
    "result_file = process_and_concatenate_data('../data/csv/val/drink_all.csv')\n",
    "print(f\"Processed file saved as: {result_file}\")\n"
   ]
  },
  {
   "cell_type": "code",
   "execution_count": null,
   "metadata": {},
   "outputs": [],
   "source": []
  }
 ],
 "metadata": {
  "kernelspec": {
   "display_name": "CPR_YOLO",
   "language": "python",
   "name": "python3"
  },
  "language_info": {
   "codemirror_mode": {
    "name": "ipython",
    "version": 3
   },
   "file_extension": ".py",
   "mimetype": "text/x-python",
   "name": "python",
   "nbconvert_exporter": "python",
   "pygments_lexer": "ipython3",
   "version": "3.8.18"
  }
 },
 "nbformat": 4,
 "nbformat_minor": 2
}
