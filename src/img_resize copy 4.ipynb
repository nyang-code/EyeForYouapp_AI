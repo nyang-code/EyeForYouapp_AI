{
 "cells": [
  {
   "cell_type": "code",
   "execution_count": 1,
   "metadata": {},
   "outputs": [
    {
     "name": "stderr",
     "output_type": "stream",
     "text": [
      "  0%|          | 0/11762 [00:00<?, ?it/s]/tmp/ipykernel_62819/409097252.py:20: DeprecationWarning: ANTIALIAS is deprecated and will be removed in Pillow 10 (2023-07-01). Use LANCZOS or Resampling.LANCZOS instead.\n",
      "  img = img.resize((224, 224), Image.ANTIALIAS)  # 이미지 리사이즈\n",
      "100%|██████████| 11762/11762 [23:13<00:00,  8.44it/s]"
     ]
    },
    {
     "name": "stdout",
     "output_type": "stream",
     "text": [
      "모든 이미지가 리사이즈되어 저장되었습니다.\n"
     ]
    },
    {
     "name": "stderr",
     "output_type": "stream",
     "text": [
      "\n"
     ]
    }
   ],
   "source": [
    "import os\n",
    "from PIL import Image\n",
    "from tqdm import tqdm\n",
    "\n",
    "directory = '/home/mmc/disk2/duck/cap/data/noodle_RMBG/train/'\n",
    "# 원본 이미지가 있는 디렉토리\n",
    "input_directory = directory+'images'\n",
    "# 리사이즈된 이미지를 저장할 디렉토리\n",
    "output_directory = directory+'images_224'\n",
    "\n",
    "# 출력 디렉토리가 없으면 생성\n",
    "if not os.path.exists(output_directory):\n",
    "    os.makedirs(output_directory)\n",
    "\n",
    "# 디렉토리 내의 모든 파일을 순회\n",
    "for filename in tqdm(os.listdir(input_directory)):\n",
    "    if filename.lower().endswith(('.png', '.jpg', '.jpeg', '.bmp', '.gif')):  # 지원하는 이미지 형식\n",
    "        img_path = os.path.join(input_directory, filename)\n",
    "        img = Image.open(img_path)\n",
    "        img = img.resize((224, 224), Image.ANTIALIAS)  # 이미지 리사이즈\n",
    "        output_path = os.path.join(output_directory, filename)\n",
    "        img.save(output_path)  # 리사이즈된 이미지 저장\n",
    "\n",
    "print(\"모든 이미지가 리사이즈되어 저장되었습니다.\")\n"
   ]
  },
  {
   "cell_type": "code",
   "execution_count": null,
   "metadata": {},
   "outputs": [],
   "source": []
  }
 ],
 "metadata": {
  "kernelspec": {
   "display_name": "CPR_YOLO",
   "language": "python",
   "name": "python3"
  },
  "language_info": {
   "codemirror_mode": {
    "name": "ipython",
    "version": 3
   },
   "file_extension": ".py",
   "mimetype": "text/x-python",
   "name": "python",
   "nbconvert_exporter": "python",
   "pygments_lexer": "ipython3",
   "version": "3.8.18"
  }
 },
 "nbformat": 4,
 "nbformat_minor": 2
}
