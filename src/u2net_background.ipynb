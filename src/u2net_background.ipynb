{
 "cells": [
  {
   "cell_type": "code",
   "execution_count": 3,
   "metadata": {},
   "outputs": [
    {
     "name": "stdout",
     "output_type": "stream",
     "text": [
      "처리 완료!\n"
     ]
    }
   ],
   "source": [
    "import os\n",
    "import numpy as np\n",
    "import cv2\n",
    "from PIL import Image\n",
    "\n",
    "# 이미지 경로\n",
    "dir_path = '/home/mmc/disk2/duck/cap/U-2-Net-master/test_data/images'\n",
    "mix_path = '/home/mmc/disk2/duck/cap/U-2-Net-master/test_data/u2net_results'\n",
    "\n",
    "# 저장 경로\n",
    "save_path = '/home/mmc/disk2/duck/cap/U-2-Net-master/test_data/mix_val_data'\n",
    "\n",
    "\n",
    "# 이미지 파일 리스트\n",
    "dir_files = sorted([f for f in os.listdir(dir_path) if os.path.isfile(os.path.join(dir_path, f))])\n",
    "mix_files = sorted([f for f in os.listdir(mix_path) if os.path.isfile(os.path.join(mix_path, f))])\n",
    "\n",
    "# 이미지 처리\n",
    "for dir_file, mix_file in zip(dir_files, mix_files):\n",
    "    # 이미지 열기\n",
    "    dir_image = Image.open(os.path.join(dir_path, dir_file))\n",
    "    mix_image = Image.open(os.path.join(mix_path, mix_file))\n",
    "\n",
    "    # 이미지를 numpy 배열로 변환\n",
    "    dir_array = np.array(dir_image)\n",
    "    mix_array = np.array(mix_image)\n",
    "\n",
    "    # 배경 이미지 생성 (invert_mix_array)\n",
    "    background = cv2.bitwise_not(mix_array)\n",
    "\n",
    "    # u2net 거친 후 흰색 마스크 생성\n",
    "    white_mask = (mix_array[:, :, 0] >= 150) & (mix_array[:, :, 1] >= 150) & (mix_array[:, :, 2] >= 150)\n",
    "    white_mask_3d = np.stack([white_mask]*3, axis=-1)\n",
    "\n",
    "    # 최종 결과 이미지 생성\n",
    "    result_array = np.where(white_mask_3d, dir_array, background)\n",
    "    result_array = np.clip(result_array, 0, 255)  # 값 조정\n",
    "\n",
    "    # 결과 저장\n",
    "    result_image = Image.fromarray(result_array.astype(np.uint8))\n",
    "    result_image.save(os.path.join(save_path, dir_file))\n",
    "\n",
    "print(\"처리 완료!\")\n"
   ]
  }
 ],
 "metadata": {
  "kernelspec": {
   "display_name": "CPR_YOLO",
   "language": "python",
   "name": "python3"
  },
  "language_info": {
   "codemirror_mode": {
    "name": "ipython",
    "version": 3
   },
   "file_extension": ".py",
   "mimetype": "text/x-python",
   "name": "python",
   "nbconvert_exporter": "python",
   "pygments_lexer": "ipython3",
   "version": "3.8.18"
  }
 },
 "nbformat": 4,
 "nbformat_minor": 2
}
